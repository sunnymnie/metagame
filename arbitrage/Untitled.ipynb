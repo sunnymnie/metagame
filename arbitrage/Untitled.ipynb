{
 "cells": [
  {
   "cell_type": "markdown",
   "id": "6bafaf1d-a947-49e3-9372-b7374d96ff00",
   "metadata": {},
   "source": [
    "# Cosmos"
   ]
  },
  {
   "cell_type": "code",
   "execution_count": 1,
   "id": "9084ad87-56ce-42b0-88a8-683a44901220",
   "metadata": {},
   "outputs": [],
   "source": [
    "import pandas as pd\n",
    "import numpy as np\n",
    "import matplotlib.pyplot as plt\n",
    "import requests\n",
    "import json"
   ]
  },
  {
   "cell_type": "markdown",
   "id": "504e5632-ba0a-4868-acc1-314a8e9816bf",
   "metadata": {},
   "source": [
    "## Crescent"
   ]
  },
  {
   "cell_type": "code",
   "execution_count": 54,
   "id": "00b6a2e3-4a2e-412d-82d2-bdfb2186ab3e",
   "metadata": {},
   "outputs": [],
   "source": [
    "ratio = requests.get(\"https://apigw.crescent.network/pair/live\").json()[\"data\"]"
   ]
  },
  {
   "cell_type": "markdown",
   "id": "9d049ee6-6a50-49b1-87ea-e35509ec0f46",
   "metadata": {
    "jupyter": {
     "outputs_hidden": true
    },
    "tags": []
   },
   "source": [
    "#### ratio"
   ]
  },
  {
   "cell_type": "code",
   "execution_count": 35,
   "id": "0b23b785-782b-4018-bbb6-bccb3486849d",
   "metadata": {},
   "outputs": [],
   "source": [
    "\n",
    "# ust = list(filter(lambda x: x[\"denom\"]==\"ibc/\", ratio))[0][\"priceOracle\"]\n",
    "# base = list(filter(lambda x: x[\"denom\"]==\"ibc/\", ratio))[0][\"priceOracle\"]\n",
    "base = list(filter(lambda x: x[\"pairId\"]==5, ratio))[0][\"totalReserved\"]\n",
    "base = base[1][\"priceOracle\"]/base[0][\"priceOracle\"]\n",
    "\n",
    "    "
   ]
  },
  {
   "cell_type": "code",
   "execution_count": 56,
   "id": "9fe16dde-38b0-4ae8-8edb-62d5eba1097f",
   "metadata": {},
   "outputs": [
    {
     "data": {
      "text/plain": [
       "{'pairId': 5,\n",
       " 'baseDenom': 'ibc/C4CFF46FD6DE35CA4CF4CE031E643C8FDC9BA4B99AE598E9B0ED98FE3A2319F9',\n",
       " 'quoteDenom': 'ibc/6F4968A73F90CF7DE6394BF937D6DF7C7D162D74D839C13F53B41157D315E05F',\n",
       " 'lastPrice': '15.420000000000000000',\n",
       " 'totalReserved': [{'denom': 'ibc/6F4968A73F90CF7DE6394BF937D6DF7C7D162D74D839C13F53B41157D315E05F',\n",
       "   'amount': '2616797505957',\n",
       "   'priceOracle': 0.99472584},\n",
       "  {'denom': 'ibc/C4CFF46FD6DE35CA4CF4CE031E643C8FDC9BA4B99AE598E9B0ED98FE3A2319F9',\n",
       "   'amount': '169757218992',\n",
       "   'priceOracle': 15.25389588}]}"
      ]
     },
     "execution_count": 56,
     "metadata": {},
     "output_type": "execute_result"
    }
   ],
   "source": [
    "edgelist = []"
   ]
  },
  {
   "cell_type": "code",
   "execution_count": 37,
   "id": "582834a9-83b2-4a91-963f-4e7b77435a21",
   "metadata": {},
   "outputs": [
    {
     "data": {
      "text/plain": [
       "15.392780028152666"
      ]
     },
     "execution_count": 37,
     "metadata": {},
     "output_type": "execute_result"
    }
   ],
   "source": [
    "15.31007262/0.99462687"
   ]
  },
  {
   "cell_type": "code",
   "execution_count": null,
   "id": "3d12c7e4-3af5-4f63-91e9-40f2ebcd41e8",
   "metadata": {},
   "outputs": [],
   "source": []
  }
 ],
 "metadata": {
  "kernelspec": {
   "display_name": "Python 3 (ipykernel)",
   "language": "python",
   "name": "python3"
  },
  "language_info": {
   "codemirror_mode": {
    "name": "ipython",
    "version": 3
   },
   "file_extension": ".py",
   "mimetype": "text/x-python",
   "name": "python",
   "nbconvert_exporter": "python",
   "pygments_lexer": "ipython3",
   "version": "3.9.7"
  }
 },
 "nbformat": 4,
 "nbformat_minor": 5
}
