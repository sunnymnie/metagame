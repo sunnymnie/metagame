{
 "cells": [
  {
   "cell_type": "markdown",
   "id": "c0763181-daf5-4183-989a-2347569052e8",
   "metadata": {},
   "source": [
    "# Backtester"
   ]
  },
  {
   "cell_type": "code",
   "execution_count": 1,
   "id": "5908ab28-b940-4e01-ad5d-d479072e9070",
   "metadata": {},
   "outputs": [
    {
     "data": {
      "text/plain": [
       "<module 'model' from '/Users/SunnyNie/Documents/Investing/metagame/model.py'>"
      ]
     },
     "execution_count": 1,
     "metadata": {},
     "output_type": "execute_result"
    }
   ],
   "source": [
    "import binance_helpers as bh\n",
    "import matplotlib.pyplot as plt\n",
    "import pandas as pd\n",
    "import model as m\n",
    "import importlib\n",
    "importlib.reload(m)\n"
   ]
  },
  {
   "cell_type": "code",
   "execution_count": 99,
   "id": "e4102a6e-f813-4d1c-9092-d15dd30ec08c",
   "metadata": {},
   "outputs": [
    {
     "name": "stdout",
     "output_type": "stream",
     "text": [
      " |██████████████████████████████████████████████████| 100.0% \n"
     ]
    }
   ],
   "source": [
    "df = m.get_backtesting_df(progress=True, sleep=0.5)"
   ]
  },
  {
   "cell_type": "code",
   "execution_count": 100,
   "id": "5e23f0be-95bf-4e98-8bf8-8329a53712ac",
   "metadata": {},
   "outputs": [],
   "source": [
    "df.to_csv(\"data/backtesting.csv\")"
   ]
  },
  {
   "cell_type": "code",
   "execution_count": 101,
   "id": "6c3376c0-00e5-4f64-9f4f-9c0f28444582",
   "metadata": {},
   "outputs": [],
   "source": [
    "import ui"
   ]
  },
  {
   "cell_type": "code",
   "execution_count": 102,
   "id": "83dc1fcd-6b4c-43cd-9730-32454dc51925",
   "metadata": {},
   "outputs": [
    {
     "data": {
      "text/plain": [
       "timestamp\n",
       "2017-07-14 04:00:00    eth\n",
       "2017-07-14 05:00:00    eth\n",
       "2017-07-14 06:00:00    eth\n",
       "2017-07-14 07:00:00    eth\n",
       "2017-07-14 08:00:00    eth\n",
       "                      ... \n",
       "2022-01-21 03:00:00    btc\n",
       "2022-01-21 04:00:00    btc\n",
       "2022-01-21 05:00:00    btc\n",
       "2022-01-21 06:00:00    btc\n",
       "2022-01-21 07:00:00    btc\n",
       "Length: 41514, dtype: object"
      ]
     },
     "execution_count": 102,
     "metadata": {},
     "output_type": "execute_result"
    }
   ],
   "source": [
    "df.idxmax(axis=1)"
   ]
  },
  {
   "cell_type": "code",
   "execution_count": 17,
   "id": "aa12402e-b7d1-455f-84f3-716cdeb91395",
   "metadata": {},
   "outputs": [
    {
     "name": "stdout",
     "output_type": "stream",
     "text": [
      " |█████████████████████████████████████████████████-| 100.0% \r"
     ]
    }
   ],
   "source": [
    "for i in range(1, len(df)):\n",
    "    (df.iloc[i]-df.iloc[i-1])/df.iloc[i-1]\n",
    "    ui.printProgressBar(i, len(df))"
   ]
  },
  {
   "cell_type": "code",
   "execution_count": 103,
   "id": "a6ab8fd3-cb99-4eaa-babc-ec819e9adcbf",
   "metadata": {},
   "outputs": [],
   "source": [
    "pct = (df - df.shift(1))/df.shift(1)\n",
    "pct.drop(\"btc\", inplace=True, axis=1)\n",
    "pct.dropna(how=\"all\", inplace=True)"
   ]
  },
  {
   "cell_type": "code",
   "execution_count": 104,
   "id": "032a8922-fbe7-4f17-99a8-f96e8cfe024c",
   "metadata": {},
   "outputs": [],
   "source": [
    "best = pct.idxmax(axis=1).shift(1)"
   ]
  },
  {
   "cell_type": "code",
   "execution_count": 112,
   "id": "363d381d-029b-4968-a186-4a12bcf4982e",
   "metadata": {},
   "outputs": [
    {
     "name": "stdout",
     "output_type": "stream",
     "text": [
      " |█████████████████████████████████████████████████-| 100.0% \r"
     ]
    }
   ],
   "source": [
    "returns = []\n",
    "total = len(pct)\n",
    "for i in range(2, total):\n",
    "    # if pct.iloc[i-1][best.iloc[i]]<0:\n",
    "    #     returns.append(0)\n",
    "    # else:\n",
    "    returns.append(-pct.iloc[i][best.iloc[i]]-0.002)\n",
    "    ui.printProgressBar(i, total)\n",
    "    "
   ]
  },
  {
   "cell_type": "code",
   "execution_count": 113,
   "id": "1ff8d768-3f97-43e9-9543-a070e9739355",
   "metadata": {},
   "outputs": [
    {
     "data": {
      "text/plain": [
       "<AxesSubplot:>"
      ]
     },
     "execution_count": 113,
     "metadata": {},
     "output_type": "execute_result"
    },
    {
     "data": {
      "image/png": "[encoded data removed]",
      "text/plain": [
       "<Figure size 432x288 with 1 Axes>"
      ]
     },
     "metadata": {
      "needs_background": "light"
     },
     "output_type": "display_data"
    }
   ],
   "source": [
    "pd.Series(returns).cumsum().plot()"
   ]
  },
  {
   "cell_type": "code",
   "execution_count": 110,
   "id": "d0e3c5c0-a058-4c6f-bd2d-9ffc6f882777",
   "metadata": {},
   "outputs": [
    {
     "data": {
      "text/plain": [
       "[-0.04858385093167703,\n",
       " 0.011600395647873454,\n",
       " -0.002,\n",
       " 0.030258064516129064,\n",
       " 0.01621493624772318,\n",
       " 0.027411764705882323,\n",
       " 0.06251612903225813,\n",
       " 0.006107012565869456,\n",
       " 0.031333333333333366,\n",
       " 0.04141085271317827,\n",
       " -0.015788554557447054,\n",
       " 0.0009399412011759341,\n",
       " 0.012724310776942409,\n",
       " 5.690778196775544e-05,\n",
       " 0.019276595744680873]"
      ]
     },
     "execution_count": 110,
     "metadata": {},
     "output_type": "execute_result"
    }
   ],
   "source": [
    "returns[-15:]"
   ]
  },
  {
   "cell_type": "code",
   "execution_count": null,
   "id": "f899ed56-d6c1-4553-800b-2583af6a1d79",
   "metadata": {},
   "outputs": [],
   "source": []
  }
 ],
 "metadata": {
  "kernelspec": {
   "display_name": "Python 3 (ipykernel)",
   "language": "python",
   "name": "python3"
  },
  "language_info": {
   "codemirror_mode": {
    "name": "ipython",
    "version": 3
   },
   "file_extension": ".py",
   "mimetype": "text/x-python",
   "name": "python",
   "nbconvert_exporter": "python",
   "pygments_lexer": "ipython3",
   "version": "3.9.7"
  }
 },
 "nbformat": 4,
 "nbformat_minor": 5
}
