{
 "cells": [
  {
   "cell_type": "markdown",
   "id": "c0763181-daf5-4183-989a-2347569052e8",
   "metadata": {},
   "source": [
    "# Backtester"
   ]
  },
  {
   "cell_type": "code",
   "execution_count": 44,
   "id": "5908ab28-b940-4e01-ad5d-d479072e9070",
   "metadata": {},
   "outputs": [
    {
     "data": {
      "text/plain": [
       "<module 'model' from '/Users/SunnyNie/Documents/Investing/metagame/model.py'>"
      ]
     },
     "execution_count": 44,
     "metadata": {},
     "output_type": "execute_result"
    }
   ],
   "source": [
    "import binance_helpers as bh\n",
    "import matplotlib.pyplot as plt\n",
    "import pandas as pd\n",
    "import numpy as np\n",
    "import model as m\n",
    "import ui\n",
    "import importlib\n",
    "importlib.reload(m)\n"
   ]
  },
  {
   "cell_type": "code",
   "execution_count": 528,
   "id": "e4102a6e-f813-4d1c-9092-d15dd30ec08c",
   "metadata": {},
   "outputs": [
    {
     "name": "stdout",
     "output_type": "stream",
     "text": [
      " |██████████████████████████████████████████████████| 100.0% \n"
     ]
    }
   ],
   "source": [
    "df = m.get_backtesting_df(progress=True, sleep=0.5)"
   ]
  },
  {
   "cell_type": "code",
   "execution_count": 529,
   "id": "a6ab8fd3-cb99-4eaa-babc-ec819e9adcbf",
   "metadata": {},
   "outputs": [
    {
     "data": {
      "text/html": [
       "<div>\n",
       "<style scoped>\n",
       "    .dataframe tbody tr th:only-of-type {\n",
       "        vertical-align: middle;\n",
       "    }\n",
       "\n",
       "    .dataframe tbody tr th {\n",
       "        vertical-align: top;\n",
       "    }\n",
       "\n",
       "    .dataframe thead th {\n",
       "        text-align: right;\n",
       "    }\n",
       "</style>\n",
       "<table border=\"1\" class=\"dataframe\">\n",
       "  <thead>\n",
       "    <tr style=\"text-align: right;\">\n",
       "      <th></th>\n",
       "      <th>1inch</th>\n",
       "      <th>aave</th>\n",
       "      <th>ada</th>\n",
       "      <th>agld</th>\n",
       "      <th>aion</th>\n",
       "      <th>akro</th>\n",
       "      <th>alcx</th>\n",
       "      <th>algo</th>\n",
       "      <th>alice</th>\n",
       "      <th>alpha</th>\n",
       "      <th>...</th>\n",
       "      <th>key</th>\n",
       "      <th>klay</th>\n",
       "      <th>mask</th>\n",
       "      <th>mft</th>\n",
       "      <th>npxs</th>\n",
       "      <th>nu</th>\n",
       "      <th>ray</th>\n",
       "      <th>shib</th>\n",
       "      <th>twt</th>\n",
       "      <th>vtho</th>\n",
       "    </tr>\n",
       "    <tr>\n",
       "      <th>timestamp</th>\n",
       "      <th></th>\n",
       "      <th></th>\n",
       "      <th></th>\n",
       "      <th></th>\n",
       "      <th></th>\n",
       "      <th></th>\n",
       "      <th></th>\n",
       "      <th></th>\n",
       "      <th></th>\n",
       "      <th></th>\n",
       "      <th></th>\n",
       "      <th></th>\n",
       "      <th></th>\n",
       "      <th></th>\n",
       "      <th></th>\n",
       "      <th></th>\n",
       "      <th></th>\n",
       "      <th></th>\n",
       "      <th></th>\n",
       "      <th></th>\n",
       "      <th></th>\n",
       "    </tr>\n",
       "  </thead>\n",
       "  <tbody>\n",
       "    <tr>\n",
       "      <th>2022-01-22 02:00:00</th>\n",
       "      <td>-0.005564</td>\n",
       "      <td>-0.012772</td>\n",
       "      <td>0.003950</td>\n",
       "      <td>-0.014033</td>\n",
       "      <td>0.001470</td>\n",
       "      <td>-0.006829</td>\n",
       "      <td>0.001541</td>\n",
       "      <td>-0.020217</td>\n",
       "      <td>-0.008274</td>\n",
       "      <td>-0.011697</td>\n",
       "      <td>...</td>\n",
       "      <td>-0.014080</td>\n",
       "      <td>-0.008141</td>\n",
       "      <td>-0.001694</td>\n",
       "      <td>-0.002605</td>\n",
       "      <td>NaN</td>\n",
       "      <td>-0.001913</td>\n",
       "      <td>-0.008973</td>\n",
       "      <td>-0.002246</td>\n",
       "      <td>-0.006966</td>\n",
       "      <td>0.017034</td>\n",
       "    </tr>\n",
       "    <tr>\n",
       "      <th>2022-01-22 03:00:00</th>\n",
       "      <td>-0.006452</td>\n",
       "      <td>-0.013473</td>\n",
       "      <td>-0.002690</td>\n",
       "      <td>-0.006011</td>\n",
       "      <td>-0.002758</td>\n",
       "      <td>-0.010491</td>\n",
       "      <td>-0.017576</td>\n",
       "      <td>-0.006435</td>\n",
       "      <td>-0.009135</td>\n",
       "      <td>-0.006772</td>\n",
       "      <td>...</td>\n",
       "      <td>-0.011722</td>\n",
       "      <td>0.009767</td>\n",
       "      <td>-0.011076</td>\n",
       "      <td>0.003286</td>\n",
       "      <td>NaN</td>\n",
       "      <td>-0.003435</td>\n",
       "      <td>-0.006071</td>\n",
       "      <td>-0.004187</td>\n",
       "      <td>-0.001531</td>\n",
       "      <td>-0.020752</td>\n",
       "    </tr>\n",
       "    <tr>\n",
       "      <th>2022-01-22 04:00:00</th>\n",
       "      <td>-0.002537</td>\n",
       "      <td>-0.001431</td>\n",
       "      <td>-0.001431</td>\n",
       "      <td>-0.006714</td>\n",
       "      <td>-0.003505</td>\n",
       "      <td>-0.002912</td>\n",
       "      <td>-0.008744</td>\n",
       "      <td>-0.002513</td>\n",
       "      <td>-0.002700</td>\n",
       "      <td>-0.004235</td>\n",
       "      <td>...</td>\n",
       "      <td>-0.008623</td>\n",
       "      <td>-0.000651</td>\n",
       "      <td>-0.010235</td>\n",
       "      <td>0.000092</td>\n",
       "      <td>NaN</td>\n",
       "      <td>-0.015634</td>\n",
       "      <td>-0.005738</td>\n",
       "      <td>-0.006841</td>\n",
       "      <td>-0.006774</td>\n",
       "      <td>-0.005545</td>\n",
       "    </tr>\n",
       "  </tbody>\n",
       "</table>\n",
       "<p>3 rows × 230 columns</p>\n",
       "</div>"
      ],
      "text/plain": [
       "                        1inch      aave       ada      agld      aion  \\\n",
       "timestamp                                                               \n",
       "2022-01-22 02:00:00 -0.005564 -0.012772  0.003950 -0.014033  0.001470   \n",
       "2022-01-22 03:00:00 -0.006452 -0.013473 -0.002690 -0.006011 -0.002758   \n",
       "2022-01-22 04:00:00 -0.002537 -0.001431 -0.001431 -0.006714 -0.003505   \n",
       "\n",
       "                         akro      alcx      algo     alice     alpha  ...  \\\n",
       "timestamp                                                              ...   \n",
       "2022-01-22 02:00:00 -0.006829  0.001541 -0.020217 -0.008274 -0.011697  ...   \n",
       "2022-01-22 03:00:00 -0.010491 -0.017576 -0.006435 -0.009135 -0.006772  ...   \n",
       "2022-01-22 04:00:00 -0.002912 -0.008744 -0.002513 -0.002700 -0.004235  ...   \n",
       "\n",
       "                          key      klay      mask       mft  npxs        nu  \\\n",
       "timestamp                                                                     \n",
       "2022-01-22 02:00:00 -0.014080 -0.008141 -0.001694 -0.002605   NaN -0.001913   \n",
       "2022-01-22 03:00:00 -0.011722  0.009767 -0.011076  0.003286   NaN -0.003435   \n",
       "2022-01-22 04:00:00 -0.008623 -0.000651 -0.010235  0.000092   NaN -0.015634   \n",
       "\n",
       "                          ray      shib       twt      vtho  \n",
       "timestamp                                                    \n",
       "2022-01-22 02:00:00 -0.008973 -0.002246 -0.006966  0.017034  \n",
       "2022-01-22 03:00:00 -0.006071 -0.004187 -0.001531 -0.020752  \n",
       "2022-01-22 04:00:00 -0.005738 -0.006841 -0.006774 -0.005545  \n",
       "\n",
       "[3 rows x 230 columns]"
      ]
     },
     "execution_count": 529,
     "metadata": {},
     "output_type": "execute_result"
    }
   ],
   "source": [
    "pct = (df - df.shift(1))/df.shift(1)\n",
    "pct.drop(\"btc\", inplace=True, axis=1)\n",
    "pct.drop(\"busd\", inplace=True, axis=1)\n",
    "pct.dropna(how=\"all\", inplace=True)\n",
    "pct.tail(3)"
   ]
  },
  {
   "cell_type": "code",
   "execution_count": 530,
   "id": "15d8330a-34e2-427e-8fe4-a05346235381",
   "metadata": {},
   "outputs": [],
   "source": [
    "pct_ = pct.resample(\"2H\").sum().replace(0, np.nan)"
   ]
  },
  {
   "cell_type": "code",
   "execution_count": 531,
   "id": "95a1c38c-cc2d-4733-b1d9-0e1d3db16ce2",
   "metadata": {},
   "outputs": [],
   "source": [
    "pct_r = list(map(lambda x: pct_.iloc[x].sort_values(ascending=False).index, range(len(pct_))))"
   ]
  },
  {
   "cell_type": "code",
   "execution_count": 532,
   "id": "de5c4464-8680-440c-acc0-b4e67a881a84",
   "metadata": {},
   "outputs": [],
   "source": [
    "best = pct_r.copy()\n",
    "best.insert(0, best[-1])\n",
    "del best[-1]"
   ]
  },
  {
   "cell_type": "code",
   "execution_count": 533,
   "id": "363d381d-029b-4968-a186-4a12bcf4982e",
   "metadata": {},
   "outputs": [],
   "source": [
    "def get_returns(pct, best, num=3):\n",
    "    returns = []\n",
    "    total = len(pct)\n",
    "    for i in range(2, total):\n",
    "        # if pct.iloc[i-1][best.iloc[i]]<0:\n",
    "        #     returns.append(0)\n",
    "        # else:\n",
    "        row = pct.iloc[i]\n",
    "        gain = sum(list(map(lambda x: row[best[i][x]], range(num))))/num\n",
    "        if np.isnan(gain):\n",
    "            gain = 0\n",
    "        returns.append(-gain)\n",
    "        ui.printProgressBar(i, total)\n",
    "    return returns\n"
   ]
  },
  {
   "cell_type": "code",
   "execution_count": 534,
   "id": "ff5ab282-a894-42f1-8533-a18b04664890",
   "metadata": {},
   "outputs": [
    {
     "name": "stdout",
     "output_type": "stream",
     "text": [
      " |█████████████████████████████████████████████████-| 100.0% \r"
     ]
    }
   ],
   "source": [
    "returns = get_returns(pct_, best, num=1)"
   ]
  },
  {
   "cell_type": "code",
   "execution_count": 535,
   "id": "18dc91b2-c2f3-4d7b-be9e-f1656c052757",
   "metadata": {},
   "outputs": [],
   "source": [
    "r = list(map(lambda x: x-0.004, returns))"
   ]
  },
  {
   "cell_type": "code",
   "execution_count": 536,
   "id": "d1daca96-e781-40a1-9667-c0480c804922",
   "metadata": {},
   "outputs": [
    {
     "data": {
      "text/plain": [
       "19427"
      ]
     },
     "execution_count": 536,
     "metadata": {},
     "output_type": "execute_result"
    }
   ],
   "source": [
    "len(r)"
   ]
  },
  {
   "cell_type": "code",
   "execution_count": 537,
   "id": "13108aeb-f80a-46f8-8de0-f4912220df35",
   "metadata": {},
   "outputs": [
    {
     "data": {
      "text/plain": [
       "<AxesSubplot:>"
      ]
     },
     "execution_count": 537,
     "metadata": {},
     "output_type": "execute_result"
    },
    {
     "data": {
      "image/png": "[encoded data removed]",
      "text/plain": [
       "<Figure size 432x288 with 1 Axes>"
      ]
     },
     "metadata": {
      "needs_background": "light"
     },
     "output_type": "display_data"
    }
   ],
   "source": [
    "cumsum = pd.Series(r).cumsum()\n",
    "cumsum.plot()"
   ]
  },
  {
   "cell_type": "code",
   "execution_count": 975,
   "id": "931c8ce8-c3bc-4e23-879f-a21234b93ed1",
   "metadata": {},
   "outputs": [
    {
     "data": {
      "text/plain": [
       "<AxesSubplot:>"
      ]
     },
     "execution_count": 975,
     "metadata": {},
     "output_type": "execute_result"
    },
    {
     "data": {
      "image/png": "[encoded data removed]",
      "text/plain": [
       "<Figure size 432x288 with 1 Axes>"
      ]
     },
     "metadata": {
      "needs_background": "light"
     },
     "output_type": "display_data"
    }
   ],
   "source": [
    "cumsum.iloc[-12*5:].plot()"
   ]
  },
  {
   "cell_type": "code",
   "execution_count": 544,
   "id": "9aac9b08-42f3-4ed2-a1cc-8fe78ba4ad01",
   "metadata": {},
   "outputs": [],
   "source": [
    "t = 1\n",
    "r_ = list(map(lambda x: x+1, r[-12*1:]))\n",
    "for num in r_:\n",
    "    t*=num\n"
   ]
  },
  {
   "cell_type": "code",
   "execution_count": 545,
   "id": "cdf4763a-95d2-4186-844f-8fae753393f9",
   "metadata": {},
   "outputs": [
    {
     "data": {
      "text/plain": [
       "0.940150789016868"
      ]
     },
     "execution_count": 545,
     "metadata": {},
     "output_type": "execute_result"
    }
   ],
   "source": [
    "t"
   ]
  },
  {
   "cell_type": "markdown",
   "id": "f1a2c491-f36e-4571-b7e5-964a2fab9227",
   "metadata": {},
   "source": [
    "## Testing"
   ]
  },
  {
   "cell_type": "code",
   "execution_count": 758,
   "id": "be35bbb8-297b-4244-91a6-09f886bce1e8",
   "metadata": {},
   "outputs": [],
   "source": [
    "from datetime import datetime, timedelta\n",
    "client = bh.new_binance_client()"
   ]
  },
  {
   "cell_type": "code",
   "execution_count": 886,
   "id": "dc29f93a-cfbf-4fc0-912f-4ab3d2b2ac8d",
   "metadata": {},
   "outputs": [],
   "source": [
    "i = -100"
   ]
  },
  {
   "cell_type": "code",
   "execution_count": 970,
   "id": "6342958a-f4cd-45c6-adcd-621ab2e09d26",
   "metadata": {},
   "outputs": [],
   "source": [
    "i -= 1"
   ]
  },
  {
   "cell_type": "code",
   "execution_count": 971,
   "id": "9bd3d179-43c2-4016-8ebe-6d1a0c086732",
   "metadata": {},
   "outputs": [],
   "source": [
    "s = pct_.iloc[i].name\n",
    "e = s+timedelta(hours=2)\n",
    "ss = (s-timedelta(hours=2)).strftime(\"%d %b %Y %H:%M:%S\")\n",
    "es = (e+timedelta(hours=2)).strftime(\"%d %b %Y %H:%M:%S\")\n",
    "name = best[i][0].upper()+\"BTC\""
   ]
  },
  {
   "cell_type": "code",
   "execution_count": 972,
   "id": "8a2d4dc8-b7a2-4a06-b58b-8e157502ce75",
   "metadata": {},
   "outputs": [
    {
     "name": "stdout",
     "output_type": "stream",
     "text": [
      "-118: Expected return for OMGBTC on 12 Jan 2022 08:00:00: -2.06%\n"
     ]
    }
   ],
   "source": [
    "print(f\"{i}: Expected return for {name} on {ss}: {round(pct_.iloc[i][best[i][0]]*100, 2)}%\")"
   ]
  },
  {
   "cell_type": "code",
   "execution_count": 973,
   "id": "6e27e922-fe11-455f-8384-27e9b3b13a0a",
   "metadata": {},
   "outputs": [],
   "source": [
    "klines = client.get_historical_klines(symbol=name, interval = \"1m\", start_str=ss, end_str=es)"
   ]
  },
  {
   "cell_type": "code",
   "execution_count": 974,
   "id": "8c7ddc25-7dd1-46a6-a402-580b0dbbd7d3",
   "metadata": {},
   "outputs": [
    {
     "data": {
      "text/plain": [
       "<matplotlib.lines.Line2D at 0x7fa40c53ec40>"
      ]
     },
     "execution_count": 974,
     "metadata": {},
     "output_type": "execute_result"
    },
    {
     "data": {
      "image/png": "[encoded data removed]",
      "text/plain": [
       "<Figure size 1080x288 with 1 Axes>"
      ]
     },
     "metadata": {
      "needs_background": "light"
     },
     "output_type": "display_data"
    }
   ],
   "source": [
    "d = pd.DataFrame(list(map(lambda x: float(x[4]), klines)), \n",
    "                  index=list(map(lambda x: datetime.fromtimestamp(x[0] / 1e3), klines)), \n",
    "                  columns=['price'])\n",
    "fig, ax = plt.subplots(figsize=(15,4))\n",
    "ax.plot(d.index, d.price)\n",
    "ax.axvline(s-timedelta(hours=8))\n",
    "ax.axvline(e-timedelta(hours=8))"
   ]
  },
  {
   "cell_type": "markdown",
   "id": "5d9ac263-ee38-491e-822c-48ab615e227b",
   "metadata": {},
   "source": [
    "### UTC hell"
   ]
  },
  {
   "cell_type": "code",
   "execution_count": 793,
   "id": "e04074b8-3550-4fa6-8dd5-196519a0b3bc",
   "metadata": {},
   "outputs": [],
   "source": [
    "ss = (datetime.utcnow()-timedelta(hours=2)).strftime(\"%d %b %Y %H:%M:%S\")\n",
    "es = (datetime.utcnow()+timedelta(hours=2)).strftime(\"%d %b %Y %H:%M:%S\")"
   ]
  },
  {
   "cell_type": "code",
   "execution_count": 794,
   "id": "474768b4-5154-40f6-a332-162358c14a6a",
   "metadata": {},
   "outputs": [],
   "source": [
    "klines = client.get_historical_klines(symbol=name, interval = \"1m\", start_str=ss, end_str=es)"
   ]
  },
  {
   "cell_type": "code",
   "execution_count": 795,
   "id": "5d388ad8-c5ea-4e97-99bd-6a812924261e",
   "metadata": {},
   "outputs": [
    {
     "data": {
      "text/plain": [
       "[<matplotlib.lines.Line2D at 0x7fa4033daac0>]"
      ]
     },
     "execution_count": 795,
     "metadata": {},
     "output_type": "execute_result"
    },
    {
     "data": {
      "image/png": "[encoded data removed]",
      "text/plain": [
       "<Figure size 1080x288 with 1 Axes>"
      ]
     },
     "metadata": {
      "needs_background": "light"
     },
     "output_type": "display_data"
    }
   ],
   "source": [
    "d = pd.DataFrame(list(map(lambda x: float(x[4]), klines)), \n",
    "                  index=list(map(lambda x: datetime.fromtimestamp(x[0] / 1e3), klines)), \n",
    "                  columns=['price'])\n",
    "fig, ax = plt.subplots(figsize=(15,4))\n",
    "ax.plot(d.index, d.price)\n",
    "# ax.axvline(s)\n",
    "# ax.axvline(e)"
   ]
  },
  {
   "cell_type": "markdown",
   "id": "3615a9ca-dde6-4cac-9ec3-222a3b8996fb",
   "metadata": {},
   "source": [
    "## Forwardtesting"
   ]
  },
  {
   "cell_type": "code",
   "execution_count": 539,
   "id": "31137560-be64-447e-9f27-e90a7d6ca038",
   "metadata": {},
   "outputs": [
    {
     "data": {
      "text/plain": [
       "Index(['req', 'mdt', 'jasmy', 'ong', 'forth', 'auction', 'wnxm', 'dusk',\n",
       "       'front', 'ilv',\n",
       "       ...\n",
       "       'fis', 'nano', 'skl', 'srm', 'gala', 'nu', 'vgx', 'mkr', 'btt', 'npxs'],\n",
       "      dtype='object', length=230)"
      ]
     },
     "execution_count": 539,
     "metadata": {},
     "output_type": "execute_result"
    }
   ],
   "source": [
    "pct_r[-1]"
   ]
  },
  {
   "cell_type": "code",
   "execution_count": 550,
   "id": "f001bb0b-df35-4293-a102-7efa857bdd9b",
   "metadata": {},
   "outputs": [
    {
     "data": {
      "text/plain": [
       "Index(['celr', 'rgt', 'rndr', 'wnxm', 'ong', 'firo', 'atom', 'vgx', 'klay',\n",
       "       'ada',\n",
       "       ...\n",
       "       'near', 'perp', 'dusk', 'dydx', 'chr', 'auction', 'jasmy', 'icp', 'btt',\n",
       "       'npxs'],\n",
       "      dtype='object', length=230)"
      ]
     },
     "execution_count": 550,
     "metadata": {},
     "output_type": "execute_result"
    }
   ],
   "source": [
    "pct_r[-2]"
   ]
  },
  {
   "cell_type": "code",
   "execution_count": 554,
   "id": "b5ce6a7e-26fa-4d2f-afc9-a01f1627c5c1",
   "metadata": {},
   "outputs": [
    {
     "data": {
      "text/html": [
       "<div>\n",
       "<style scoped>\n",
       "    .dataframe tbody tr th:only-of-type {\n",
       "        vertical-align: middle;\n",
       "    }\n",
       "\n",
       "    .dataframe tbody tr th {\n",
       "        vertical-align: top;\n",
       "    }\n",
       "\n",
       "    .dataframe thead th {\n",
       "        text-align: right;\n",
       "    }\n",
       "</style>\n",
       "<table border=\"1\" class=\"dataframe\">\n",
       "  <thead>\n",
       "    <tr style=\"text-align: right;\">\n",
       "      <th></th>\n",
       "      <th>1inch</th>\n",
       "      <th>aave</th>\n",
       "      <th>ada</th>\n",
       "      <th>agld</th>\n",
       "      <th>aion</th>\n",
       "      <th>akro</th>\n",
       "      <th>alcx</th>\n",
       "      <th>algo</th>\n",
       "      <th>alice</th>\n",
       "      <th>alpha</th>\n",
       "      <th>...</th>\n",
       "      <th>key</th>\n",
       "      <th>klay</th>\n",
       "      <th>mask</th>\n",
       "      <th>mft</th>\n",
       "      <th>npxs</th>\n",
       "      <th>nu</th>\n",
       "      <th>ray</th>\n",
       "      <th>shib</th>\n",
       "      <th>twt</th>\n",
       "      <th>vtho</th>\n",
       "    </tr>\n",
       "    <tr>\n",
       "      <th>timestamp</th>\n",
       "      <th></th>\n",
       "      <th></th>\n",
       "      <th></th>\n",
       "      <th></th>\n",
       "      <th></th>\n",
       "      <th></th>\n",
       "      <th></th>\n",
       "      <th></th>\n",
       "      <th></th>\n",
       "      <th></th>\n",
       "      <th></th>\n",
       "      <th></th>\n",
       "      <th></th>\n",
       "      <th></th>\n",
       "      <th></th>\n",
       "      <th></th>\n",
       "      <th></th>\n",
       "      <th></th>\n",
       "      <th></th>\n",
       "      <th></th>\n",
       "      <th></th>\n",
       "    </tr>\n",
       "  </thead>\n",
       "  <tbody>\n",
       "    <tr>\n",
       "      <th>2022-01-21 20:00:00</th>\n",
       "      <td>-0.030973</td>\n",
       "      <td>-0.033229</td>\n",
       "      <td>-0.002109</td>\n",
       "      <td>-0.026499</td>\n",
       "      <td>-0.010390</td>\n",
       "      <td>-0.026142</td>\n",
       "      <td>-0.054583</td>\n",
       "      <td>-0.043896</td>\n",
       "      <td>-0.039669</td>\n",
       "      <td>-0.027491</td>\n",
       "      <td>...</td>\n",
       "      <td>-0.042721</td>\n",
       "      <td>0.004100</td>\n",
       "      <td>-0.043272</td>\n",
       "      <td>-0.012450</td>\n",
       "      <td>NaN</td>\n",
       "      <td>-0.002207</td>\n",
       "      <td>-0.013483</td>\n",
       "      <td>-0.053459</td>\n",
       "      <td>-0.022458</td>\n",
       "      <td>-0.051624</td>\n",
       "    </tr>\n",
       "    <tr>\n",
       "      <th>2022-01-21 22:00:00</th>\n",
       "      <td>0.055627</td>\n",
       "      <td>0.007091</td>\n",
       "      <td>-0.011940</td>\n",
       "      <td>-0.019799</td>\n",
       "      <td>0.006557</td>\n",
       "      <td>0.005810</td>\n",
       "      <td>-0.015917</td>\n",
       "      <td>-0.002485</td>\n",
       "      <td>-0.010796</td>\n",
       "      <td>0.000630</td>\n",
       "      <td>...</td>\n",
       "      <td>-0.007396</td>\n",
       "      <td>-0.004512</td>\n",
       "      <td>0.002828</td>\n",
       "      <td>-0.025476</td>\n",
       "      <td>NaN</td>\n",
       "      <td>-0.009293</td>\n",
       "      <td>0.021823</td>\n",
       "      <td>-0.009899</td>\n",
       "      <td>-0.000785</td>\n",
       "      <td>-0.007559</td>\n",
       "    </tr>\n",
       "    <tr>\n",
       "      <th>2022-01-22 00:00:00</th>\n",
       "      <td>-0.005339</td>\n",
       "      <td>0.017580</td>\n",
       "      <td>0.015851</td>\n",
       "      <td>0.001043</td>\n",
       "      <td>-0.003000</td>\n",
       "      <td>0.010683</td>\n",
       "      <td>0.031764</td>\n",
       "      <td>0.014104</td>\n",
       "      <td>0.010252</td>\n",
       "      <td>0.026991</td>\n",
       "      <td>...</td>\n",
       "      <td>0.008803</td>\n",
       "      <td>0.014765</td>\n",
       "      <td>0.012331</td>\n",
       "      <td>0.015930</td>\n",
       "      <td>NaN</td>\n",
       "      <td>0.015604</td>\n",
       "      <td>-0.002170</td>\n",
       "      <td>0.005259</td>\n",
       "      <td>0.009087</td>\n",
       "      <td>0.015018</td>\n",
       "    </tr>\n",
       "    <tr>\n",
       "      <th>2022-01-22 02:00:00</th>\n",
       "      <td>-0.012016</td>\n",
       "      <td>-0.026245</td>\n",
       "      <td>0.001260</td>\n",
       "      <td>-0.020043</td>\n",
       "      <td>-0.001287</td>\n",
       "      <td>-0.017320</td>\n",
       "      <td>-0.016035</td>\n",
       "      <td>-0.026651</td>\n",
       "      <td>-0.017408</td>\n",
       "      <td>-0.018469</td>\n",
       "      <td>...</td>\n",
       "      <td>-0.025801</td>\n",
       "      <td>0.001626</td>\n",
       "      <td>-0.012770</td>\n",
       "      <td>0.000680</td>\n",
       "      <td>NaN</td>\n",
       "      <td>-0.005348</td>\n",
       "      <td>-0.015044</td>\n",
       "      <td>-0.006433</td>\n",
       "      <td>-0.008497</td>\n",
       "      <td>-0.003718</td>\n",
       "    </tr>\n",
       "    <tr>\n",
       "      <th>2022-01-22 04:00:00</th>\n",
       "      <td>-0.002537</td>\n",
       "      <td>-0.001431</td>\n",
       "      <td>-0.001431</td>\n",
       "      <td>-0.006714</td>\n",
       "      <td>-0.003505</td>\n",
       "      <td>-0.002912</td>\n",
       "      <td>-0.008744</td>\n",
       "      <td>-0.002513</td>\n",
       "      <td>-0.002700</td>\n",
       "      <td>-0.004235</td>\n",
       "      <td>...</td>\n",
       "      <td>-0.008623</td>\n",
       "      <td>-0.000651</td>\n",
       "      <td>-0.010235</td>\n",
       "      <td>0.000092</td>\n",
       "      <td>NaN</td>\n",
       "      <td>-0.015634</td>\n",
       "      <td>-0.005738</td>\n",
       "      <td>-0.006841</td>\n",
       "      <td>-0.006774</td>\n",
       "      <td>-0.005545</td>\n",
       "    </tr>\n",
       "  </tbody>\n",
       "</table>\n",
       "<p>5 rows × 230 columns</p>\n",
       "</div>"
      ],
      "text/plain": [
       "                        1inch      aave       ada      agld      aion  \\\n",
       "timestamp                                                               \n",
       "2022-01-21 20:00:00 -0.030973 -0.033229 -0.002109 -0.026499 -0.010390   \n",
       "2022-01-21 22:00:00  0.055627  0.007091 -0.011940 -0.019799  0.006557   \n",
       "2022-01-22 00:00:00 -0.005339  0.017580  0.015851  0.001043 -0.003000   \n",
       "2022-01-22 02:00:00 -0.012016 -0.026245  0.001260 -0.020043 -0.001287   \n",
       "2022-01-22 04:00:00 -0.002537 -0.001431 -0.001431 -0.006714 -0.003505   \n",
       "\n",
       "                         akro      alcx      algo     alice     alpha  ...  \\\n",
       "timestamp                                                              ...   \n",
       "2022-01-21 20:00:00 -0.026142 -0.054583 -0.043896 -0.039669 -0.027491  ...   \n",
       "2022-01-21 22:00:00  0.005810 -0.015917 -0.002485 -0.010796  0.000630  ...   \n",
       "2022-01-22 00:00:00  0.010683  0.031764  0.014104  0.010252  0.026991  ...   \n",
       "2022-01-22 02:00:00 -0.017320 -0.016035 -0.026651 -0.017408 -0.018469  ...   \n",
       "2022-01-22 04:00:00 -0.002912 -0.008744 -0.002513 -0.002700 -0.004235  ...   \n",
       "\n",
       "                          key      klay      mask       mft  npxs        nu  \\\n",
       "timestamp                                                                     \n",
       "2022-01-21 20:00:00 -0.042721  0.004100 -0.043272 -0.012450   NaN -0.002207   \n",
       "2022-01-21 22:00:00 -0.007396 -0.004512  0.002828 -0.025476   NaN -0.009293   \n",
       "2022-01-22 00:00:00  0.008803  0.014765  0.012331  0.015930   NaN  0.015604   \n",
       "2022-01-22 02:00:00 -0.025801  0.001626 -0.012770  0.000680   NaN -0.005348   \n",
       "2022-01-22 04:00:00 -0.008623 -0.000651 -0.010235  0.000092   NaN -0.015634   \n",
       "\n",
       "                          ray      shib       twt      vtho  \n",
       "timestamp                                                    \n",
       "2022-01-21 20:00:00 -0.013483 -0.053459 -0.022458 -0.051624  \n",
       "2022-01-21 22:00:00  0.021823 -0.009899 -0.000785 -0.007559  \n",
       "2022-01-22 00:00:00 -0.002170  0.005259  0.009087  0.015018  \n",
       "2022-01-22 02:00:00 -0.015044 -0.006433 -0.008497 -0.003718  \n",
       "2022-01-22 04:00:00 -0.005738 -0.006841 -0.006774 -0.005545  \n",
       "\n",
       "[5 rows x 230 columns]"
      ]
     },
     "execution_count": 554,
     "metadata": {},
     "output_type": "execute_result"
    }
   ],
   "source": [
    "pct_.tail()"
   ]
  },
  {
   "cell_type": "code",
   "execution_count": 80,
   "id": "fb949564-ccbb-401d-a958-29ee902e5385",
   "metadata": {},
   "outputs": [],
   "source": [
    "btc = pd.read_csv(\"data/BTCUSDT.csv\")"
   ]
  },
  {
   "cell_type": "code",
   "execution_count": 84,
   "id": "96494e91-4eee-49b0-a123-a4caaa9fa477",
   "metadata": {},
   "outputs": [
    {
     "data": {
      "text/plain": [
       "<AxesSubplot:>"
      ]
     },
     "execution_count": 84,
     "metadata": {},
     "output_type": "execute_result"
    },
    {
     "data": {
      "image/png": "[encoded data removed]",
      "text/plain": [
       "<Figure size 432x288 with 1 Axes>"
      ]
     },
     "metadata": {
      "needs_background": "light"
     },
     "output_type": "display_data"
    }
   ],
   "source": [
    "btc.iloc[-24*300:].close.plot()"
   ]
  },
  {
   "cell_type": "code",
   "execution_count": 73,
   "id": "f899ed56-d6c1-4553-800b-2583af6a1d79",
   "metadata": {},
   "outputs": [
    {
     "data": {
      "text/plain": [
       "timestamp\n",
       "2022-01-21 08:00:00     mdt\n",
       "2022-01-21 09:00:00     dia\n",
       "2022-01-21 10:00:00     mdt\n",
       "2022-01-21 11:00:00    dydx\n",
       "2022-01-21 12:00:00    kava\n",
       "2022-01-21 13:00:00    dydx\n",
       "2022-01-21 14:00:00    celr\n",
       "2022-01-21 15:00:00    wnxm\n",
       "2022-01-21 16:00:00    kava\n",
       "2022-01-21 17:00:00    dydx\n",
       "2022-01-21 18:00:00    rndr\n",
       "2022-01-21 19:00:00    agld\n",
       "2022-01-21 20:00:00     fun\n",
       "2022-01-21 21:00:00     tvk\n",
       "2022-01-21 22:00:00     clv\n",
       "dtype: object"
      ]
     },
     "execution_count": 73,
     "metadata": {},
     "output_type": "execute_result"
    }
   ],
   "source": [
    "best.iloc[-15:]"
   ]
  },
  {
   "cell_type": "code",
   "execution_count": 88,
   "id": "9c393195-71e4-4d1d-a20e-b9396bc2dbf4",
   "metadata": {},
   "outputs": [
    {
     "data": {
      "text/plain": [
       "timestamp\n",
       "2017-07-14 04:00:00         NaN\n",
       "2017-07-14 05:00:00         NaN\n",
       "2017-07-14 06:00:00         NaN\n",
       "2017-07-14 07:00:00         NaN\n",
       "2017-07-14 08:00:00         NaN\n",
       "                         ...   \n",
       "2022-01-21 15:00:00    0.000066\n",
       "2022-01-21 16:00:00    0.000066\n",
       "2022-01-21 17:00:00    0.000069\n",
       "2022-01-21 18:00:00    0.000069\n",
       "2022-01-21 19:00:00    0.000068\n",
       "Name: rndr, Length: 41526, dtype: float64"
      ]
     },
     "execution_count": 88,
     "metadata": {},
     "output_type": "execute_result"
    }
   ],
   "source": [
    "df.rndr"
   ]
  },
  {
   "cell_type": "code",
   "execution_count": null,
   "id": "877d6cc9-e509-4335-b963-937406e16ec7",
   "metadata": {},
   "outputs": [],
   "source": []
  }
 ],
 "metadata": {
  "kernelspec": {
   "display_name": "Python 3 (ipykernel)",
   "language": "python",
   "name": "python3"
  },
  "language_info": {
   "codemirror_mode": {
    "name": "ipython",
    "version": 3
   },
   "file_extension": ".py",
   "mimetype": "text/x-python",
   "name": "python",
   "nbconvert_exporter": "python",
   "pygments_lexer": "ipython3",
   "version": "3.9.7"
  }
 },
 "nbformat": 4,
 "nbformat_minor": 5
}
