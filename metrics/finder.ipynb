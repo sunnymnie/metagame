{
 "cells": [
  {
   "cell_type": "markdown",
   "id": "d3b8b694-8f00-4473-ab97-10b053e11c7b",
   "metadata": {},
   "source": [
    "# Address finder\n",
    "Purpose: explore methods of finding possible addresses"
   ]
  },
  {
   "cell_type": "code",
   "execution_count": null,
   "id": "a575e5bb-7dec-41be-9df3-e5896b540147",
   "metadata": {},
   "outputs": [],
   "source": []
  }
 ],
 "metadata": {
  "kernelspec": {
   "display_name": "Python 3 (ipykernel)",
   "language": "python",
   "name": "python3"
  },
  "language_info": {
   "codemirror_mode": {
    "name": "ipython",
    "version": 3
   },
   "file_extension": ".py",
   "mimetype": "text/x-python",
   "name": "python",
   "nbconvert_exporter": "python",
   "pygments_lexer": "ipython3",
   "version": "3.9.7"
  }
 },
 "nbformat": 4,
 "nbformat_minor": 5
}
