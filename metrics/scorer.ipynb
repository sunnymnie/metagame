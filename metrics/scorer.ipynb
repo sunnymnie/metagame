{
 "cells": [
  {
   "cell_type": "markdown",
   "id": "5f0a6698-662c-4179-b649-e1ebc0f88ef6",
   "metadata": {},
   "source": [
    "# Address scorer\n",
    "Algorithm to determine whether an address is a potential inside/smart whale"
   ]
  },
  {
   "cell_type": "code",
   "execution_count": 35,
   "id": "cf35844f-4908-484e-a683-23c0266895ff",
   "metadata": {},
   "outputs": [],
   "source": [
    "import pandas as pd\n",
    "import numpy as np\n",
    "import matplotlib.pyplot as plt\n",
    "import keys \n",
    "import requests\n",
    "from datetime import datetime, timedelta\n",
    "import time"
   ]
  },
  {
   "cell_type": "code",
   "execution_count": 3,
   "id": "31f8fa87-512c-43d3-9a44-af36ff6aae74",
   "metadata": {},
   "outputs": [],
   "source": [
    "address = \"0xfa53d837b5ddd616007f91487f041d27edb683a0\""
   ]
  },
  {
   "cell_type": "code",
   "execution_count": 4,
   "id": "6f7dfb01-2d61-4697-ac1d-0bd2df637415",
   "metadata": {},
   "outputs": [
    {
     "data": {
      "text/plain": [
       "'0xfa53d837b5ddd616007f91487f041d27edb683a0'"
      ]
     },
     "execution_count": 4,
     "metadata": {},
     "output_type": "execute_result"
    }
   ],
   "source": [
    "address"
   ]
  },
  {
   "cell_type": "markdown",
   "id": "fea000f6-0be2-485d-874f-96b5e79d4ced",
   "metadata": {},
   "source": [
    "## Get latest block"
   ]
  },
  {
   "cell_type": "code",
   "execution_count": 97,
   "id": "696edfca-cf5e-403a-88d5-8b16ac540eb0",
   "metadata": {},
   "outputs": [],
   "source": [
    "def get_latest_block(t=None):\n",
    "    \"\"\"gets latest block as an int\"\"\"\n",
    "    if t is None: t = int(time.time())\n",
    "    request = f\"https://api.etherscan.io/api\\\n",
    "                ?module=block\\\n",
    "                &action=getblocknobytime\\\n",
    "                &timestamp={t}\\\n",
    "                &closest=before\\\n",
    "                &apikey={keys.key('etherscan')}\".replace(\" \", \"\")\n",
    "    res = requests.get(request)\n",
    "    return int(res.json()['result'])"
   ]
  },
  {
   "cell_type": "markdown",
   "id": "5256378b-458d-4c5a-bea8-f3d5aacca16c",
   "metadata": {},
   "source": [
    "## Panning"
   ]
  },
  {
   "cell_type": "code",
   "execution_count": 141,
   "id": "5e3343d3-aeb4-40cd-ba1c-37091e364510",
   "metadata": {},
   "outputs": [],
   "source": [
    "address = \"0x6c8AdA12895975F541F483Bc155fECFda231aE34\""
   ]
  },
  {
   "cell_type": "code",
   "execution_count": 190,
   "id": "f22fc470-5ae8-47a6-a04e-8561e9ea92ab",
   "metadata": {},
   "outputs": [],
   "source": [
    "def get_etherscan(address, tx_type, start=0, end=99999999, size=10000):\n",
    "    \"\"\"\n",
    "    returns the etherscan transactions\n",
    "    tx_type:\n",
    "        - \"txlist\" for normal eth transactions\n",
    "        - \"txlistinternal\" for internal transactions\n",
    "        - \"tokentx\" for erc20 transactions\n",
    "        - \"tokennfttx\" for nft transactions\n",
    "    \"\"\"\n",
    "    page = 1\n",
    "    etherscan = []\n",
    "    while True:\n",
    "        request = f\"https://api.etherscan.io/api?module=account\\\n",
    "                    &action={tx_type}\\\n",
    "                    &address={address}\\\n",
    "                    &startblock={start}\\\n",
    "                    &endblock={end}\\\n",
    "                    &page={page}\\\n",
    "                    &offset={size}\\\n",
    "                    &sort=asc\\\n",
    "                    &apikey={keys.key('etherscan')}\".replace(\" \", \"\")\n",
    "        res = requests.get(request).json()[\"result\"]\n",
    "        etherscan += res\n",
    "        if len(res)<size: break\n",
    "        page += 1\n",
    "    return etherscan"
   ]
  },
  {
   "cell_type": "code",
   "execution_count": 231,
   "id": "2df080cb-0917-47bb-aaf8-a5b42ca1f6d0",
   "metadata": {},
   "outputs": [],
   "source": [
    "def create_transaction(nor, tok, address):\n",
    "    \"\"\"take in two transactions, one normal on token, that happen on same block number\"\"\"\n",
    "    address = address.lower()\n",
    "    side = \"unknown\"\n",
    "    if nor is None: \n",
    "        side = \"transaction\"\n",
    "    elif tok[\"to\"] == address and nor[\"from\"] == address:\n",
    "        side = \"buy\"\n",
    "    elif tok[\"from\"] == address and nor[\"to\"] == address:\n",
    "        side = \"sell\"\n",
    "    amt = tok[\"value\"]\n",
    "    symbol = tok[\"tokenSymbol\"]\n",
    "    block = tok[\"blockNumber\"]\n",
    "    ts = tok[\"timeStamp\"]\n",
    "    eth = nor[\"value\"] if nor else 0\n",
    "    return _create_transaction(block, ts, symbol, side, amt, eth)\n",
    "def _create_transaction(block, time, symbol, side, amt, eth):\n",
    "    return {\"block\":int(block),\n",
    "            \"time\":int(time),\n",
    "            \"symbol\":symbol,\n",
    "            \"side\":side,\n",
    "            \"amt\":int(amt),\n",
    "            \"eth\":int(eth)}"
   ]
  },
  {
   "cell_type": "markdown",
   "id": "0068d094-f43c-4122-ae6e-2f296b3d37bd",
   "metadata": {},
   "source": [
    "## TODO:\n",
    "add transaction hash verification\n",
    "ie check out: https://etherscan.io/address/0x950aebfd80ca6843b5407fe6472f4b7ca1375a6f#tokentxns\n",
    "Notice that `0xdbc6dbf365d5124b1aa309a7dbc66fe8906c36235a30beb3f6140c07bef806f6` hash remains the same for multiple transactions and is the same for internal and erc20 tx\n",
    "\n",
    "Next: iterate through transactions and come up with a score or just separate metrics\n",
    "\n",
    "Next: Create program to take in something like https://etherscan.io/dex?q=0xa71d0588eaf47f12b13cf8ec750430d21df04974#transactions and search through all of that"
   ]
  },
  {
   "cell_type": "code",
   "execution_count": 249,
   "id": "69f2e024-0bb0-417b-94cb-52331970c706",
   "metadata": {},
   "outputs": [],
   "source": [
    "def get_transactions(address):\n",
    "    \"\"\"returns transactions\"\"\"\n",
    "    normal = get_etherscan(address, \"txlist\")\n",
    "    internal = get_etherscan(address, \"txlistinternal\")\n",
    "    token = get_etherscan(address, \"tokentx\")\n",
    "    itb = list(map(lambda x: int(x[\"blockNumber\"]), internal))\n",
    "    nob = list(map(lambda x: int(x[\"blockNumber\"]), normal))\n",
    "    transactions = []\n",
    "    i = 0\n",
    "    j = 0\n",
    "    for t in token:\n",
    "        tbk = int(t[\"blockNumber\"])\n",
    "        while i<len(normal)-1 and (nob[i] < tbk or normal[i][\"value\"] == \"0\"):\n",
    "            i += 1\n",
    "        while j<len(internal)-1 and (itb[j] < tbk or internal[j][\"value\"] == \"0\"):\n",
    "            j += 1\n",
    "        if nob[i] == tbk:\n",
    "            transactions.append(create_transaction(normal[i], t, address))\n",
    "        elif itb[j] == tbk:\n",
    "            transactions.append(create_transaction(internal[j], t, address))\n",
    "        else: \n",
    "            transactions.append(create_transaction(None, t, address))\n",
    "    return transactions\n",
    "        "
   ]
  },
  {
   "cell_type": "code",
   "execution_count": 250,
   "id": "67ec9291-fd14-45d4-a2c3-704314a3e547",
   "metadata": {},
   "outputs": [],
   "source": [
    "t = get_transactions(\"0x950AebFD80ca6843b5407fe6472f4B7Ca1375a6F\")"
   ]
  },
  {
   "cell_type": "code",
   "execution_count": 256,
   "id": "7343b123-b214-4e87-a7d5-0ad470a8f91f",
   "metadata": {},
   "outputs": [
    {
     "data": {
      "text/plain": [
       "[{'block': 14711459,\n",
       "  'time': 1651674054,\n",
       "  'symbol': 'BAPE',\n",
       "  'side': 'buy',\n",
       "  'amt': 1200141612262906,\n",
       "  'eth': 1000000000000000000},\n",
       " {'block': 14711438,\n",
       "  'time': 1651673764,\n",
       "  'symbol': 'BAPE',\n",
       "  'side': 'buy',\n",
       "  'amt': 1503152012762172,\n",
       "  'eth': 1200000000000000000},\n",
       " {'block': 14706310,\n",
       "  'time': 1651603374,\n",
       "  'symbol': 'CULT',\n",
       "  'side': 'sell',\n",
       "  'amt': 216937495485970049088231999,\n",
       "  'eth': 1968287407787497408},\n",
       " {'block': 14706310,\n",
       "  'time': 1651603374,\n",
       "  'symbol': 'CULT',\n",
       "  'side': 'sell',\n",
       "  'amt': 871234921630401803567196,\n",
       "  'eth': 1968287407787497408},\n",
       " {'block': 14706037,\n",
       "  'time': 1651599830,\n",
       "  'symbol': 'CULT',\n",
       "  'side': 'buy',\n",
       "  'amt': 217808730407600450891799195,\n",
       "  'eth': 2000000000000000000}]"
      ]
     },
     "execution_count": 256,
     "metadata": {},
     "output_type": "execute_result"
    }
   ],
   "source": [
    "t[::-1][:5]"
   ]
  },
  {
   "cell_type": "code",
   "execution_count": 252,
   "id": "b85e1717-d310-4cc2-a07e-0cbc6794f8a1",
   "metadata": {},
   "outputs": [
    {
     "data": {
      "text/plain": [
       "563"
      ]
     },
     "execution_count": 252,
     "metadata": {},
     "output_type": "execute_result"
    }
   ],
   "source": [
    "len(list(filter(lambda x: x[\"side\"] not in [\"buy\", \"transaction\", \"unknown\"], t)))"
   ]
  },
  {
   "cell_type": "code",
   "execution_count": null,
   "id": "dec04ba9-02f4-4aed-a433-7b7b7a1ff445",
   "metadata": {},
   "outputs": [],
   "source": []
  }
 ],
 "metadata": {
  "kernelspec": {
   "display_name": "Python 3 (ipykernel)",
   "language": "python",
   "name": "python3"
  },
  "language_info": {
   "codemirror_mode": {
    "name": "ipython",
    "version": 3
   },
   "file_extension": ".py",
   "mimetype": "text/x-python",
   "name": "python",
   "nbconvert_exporter": "python",
   "pygments_lexer": "ipython3",
   "version": "3.9.7"
  }
 },
 "nbformat": 4,
 "nbformat_minor": 5
}
