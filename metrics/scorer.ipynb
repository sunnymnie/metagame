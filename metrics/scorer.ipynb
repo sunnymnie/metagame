{
 "cells": [
  {
   "cell_type": "markdown",
   "id": "5f0a6698-662c-4179-b649-e1ebc0f88ef6",
   "metadata": {},
   "source": [
    "# Address scorer\n",
    "Algorithm to determine whether an address is a potential inside/smart whale"
   ]
  },
  {
   "cell_type": "code",
   "execution_count": 8,
   "id": "cf35844f-4908-484e-a683-23c0266895ff",
   "metadata": {},
   "outputs": [],
   "source": [
    "import pandas as pd\n",
    "import numpy as np\n",
    "import matplotlib.pyplot as plt\n",
    "import keys \n",
    "import requests\n",
    "from datetime import datetime, timedelta\n",
    "import time"
   ]
  },
  {
   "cell_type": "markdown",
   "id": "fea000f6-0be2-485d-874f-96b5e79d4ced",
   "metadata": {},
   "source": [
    "## Get latest block"
   ]
  },
  {
   "cell_type": "code",
   "execution_count": 9,
   "id": "696edfca-cf5e-403a-88d5-8b16ac540eb0",
   "metadata": {},
   "outputs": [],
   "source": [
    "def get_latest_block(t=None):\n",
    "    \"\"\"gets latest block as an int\"\"\"\n",
    "    if t is None: t = int(time.time())\n",
    "    request = f\"https://api.etherscan.io/api\\\n",
    "                ?module=block\\\n",
    "                &action=getblocknobytime\\\n",
    "                &timestamp={t}\\\n",
    "                &closest=before\\\n",
    "                &apikey={keys.key('etherscan')}\".replace(\" \", \"\")\n",
    "    res = requests.get(request)\n",
    "    return int(res.json()['result'])"
   ]
  },
  {
   "cell_type": "markdown",
   "id": "5256378b-458d-4c5a-bea8-f3d5aacca16c",
   "metadata": {},
   "source": [
    "## Panning"
   ]
  },
  {
   "cell_type": "code",
   "execution_count": 36,
   "id": "5e3343d3-aeb4-40cd-ba1c-37091e364510",
   "metadata": {},
   "outputs": [],
   "source": [
    "# address = \"0x6c8AdA12895975F541F483Bc155fECFda231aE34\"\n",
    "address = \"0x950AebFD80ca6843b5407fe6472f4B7Ca1375a6F\""
   ]
  },
  {
   "cell_type": "code",
   "execution_count": 11,
   "id": "f22fc470-5ae8-47a6-a04e-8561e9ea92ab",
   "metadata": {},
   "outputs": [],
   "source": [
    "def get_etherscan(address, tx_type, start=0, end=99999999, size=10000):\n",
    "    \"\"\"\n",
    "    returns the etherscan transactions\n",
    "    tx_type:\n",
    "        - \"txlist\" for normal eth transactions\n",
    "        - \"txlistinternal\" for internal transactions\n",
    "        - \"tokentx\" for erc20 transactions\n",
    "        - \"tokennfttx\" for nft transactions\n",
    "    \"\"\"\n",
    "    page = 1\n",
    "    etherscan = []\n",
    "    while True:\n",
    "        request = f\"https://api.etherscan.io/api?module=account\\\n",
    "                    &action={tx_type}\\\n",
    "                    &address={address}\\\n",
    "                    &startblock={start}\\\n",
    "                    &endblock={end}\\\n",
    "                    &page={page}\\\n",
    "                    &offset={size}\\\n",
    "                    &sort=asc\\\n",
    "                    &apikey={keys.key('etherscan')}\".replace(\" \", \"\")\n",
    "        res = requests.get(request).json()[\"result\"]\n",
    "        etherscan += res\n",
    "        if len(res)<size: break\n",
    "        page += 1\n",
    "    return etherscan"
   ]
  },
  {
   "cell_type": "code",
   "execution_count": 39,
   "id": "2df080cb-0917-47bb-aaf8-a5b42ca1f6d0",
   "metadata": {},
   "outputs": [],
   "source": [
    "def create_transaction(nor, tok, address):\n",
    "    \"\"\"take in two transactions, one normal on token, that happen on same block number\"\"\"\n",
    "    address = address.lower()\n",
    "    side = \"unknown\"\n",
    "    if nor is None: \n",
    "        side = \"transaction\"\n",
    "        if address in tok[\"to\"]: \n",
    "            side = \"in\"\n",
    "        elif address in tok[\"from\"]:\n",
    "            side = \"out\"\n",
    "    elif address in tok[\"to\"] and address in nor[\"from\"]:\n",
    "        side = \"buy\"\n",
    "    elif address in tok[\"from\"] and address in nor[\"to\"]:\n",
    "        side = \"sell\"\n",
    "    amt = tok[\"value\"]\n",
    "    symbol = tok[\"tokenSymbol\"]\n",
    "    block = tok[\"blockNumber\"]\n",
    "    ts = tok[\"timeStamp\"]\n",
    "    eth = nor[\"value\"] if nor else 0\n",
    "    return _create_transaction(block, ts, symbol, side, amt, eth, tok[\"hash\"])\n",
    "def _create_transaction(block, time, symbol, side, amt, eth, tx):\n",
    "    return {\"block\":int(block),\n",
    "            \"time\":int(time),\n",
    "            \"symbol\":symbol,\n",
    "            \"side\":side,\n",
    "            \"amt\":int(amt),\n",
    "            \"eth\":int(eth),\n",
    "            \"tx\":tx}"
   ]
  },
  {
   "cell_type": "code",
   "execution_count": 25,
   "id": "eac7b8f8-bc35-4f5f-bf10-61f30d92b851",
   "metadata": {},
   "outputs": [],
   "source": [
    "def merge_etherscan(transactions):\n",
    "    \"\"\"merges the transactions with same hashes\"\"\"\n",
    "    new = []\n",
    "    prev_hash = \"\"\n",
    "    prev = None\n",
    "    for t in transactions:\n",
    "        if t[\"hash\"] != prev_hash:\n",
    "            new.append(prev)\n",
    "            prev_hash = t[\"hash\"]\n",
    "            prev = t.copy()\n",
    "            prev[\"from\"] = [prev[\"from\"]]\n",
    "            prev[\"to\"] = [prev[\"to\"]]\n",
    "            prev[\"value\"] = int(prev[\"value\"])\n",
    "        else:\n",
    "            if t[\"from\"] not in prev[\"from\"]: prev[\"from\"].append(t[\"from\"])\n",
    "            if t[\"to\"] not in prev[\"to\"]: prev[\"to\"].append(t[\"to\"])\n",
    "            prev[\"value\"] += int(t[\"value\"])\n",
    "    new.append(prev)\n",
    "    return new[1:]"
   ]
  },
  {
   "cell_type": "code",
   "execution_count": 30,
   "id": "69f2e024-0bb0-417b-94cb-52331970c706",
   "metadata": {
    "tags": []
   },
   "outputs": [],
   "source": [
    "def get_transactions(address):\n",
    "    \"\"\"returns transactions\"\"\"\n",
    "    normal = merge_etherscan(get_etherscan(address, \"txlist\"))\n",
    "    internal = merge_etherscan(get_etherscan(address, \"txlistinternal\"))\n",
    "    token = merge_etherscan(get_etherscan(address, \"tokentx\"))\n",
    "    # global normal\n",
    "    # global internal\n",
    "    # global token\n",
    "    itb = list(map(lambda x: int(x[\"blockNumber\"]), internal))\n",
    "    nob = list(map(lambda x: int(x[\"blockNumber\"]), normal))    \n",
    "    transactions = []\n",
    "    i = j = 0\n",
    "    for t in token:\n",
    "        tbk = int(t[\"blockNumber\"])\n",
    "        # print(f\"====starting block number {tbk} ======\")\n",
    "        tlen = len(transactions)\n",
    "        while i<len(normal)-1 and (nob[i] < tbk):\n",
    "            i += 1\n",
    "        while j<len(internal)-1 and (itb[j] < tbk):\n",
    "            j += 1\n",
    "        i_ = i\n",
    "        j_ = j\n",
    "        # print(f\"set i_ to {i_} and j_ to {j_}\")\n",
    "        while i_<len(normal) and nob[i_] == tbk:\n",
    "            # print(f\"While loop for nob\")\n",
    "            if normal[i_][\"hash\"]==t[\"hash\"] and normal[i_][\"value\"] != 0:\n",
    "                transactions.append(create_transaction(normal[i_], t, address))\n",
    "            i_ += 1\n",
    "\n",
    "        # print(f\"j_<len(internal): {j_<len(internal)}, itb[j_] == tbk: {itb[j_] == tbk}\")\n",
    "        while j_<len(internal) and itb[j_] == tbk:\n",
    "            # print(f\"While loop for itb\")\n",
    "            if internal[j_][\"hash\"] == t[\"hash\"] and internal[j_][\"value\"] != 0:\n",
    "                transactions.append(create_transaction(internal[j_], t, address))\n",
    "            j_ += 1\n",
    "        if len(transactions) == tlen: transactions.append(create_transaction(None, t, address))\n",
    "    return transactions\n",
    "        "
   ]
  },
  {
   "cell_type": "markdown",
   "id": "b8ba7101-c15f-4c9b-9355-dae228b55ac2",
   "metadata": {},
   "source": [
    "## TODO:\n",
    "Next: iterate through transactions and come up with a score or just separate metrics. Considering keeping track of average buy price with respect to buy sizes and keeping track of number of wins and losses, size of mean/median win, max win/loss, number of trades etc. make sure easy to add new metrics to keep track of. \n",
    "\n",
    "Next: Create program to take in something like https://etherscan.io/dex?q=0xa71d0588eaf47f12b13cf8ec750430d21df04974#transactions and search through all of that\n",
    "\n",
    "## Links\n",
    "- https://etherscan.io/address/0x950aebfd80ca6843b5407fe6472f4b7ca1375a6f#tokentxns\n",
    "- `0xdbc6dbf365d5124b1aa309a7dbc66fe8906c36235a30beb3f6140c07bef806f6`\n",
    "- https://etherscan.io/dex?q=0xa71d0588eaf47f12b13cf8ec750430d21df04974#transactions"
   ]
  },
  {
   "cell_type": "code",
   "execution_count": 91,
   "id": "8c65ca9c-6d00-44f3-ab57-c3d2f3e9f236",
   "metadata": {},
   "outputs": [],
   "source": [
    "address = \"0xb28ebe0ed76e01825483a723d21a6ab29743cddc\""
   ]
  },
  {
   "cell_type": "code",
   "execution_count": 92,
   "id": "67ec9291-fd14-45d4-a2c3-704314a3e547",
   "metadata": {},
   "outputs": [],
   "source": [
    "t = get_transactions(address)"
   ]
  },
  {
   "cell_type": "code",
   "execution_count": 59,
   "id": "4d9c214e-4946-4a1d-92c6-cc65fe4707c8",
   "metadata": {
    "jupyter": {
     "source_hidden": true
    },
    "tags": []
   },
   "outputs": [],
   "source": [
    "def parse_transactions(transactions):\n",
    "    inventory = {}\n",
    "    for t in transactions:\n",
    "        s = t[\"symbol\"]\n",
    "        if t[\"side\"] == \"buy\":\n",
    "            if s not in inventory: inventory[s] = {\"amt\":0, \"eth\":0, \"b\":0, \"s\":0, \"ps\":0}\n",
    "            inventory[s][\"amt\"] += t[\"amt\"]\n",
    "            inventory[s][\"eth\"] += t[\"eth\"]\n",
    "            inventory[s][\"b\"] += 1\n",
    "        if t[\"side\"] == \"sell\":\n",
    "            if s not in inventory: inventory[s] = {\"amt\":0, \"eth\":0, \"b\":0, \"s\":0, \"ps\":0}\n",
    "            if inventory[s][\"eth\"] and t[\"amt\"]/t[\"eth\"]<inventory[s][\"amt\"]/inventory[s][\"eth\"]:\n",
    "                inventory[s][\"ps\"]+=1\n",
    "            inventory[s][\"s\"] += 1\n",
    "            inventory[s][\"amt\"] -= t[\"amt\"] if inventory[s][\"amt\"]>t[\"amt\"] else inventory[s][\"amt\"]\n",
    "            inventory[s][\"eth\"] -= t[\"eth\"] if inventory[s][\"eth\"]>t[\"eth\"] else inventory[s][\"eth\"]\n",
    "    return inventory"
   ]
  },
  {
   "cell_type": "code",
   "execution_count": 93,
   "id": "4dcefd3a-9d8c-46c2-8b0c-8761670908a4",
   "metadata": {},
   "outputs": [],
   "source": [
    "inv = parse_transactions(t)"
   ]
  },
  {
   "cell_type": "code",
   "execution_count": 65,
   "id": "4d1f03a5-8ea2-4b80-a960-82ec84e7658a",
   "metadata": {
    "jupyter": {
     "source_hidden": true
    },
    "tags": []
   },
   "outputs": [],
   "source": [
    "def parse_track_record(inv):\n",
    "    winrate = [0, 0]\n",
    "    for i in inv:\n",
    "        winrate[0]+=inv[i][\"ps\"]\n",
    "        winrate[1]+=inv[i][\"s\"]\n",
    "    return {\"rate\": winrate[0]/winrate[1], \"trades\": winrate[1]}"
   ]
  },
  {
   "cell_type": "code",
   "execution_count": 94,
   "id": "6e140488-93f1-4c93-b639-b21cff804316",
   "metadata": {},
   "outputs": [
    {
     "ename": "ZeroDivisionError",
     "evalue": "division by zero",
     "output_type": "error",
     "traceback": [
      "\u001b[0;31m---------------------------------------------------------------------------\u001b[0m",
      "\u001b[0;31mZeroDivisionError\u001b[0m                         Traceback (most recent call last)",
      "\u001b[0;32m/var/folders/4n/h7p57sb17sn7vtrtjz3m1xhr0000gn/T/ipykernel_4260/2976747295.py\u001b[0m in \u001b[0;36m<module>\u001b[0;34m\u001b[0m\n\u001b[0;32m----> 1\u001b[0;31m \u001b[0mparse_track_record\u001b[0m\u001b[0;34m(\u001b[0m\u001b[0minv\u001b[0m\u001b[0;34m)\u001b[0m\u001b[0;34m\u001b[0m\u001b[0;34m\u001b[0m\u001b[0m\n\u001b[0m",
      "\u001b[0;32m/var/folders/4n/h7p57sb17sn7vtrtjz3m1xhr0000gn/T/ipykernel_4260/1548225906.py\u001b[0m in \u001b[0;36mparse_track_record\u001b[0;34m(inv)\u001b[0m\n\u001b[1;32m      4\u001b[0m         \u001b[0mwinrate\u001b[0m\u001b[0;34m[\u001b[0m\u001b[0;36m0\u001b[0m\u001b[0;34m]\u001b[0m\u001b[0;34m+=\u001b[0m\u001b[0minv\u001b[0m\u001b[0;34m[\u001b[0m\u001b[0mi\u001b[0m\u001b[0;34m]\u001b[0m\u001b[0;34m[\u001b[0m\u001b[0;34m\"ps\"\u001b[0m\u001b[0;34m]\u001b[0m\u001b[0;34m\u001b[0m\u001b[0;34m\u001b[0m\u001b[0m\n\u001b[1;32m      5\u001b[0m         \u001b[0mwinrate\u001b[0m\u001b[0;34m[\u001b[0m\u001b[0;36m1\u001b[0m\u001b[0;34m]\u001b[0m\u001b[0;34m+=\u001b[0m\u001b[0minv\u001b[0m\u001b[0;34m[\u001b[0m\u001b[0mi\u001b[0m\u001b[0;34m]\u001b[0m\u001b[0;34m[\u001b[0m\u001b[0;34m\"s\"\u001b[0m\u001b[0;34m]\u001b[0m\u001b[0;34m\u001b[0m\u001b[0;34m\u001b[0m\u001b[0m\n\u001b[0;32m----> 6\u001b[0;31m     \u001b[0;32mreturn\u001b[0m \u001b[0;34m{\u001b[0m\u001b[0;34m\"rate\"\u001b[0m\u001b[0;34m:\u001b[0m \u001b[0mwinrate\u001b[0m\u001b[0;34m[\u001b[0m\u001b[0;36m0\u001b[0m\u001b[0;34m]\u001b[0m\u001b[0;34m/\u001b[0m\u001b[0mwinrate\u001b[0m\u001b[0;34m[\u001b[0m\u001b[0;36m1\u001b[0m\u001b[0;34m]\u001b[0m\u001b[0;34m,\u001b[0m \u001b[0;34m\"trades\"\u001b[0m\u001b[0;34m:\u001b[0m \u001b[0mwinrate\u001b[0m\u001b[0;34m[\u001b[0m\u001b[0;36m1\u001b[0m\u001b[0;34m]\u001b[0m\u001b[0;34m}\u001b[0m\u001b[0;34m\u001b[0m\u001b[0;34m\u001b[0m\u001b[0m\n\u001b[0m",
      "\u001b[0;31mZeroDivisionError\u001b[0m: division by zero"
     ]
    }
   ],
   "source": [
    "parse_track_record(inv)"
   ]
  },
  {
   "cell_type": "code",
   "execution_count": null,
   "id": "0df1853a-c9aa-41d2-83d3-3fb6d505dbcc",
   "metadata": {},
   "outputs": [],
   "source": []
  }
 ],
 "metadata": {
  "kernelspec": {
   "display_name": "Python 3 (ipykernel)",
   "language": "python",
   "name": "python3"
  },
  "language_info": {
   "codemirror_mode": {
    "name": "ipython",
    "version": 3
   },
   "file_extension": ".py",
   "mimetype": "text/x-python",
   "name": "python",
   "nbconvert_exporter": "python",
   "pygments_lexer": "ipython3",
   "version": "3.9.7"
  }
 },
 "nbformat": 4,
 "nbformat_minor": 5
}
