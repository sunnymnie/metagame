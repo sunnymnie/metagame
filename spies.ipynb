{
 "cells": [
  {
   "cell_type": "markdown",
   "id": "40e229cb-7ed7-4626-b422-2d220f35c864",
   "metadata": {},
   "source": [
    "# Testin"
   ]
  },
  {
   "cell_type": "code",
   "execution_count": 1,
   "id": "affa9872-4519-44b8-9301-e58198eb5e12",
   "metadata": {},
   "outputs": [],
   "source": [
    "import random"
   ]
  },
  {
   "cell_type": "code",
   "execution_count": 44,
   "id": "9370fc8a-727b-4a5b-8ed1-309c142a2ea9",
   "metadata": {},
   "outputs": [],
   "source": [
    "def filter_spies(spies):\n",
    "    new = []\n",
    "    values = {\"1\":0, \"2or3\":0, \"4\":0}\n",
    "    long = spies[::2]\n",
    "    short = spies[1::2]\n",
    "    for i in range(len(short)):\n",
    "        parse_result(long[i], short[i], new, values)\n",
    "    return new, values"
   ]
  },
  {
   "cell_type": "code",
   "execution_count": 130,
   "id": "1ef26d24-ccd4-4902-aa72-6a9b3528f572",
   "metadata": {},
   "outputs": [],
   "source": [
    "def parse_result(a, b, new, values):\n",
    "    if a==1 and b==1:\n",
    "        new.append(1)\n",
    "        values['1']+=1\n",
    "    if a!=b:\n",
    "        if random.randint(0,1)==1:\n",
    "            new.append(1)\n",
    "            values['2or3']+=1\n",
    "        else:\n",
    "            values['4']+=1\n",
    "    else:\n",
    "        r = random.randint(0,2)\n",
    "        if r==0:\n",
    "            new.append(0)\n",
    "            values['2or3']+=1\n",
    "        elif r==1:\n",
    "            new.append(0)\n",
    "            values['1']+=1\n",
    "        else:\n",
    "            values['4']+=1"
   ]
  },
  {
   "cell_type": "code",
   "execution_count": 131,
   "id": "be970b59-b7ee-4d0f-bd29-f6a69ee655fd",
   "metadata": {},
   "outputs": [],
   "source": [
    "def can_take(spies, last):\n",
    "    f = spies.count(1)\n",
    "    uf = spies.count(0)\n",
    "    if f==uf and last==1:\n",
    "        return \"take\"\n",
    "    elif (f-1)==uf and last==0:\n",
    "        return \"don't take\"\n",
    "    else: return \"uncertain\"\n",
    "    "
   ]
  },
  {
   "cell_type": "code",
   "execution_count": 160,
   "id": "1c06518d-ece3-4adf-b971-5c605d866bca",
   "metadata": {},
   "outputs": [],
   "source": [
    "def analyze(count=100):\n",
    "    res = []\n",
    "    for _ in range(count):\n",
    "        num = random.randint(1, 1000)\n",
    "        spies = [0]*num + [1]*(num+1)\n",
    "        random.shuffle(spies)\n",
    "        new, values = filter_spies(spies)\n",
    "        values['take'] = can_take(new, spies[-1])\n",
    "        if values['take'] != \"uncertain\":\n",
    "            res.append(values)\n",
    "    return res"
   ]
  },
  {
   "cell_type": "code",
   "execution_count": 161,
   "id": "f8b701a2-22f4-49aa-853e-1e9402b02025",
   "metadata": {},
   "outputs": [],
   "source": [
    "res = analyze(10000)"
   ]
  },
  {
   "cell_type": "code",
   "execution_count": 162,
   "id": "44208cb9-5507-49cc-9695-83655cf10a9e",
   "metadata": {},
   "outputs": [],
   "source": [
    "r = list(filter(lambda x: x['1'] == 12, res))"
   ]
  },
  {
   "cell_type": "code",
   "execution_count": 165,
   "id": "d1e83ed0-5015-4d3c-ab3e-3d5234c5d196",
   "metadata": {},
   "outputs": [],
   "source": [
    "def print_results(res):\n",
    "    res = sorted(res, key=lambda d: d['1']) \n",
    "    res = list(map(lambda x: f\"{x['1']} ff, {x['2or3']} fu, {x['4']} uu, -- {x['take']}\", res))\n",
    "    for r in res:\n",
    "        print(r)"
   ]
  },
  {
   "cell_type": "code",
   "execution_count": 166,
   "id": "37bd218c-7e81-4871-b2af-c26ab0b65de6",
   "metadata": {},
   "outputs": [
    {
     "name": "stdout",
     "output_type": "stream",
     "text": [
      "0 ff, 0 fu, 1 uu, -- take\n",
      "1 ff, 3 fu, 1 uu, -- take\n",
      "1 ff, 3 fu, 3 uu, -- take\n",
      "1 ff, 0 fu, 2 uu, -- don't take\n",
      "1 ff, 0 fu, 1 uu, -- don't take\n",
      "1 ff, 0 fu, 1 uu, -- don't take\n",
      "1 ff, 0 fu, 2 uu, -- don't take\n",
      "2 ff, 1 fu, 1 uu, -- don't take\n",
      "2 ff, 1 fu, 2 uu, -- don't take\n",
      "2 ff, 1 fu, 0 uu, -- don't take\n",
      "2 ff, 2 fu, 3 uu, -- take\n",
      "2 ff, 0 fu, 2 uu, -- take\n",
      "2 ff, 2 fu, 0 uu, -- take\n",
      "2 ff, 0 fu, 3 uu, -- take\n",
      "2 ff, 2 fu, 1 uu, -- take\n",
      "2 ff, 5 fu, 5 uu, -- don't take\n",
      "2 ff, 1 fu, 1 uu, -- don't take\n",
      "2 ff, 4 fu, 2 uu, -- take\n",
      "3 ff, 3 fu, 3 uu, -- take\n",
      "3 ff, 4 fu, 4 uu, -- don't take\n",
      "3 ff, 2 fu, 2 uu, -- don't take\n",
      "3 ff, 3 fu, 6 uu, -- take\n",
      "3 ff, 2 fu, 1 uu, -- don't take\n",
      "3 ff, 2 fu, 3 uu, -- don't take\n",
      "4 ff, 5 fu, 4 uu, -- don't take\n",
      "4 ff, 3 fu, 3 uu, -- don't take\n",
      "4 ff, 3 fu, 4 uu, -- don't take\n",
      "6 ff, 2 fu, 5 uu, -- take\n",
      "6 ff, 5 fu, 4 uu, -- don't take\n",
      "7 ff, 6 fu, 6 uu, -- don't take\n",
      "9 ff, 5 fu, 3 uu, -- take\n",
      "9 ff, 6 fu, 13 uu, -- don't take\n",
      "11 ff, 4 fu, 5 uu, -- don't take\n",
      "12 ff, 10 fu, 7 uu, -- take\n",
      "13 ff, 7 fu, 7 uu, -- take\n",
      "14 ff, 12 fu, 13 uu, -- take\n",
      "14 ff, 7 fu, 8 uu, -- don't take\n",
      "15 ff, 5 fu, 19 uu, -- take\n",
      "17 ff, 17 fu, 17 uu, -- take\n",
      "18 ff, 16 fu, 11 uu, -- take\n",
      "18 ff, 15 fu, 12 uu, -- don't take\n",
      "20 ff, 20 fu, 22 uu, -- take\n",
      "20 ff, 10 fu, 19 uu, -- take\n",
      "21 ff, 17 fu, 17 uu, -- take\n",
      "25 ff, 27 fu, 22 uu, -- take\n",
      "28 ff, 20 fu, 21 uu, -- take\n",
      "38 ff, 29 fu, 24 uu, -- don't take\n",
      "48 ff, 34 fu, 38 uu, -- take\n",
      "67 ff, 55 fu, 47 uu, -- take\n"
     ]
    }
   ],
   "source": [
    "print_results(res)"
   ]
  },
  {
   "cell_type": "code",
   "execution_count": null,
   "id": "2f651c19-f28a-461a-944c-177c97cc031b",
   "metadata": {},
   "outputs": [],
   "source": []
  }
 ],
 "metadata": {
  "kernelspec": {
   "display_name": "Python 3 (ipykernel)",
   "language": "python",
   "name": "python3"
  },
  "language_info": {
   "codemirror_mode": {
    "name": "ipython",
    "version": 3
   },
   "file_extension": ".py",
   "mimetype": "text/x-python",
   "name": "python",
   "nbconvert_exporter": "python",
   "pygments_lexer": "ipython3",
   "version": "3.9.7"
  }
 },
 "nbformat": 4,
 "nbformat_minor": 5
}
