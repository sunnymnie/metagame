{
 "cells": [
  {
   "cell_type": "markdown",
   "id": "b1c3ebcc-2052-4b30-8d79-ed4f8f3827ce",
   "metadata": {},
   "source": [
    "# Analysis dataframe creater"
   ]
  },
  {
   "cell_type": "code",
   "execution_count": 15,
   "id": "4ada19ff-3889-4149-b924-00ddcf676ce9",
   "metadata": {},
   "outputs": [
    {
     "data": {
      "text/plain": [
       "<module 'model' from '/Users/SunnyNie/Documents/Investing/metagame/model.py'>"
      ]
     },
     "execution_count": 15,
     "metadata": {},
     "output_type": "execute_result"
    }
   ],
   "source": [
    "import binance_helpers as bh\n",
    "import matplotlib.pyplot as plt\n",
    "import pandas as pd\n",
    "import numpy as np\n",
    "import model as m\n",
    "import ui\n",
    "import importlib\n",
    "import time\n",
    "from datetime import datetime, timedelta\n",
    "client = bh.new_binance_client()\n",
    "importlib.reload(m)"
   ]
  },
  {
   "cell_type": "code",
   "execution_count": 16,
   "id": "cb0d8d45-e59c-4f10-9ea9-cb4c532de5dc",
   "metadata": {},
   "outputs": [],
   "source": [
    "trades = pd.read_csv(\"data/trades.csv\", index_col=0, parse_dates=True)\n",
    "trades = trades.iloc[-5000:]"
   ]
  },
  {
   "cell_type": "markdown",
   "id": "1b278cc5-37f3-4c03-9ff0-a22e114c5e20",
   "metadata": {
    "jp-MarkdownHeadingCollapsed": true,
    "tags": []
   },
   "source": [
    "## Downloading before and after"
   ]
  },
  {
   "cell_type": "code",
   "execution_count": 18,
   "id": "929acdae-3426-4621-a7f8-f2a0a7b86f5c",
   "metadata": {
    "tags": []
   },
   "outputs": [],
   "source": [
    "def get_filtered_dataframe(klines):\n",
    "        \"\"\"filters columns and converts columns to floats and ints respectively\"\"\"\n",
    "        df = pd.DataFrame(klines, columns = ['timestamp', 'open', 'high', 'low', 'close', 'volume', 'close_time', 'quote_av', 'trades', 'tb_base_av', 'tb_quote_av', 'ignore'])\n",
    "        df = df[['timestamp', 'open', 'high', 'low', 'close', 'volume', 'tb_base_av']]\n",
    "        df = df.astype(np.float64)\n",
    "        df[\"timestamp\"] = df.timestamp.astype(np.int64)\n",
    "        df['timestamp'] = list(map(lambda x: datetime.utcfromtimestamp(x/1e3), df.timestamp))\n",
    "        df.set_index('timestamp', inplace=True)\n",
    "        return df\n",
    "    \n",
    "\n",
    "def before(trades):\n",
    "\n",
    "    df = pd.DataFrame(columns = [\"open\", \"high\", \"low\", \"close\", \"volume\", \"tb_base_av\"], index=trades.resample(\"1T\").mean().index)\n",
    "    i = 0\n",
    "    length = len(trades)\n",
    "    for i in range(length):\n",
    "        s = trades.iloc[i].name\n",
    "        e = s+timedelta(hours=0)\n",
    "        ss = (s-timedelta(hours=2)).strftime(\"%d %b %Y %H:%M:%S\")\n",
    "        es = (e-timedelta(hours=0, minutes=1)).strftime(\"%d %b %Y %H:%M:%S\")\n",
    "        try:\n",
    "            if trades.iloc[i].trades is np.NaN: continue\n",
    "            name = trades.iloc[i].trades.upper()+\"USDT\"\n",
    "            klines = client.get_historical_klines(symbol=name, interval = \"1m\", start_str=ss, end_str=es)\n",
    "            try:\n",
    "                d_ = get_filtered_dataframe(klines)\n",
    "                df.update(d_)\n",
    "            except:\n",
    "                print(f\"Warning: failed for function #{j} for trades.iloc[{i}]\")\n",
    "        except Exception as e:\n",
    "            print(f\"Warning: unable to get for trades.iloc[{i}] -- {name} --{e}\")\n",
    "\n",
    "        i += 1\n",
    "        ui.printProgressBar(i, length)\n",
    "    df.to_csv(\"data/before.csv\")\n",
    "    return df\n",
    "\n",
    "def after(trades):\n",
    "\n",
    "    df = pd.DataFrame(columns = [\"open\", \"high\", \"low\", \"close\", \"volume\", \"tb_base_av\"], index=trades.resample(\"1T\").mean().index)\n",
    "    i = 0\n",
    "    length = len(trades)\n",
    "    for i in range(length):\n",
    "        s = trades.iloc[i].name\n",
    "        e = s+timedelta(hours=0)\n",
    "        ss = (s-timedelta(hours=0)).strftime(\"%d %b %Y %H:%M:%S\")\n",
    "        es = (e+timedelta(hours=1, minutes=59)).strftime(\"%d %b %Y %H:%M:%S\")\n",
    "        try:\n",
    "            if trades.iloc[i].trades is np.NaN: continue\n",
    "            name = trades.iloc[i].trades.upper()+\"USDT\"\n",
    "            klines = client.get_historical_klines(symbol=name, interval = \"1m\", start_str=ss, end_str=es)\n",
    "            try:\n",
    "                d_ = get_filtered_dataframe(klines)\n",
    "                df.update(d_)\n",
    "            except:\n",
    "                print(f\"Warning: failed for function #{j} for trades.iloc[{i}]\")\n",
    "        except Exception as e:\n",
    "            print(f\"Warning: unable to get for trades.iloc[{i}] -- {name} --{e}\")\n",
    "\n",
    "        i += 1\n",
    "        ui.printProgressBar(i, length)\n",
    "    df.to_csv(\"data/after.csv\")\n",
    "    return df"
   ]
  },
  {
   "cell_type": "code",
   "execution_count": 19,
   "id": "3582d399-a222-4470-b2ec-cef4e1206446",
   "metadata": {
    "tags": []
   },
   "outputs": [
    {
     "name": "stdout",
     "output_type": "stream",
     "text": [
      " |██████████████████████████████████████████████████| 100.0% \n"
     ]
    }
   ],
   "source": [
    "df = before(trades)"
   ]
  },
  {
   "cell_type": "code",
   "execution_count": 20,
   "id": "51f9b67f-5a27-42a5-bfb7-b195f9b7cf55",
   "metadata": {
    "tags": []
   },
   "outputs": [
    {
     "name": "stdout",
     "output_type": "stream",
     "text": [
      " |██████████████████████████████████████████████████| 100.0% \n"
     ]
    }
   ],
   "source": [
    "df_ = after(trades)"
   ]
  },
  {
   "cell_type": "markdown",
   "id": "83f88017-f193-4efa-8cb0-1102b5f4f744",
   "metadata": {},
   "source": [
    "## Read csv"
   ]
  },
  {
   "cell_type": "code",
   "execution_count": 21,
   "id": "aed5af3a-46be-4e15-b476-5c43b60a4ea4",
   "metadata": {},
   "outputs": [],
   "source": [
    "b = pd.read_csv(\"data/before.csv\", index_col=0, parse_dates=True)\n",
    "a = pd.read_csv(\"data/after.csv\", index_col=0, parse_dates=True)"
   ]
  },
  {
   "cell_type": "markdown",
   "id": "a3f94a68-4329-4d86-a5fd-59c0328fb36b",
   "metadata": {},
   "source": [
    "## Analysis"
   ]
  },
  {
   "cell_type": "code",
   "execution_count": 22,
   "id": "cb92de33-a20b-4240-97bb-26d9c0164899",
   "metadata": {},
   "outputs": [],
   "source": [
    "def get_average_result(t, a):\n",
    "    r = []\n",
    "    for i in range(-len(t), -1):\n",
    "        m = a.loc[t.iloc[i].name:trades.iloc[i+1].name-timedelta(minutes=1)]\n",
    "        r.append(-(m.close.mean()-m.iloc[0].open)/m.iloc[0].open)\n",
    "    r.append(None)\n",
    "    return r"
   ]
  },
  {
   "cell_type": "code",
   "execution_count": 23,
   "id": "0ab5df5c-b56d-4362-82d3-0ab8f8c33ff6",
   "metadata": {},
   "outputs": [],
   "source": [
    "trades['result'] = get_average_result(trades, a)"
   ]
  },
  {
   "cell_type": "code",
   "execution_count": 24,
   "id": "e5a3c6ef-f2a6-40e1-9e57-adc1509a2754",
   "metadata": {},
   "outputs": [],
   "source": [
    "trades.to_csv(\"data/tradesr.csv\")"
   ]
  },
  {
   "cell_type": "code",
   "execution_count": 14,
   "id": "7f7c9ef3-a4be-47d4-9c3a-18025969452d",
   "metadata": {},
   "outputs": [],
   "source": [
    "t = trades[trades['result']<-0.01]"
   ]
  },
  {
   "cell_type": "code",
   "execution_count": 28,
   "id": "28140ec4-5511-4473-b393-e9d5a676f7e6",
   "metadata": {},
   "outputs": [],
   "source": [
    "def analyze(trades, b, func):\n",
    "    result = []\n",
    "    for _ in range(len(func)):\n",
    "        result.append([])\n",
    "    i = 0\n",
    "    length = len(trades)\n",
    "    for i in range(length):\n",
    "        s = trades.iloc[i].name - timedelta(hours=2)\n",
    "        e = s+timedelta(hours=1, minutes=59)\n",
    "\n",
    "        for j in range(len(func)):\n",
    "            try:\n",
    "                result[j].append(func[j](b.loc[s:e]))\n",
    "            except:\n",
    "                print(f\"Warning: failed for function #{j} for trades.iloc[{i}]\")\n",
    "                result[j].append(0)\n",
    "\n",
    "        i += 1\n",
    "        ui.printProgressBar(i, length)\n",
    "    return result"
   ]
  },
  {
   "cell_type": "code",
   "execution_count": 17,
   "id": "e62ce374-53c6-4edd-ac96-ed44dcd25363",
   "metadata": {
    "tags": []
   },
   "outputs": [],
   "source": [
    "def a1(t):\n",
    "    s = (t.high-t.low).mean()\n",
    "    h = int(len(t)/2)\n",
    "    return (t.iloc[h:].high-t.iloc[h:].low).mean()/s\n",
    "def a2(t):\n",
    "    s = (t.high-t.low).mean()\n",
    "    h = int(2*len(t)/3)\n",
    "    return (t.iloc[h:].high-t.iloc[h:].low).mean()/s\n",
    "def a3(t):\n",
    "    s = (t.high-t.low).mean()\n",
    "    h = int(3*len(t)/4)\n",
    "    return (t.iloc[h:].high-t.iloc[h:].low).mean()/s\n",
    "def b1(t):\n",
    "    h = int(len(t)/2)\n",
    "    return t.iloc[h:].volume.mean()/t.volume.mean()\n",
    "def b2(t):\n",
    "    h = int(2*len(t)/3)\n",
    "    return t.iloc[h:].volume.mean()/t.volume.mean()\n",
    "def b3(t):\n",
    "    h = int(3*len(t)/4)\n",
    "    return t.iloc[h:].volume.mean()/t.volume.mean()\n",
    "def c1(t):\n",
    "    h = int(len(t)/2)\n",
    "    return (t.iloc[h:].tb_base_av/t.iloc[h:].volume).mean()\n",
    "def c2(t):\n",
    "    h = int(2*len(t)/3)\n",
    "    return (t.iloc[h:].tb_base_av/t.iloc[h:].volume).mean()\n",
    "def c3(t):\n",
    "    h = int(3*len(t)/4)\n",
    "    return (t.iloc[h:].tb_base_av/t.iloc[h:].volume).mean()\n",
    "def d1(t):\n",
    "    h = int(len(t)/2)\n",
    "    return (t.iloc[h:].tb_base_av/t.iloc[h:].volume).mean()/(t.tb_base_av/t.volume).mean()\n",
    "def d2(t):\n",
    "    h = int(2*len(t)/3)\n",
    "    return (t.iloc[h:].tb_base_av/t.iloc[h:].volume).mean()/(t.tb_base_av/t.volume).mean()\n",
    "def d3(t):\n",
    "    h = int(3*len(t)/4)\n",
    "    return (t.iloc[h:].tb_base_av/t.iloc[h:].volume).mean()/(t.tb_base_av/t.volume).mean()"
   ]
  },
  {
   "cell_type": "code",
   "execution_count": 18,
   "id": "14c7aed9-822c-4ac5-b990-3f70513bad88",
   "metadata": {
    "tags": []
   },
   "outputs": [],
   "source": [
    "def e1(t):\n",
    "    return t.iloc[-1].close/max(t.high)\n",
    "def e2(t):\n",
    "    return min(t.low)/t.iloc[-1].close\n",
    "def e3(t):\n",
    "    return min(t.low)/max(t.high)\n",
    "def f1(t):\n",
    "    h = int(1*len(t)/2)\n",
    "    return sum(t.iloc[h:].volume)/sum(t.volume)\n",
    "def f2(t):\n",
    "    h = int(2*len(t)/3)\n",
    "    return sum(t.iloc[h:].volume)/sum(t.volume)\n",
    "def f3(t):\n",
    "    h = int(3*len(t)/4)\n",
    "    return sum(t.iloc[h:].volume)/sum(t.volume)\n",
    "def g1(t):\n",
    "    return max(t.high-t.low)/t.iloc[-1].close\n",
    "def g2(t):\n",
    "    return max(t.high-t.low)/(t.high-t.low).mean()\n",
    "def g3(t):\n",
    "    return max(t.high-t.low)/t.iloc[0].close"
   ]
  },
  {
   "cell_type": "code",
   "execution_count": 43,
   "id": "50a07bb9-d5a2-4e89-abed-2eaf30fe40ac",
   "metadata": {},
   "outputs": [],
   "source": [
    "def macd(t):\n",
    "    exp1 = t.close.ewm(span=12, adjust=False).mean()\n",
    "    exp2 = t.close.ewm(span=26, adjust=False).mean()\n",
    "    macd = exp1-exp2\n",
    "    exp3 = macd.ewm(span=9, adjust=False).mean()\n",
    "    m = (macd-exp3)\n",
    "    return m[-1]/max(m)"
   ]
  },
  {
   "cell_type": "code",
   "execution_count": 44,
   "id": "23fc2153-a35a-4de8-b0d9-53f6ab295d94",
   "metadata": {},
   "outputs": [
    {
     "name": "stdout",
     "output_type": "stream",
     "text": [
      "Warning: failed for function #0 for trades.iloc[0]\n",
      " |██████████████████████████████████████████████████| 100.0% \n"
     ]
    }
   ],
   "source": [
    "r = analyze(trades, b, [macd]) #[a1, a2, a3, b1, b2, b3, c1, c2, c3, d1, d2, d3]\n",
    "# e2<0.9"
   ]
  },
  {
   "cell_type": "code",
   "execution_count": 47,
   "id": "baa93124-d91a-4bc7-a44b-0ba5d27d4438",
   "metadata": {},
   "outputs": [
    {
     "data": {
      "text/plain": [
       "<matplotlib.lines.Line2D at 0x7fb19fde66a0>"
      ]
     },
     "execution_count": 47,
     "metadata": {},
     "output_type": "execute_result"
    },
    {
     "data": {
      "image/png": "[encoded data removed]",
      "text/plain": [
       "<Figure size 864x288 with 1 Axes>"
      ]
     },
     "metadata": {
      "needs_background": "light"
     },
     "output_type": "display_data"
    }
   ],
   "source": [
    "fig, ax = plt.subplots(figsize=(12, 4))\n",
    "ax.scatter(r[0], trades['result'], alpha=0.03)\n",
    "# ax.set_xscale('log')\n",
    "ax.axhline(0, c=\"white\", alpha=0.5)"
   ]
  },
  {
   "cell_type": "code",
   "execution_count": 46,
   "id": "38c3dc64-79b7-4297-b6af-bbf5240f865a",
   "metadata": {},
   "outputs": [
    {
     "data": {
      "text/plain": [
       "-0.06307020986939642"
      ]
     },
     "execution_count": 46,
     "metadata": {},
     "output_type": "execute_result"
    }
   ],
   "source": [
    "r[0][-1]"
   ]
  },
  {
   "cell_type": "code",
   "execution_count": 225,
   "id": "5db40908-97b3-4a90-8ef1-981d0ab53334",
   "metadata": {},
   "outputs": [],
   "source": [
    "t = trades[:]\n",
    "pd.options.mode.chained_assignment = None\n",
    "t['a'] = r[1]\n",
    "t['b'] = r[1]\n",
    "t = t[t['a']>0.8]"
   ]
  },
  {
   "cell_type": "code",
   "execution_count": 226,
   "id": "6758a1e7-7711-4841-a702-3bf950742cae",
   "metadata": {},
   "outputs": [
    {
     "name": "stdout",
     "output_type": "stream",
     "text": [
      "mean: 0.71%, median: 1.23%, winrate: 64.88%\n",
      "mean: 0.96%, median: 1.64%, winrate: 66.87%, length: 1343\n"
     ]
    }
   ],
   "source": [
    "print(f\"mean: {round(100*trades.result.mean(), 2)}%, median: {round(100*trades.result.median(), 2)}%, winrate: {round(100*len(trades[trades.result>0].result)/len(trades), 2)}%\")\n",
    "print(f\"mean: {round(100*t.result.mean(), 2)}%, median: {round(100*t.result.median(), 2)}%, winrate: {round(100*len(t[t.result>0].result)/len(t), 2)}%, length: {len(t)}\")"
   ]
  },
  {
   "cell_type": "code",
   "execution_count": 227,
   "id": "a4d59918-7e17-490a-b933-6d144add153b",
   "metadata": {},
   "outputs": [
    {
     "name": "stdout",
     "output_type": "stream",
     "text": [
      "mean: 1.02%, median: 1.8%, winrate: 65.2%\n",
      "mean: 1.35%, median: 2.41%, winrate: 67.61%, length: 1343\n"
     ]
    }
   ],
   "source": [
    "print(f\"mean: {round(100*trades.target.mean(), 2)}%, median: {round(100*trades.target.median(), 2)}%, winrate: {round(100*len(trades[trades.target>0].target)/len(trades), 2)}%\")\n",
    "print(f\"mean: {round(100*t.target.mean(), 2)}%, median: {round(100*t.target.median(), 2)}%, winrate: {round(100*len(t[t.target>0].target)/len(t), 2)}%, length: {len(t)}\")"
   ]
  },
  {
   "cell_type": "code",
   "execution_count": 224,
   "id": "8d3b96dd-4dbf-4071-90dc-fabd4f95735e",
   "metadata": {},
   "outputs": [
    {
     "data": {
      "text/plain": [
       "<matplotlib.lines.Line2D at 0x7ff0ecec1040>"
      ]
     },
     "execution_count": 224,
     "metadata": {},
     "output_type": "execute_result"
    },
    {
     "data": {
      "image/png": "[encoded data removed]",
      "text/plain": [
       "<Figure size 864x288 with 1 Axes>"
      ]
     },
     "metadata": {
      "needs_background": "light"
     },
     "output_type": "display_data"
    }
   ],
   "source": [
    "fig, ax = plt.subplots(figsize=(12, 4))\n",
    "ax.scatter(t['b'], t['result'], alpha=0.03)\n",
    "# ax.set_xscale('log')\n",
    "ax.axhline(0, c=\"white\", alpha=0.5)"
   ]
  },
  {
   "cell_type": "code",
   "execution_count": 54,
   "id": "e3d453ed-23f4-4916-bc1e-985c23a143e2",
   "metadata": {},
   "outputs": [
    {
     "data": {
      "text/plain": [
       "<AxesSubplot:xlabel='timestamp'>"
      ]
     },
     "execution_count": 54,
     "metadata": {},
     "output_type": "execute_result"
    },
    {
     "data": {
      "image/png": "[encoded data removed]",
      "text/plain": [
       "<Figure size 432x288 with 1 Axes>"
      ]
     },
     "metadata": {
      "needs_background": "light"
     },
     "output_type": "display_data"
    }
   ],
   "source": [
    "b.loc[trades.iloc[-3].name:trades.iloc[-2].name-timedelta(minutes=1)].close.plot()"
   ]
  },
  {
   "cell_type": "code",
   "execution_count": 22,
   "id": "611b5251-8e5d-4ac2-bd6a-3077c6609dbd",
   "metadata": {},
   "outputs": [
    {
     "data": {
      "text/plain": [
       "0.19393677685950408"
      ]
     },
     "execution_count": 22,
     "metadata": {},
     "output_type": "execute_result"
    }
   ],
   "source": [
    "a.loc[trades.iloc[0].name:trades.iloc[1].name].close.mean()"
   ]
  },
  {
   "cell_type": "code",
   "execution_count": 26,
   "id": "8b271f75-2cc6-4b5f-8087-56fa022ee260",
   "metadata": {},
   "outputs": [
    {
     "data": {
      "text/html": [
       "<div>\n",
       "<style scoped>\n",
       "    .dataframe tbody tr th:only-of-type {\n",
       "        vertical-align: middle;\n",
       "    }\n",
       "\n",
       "    .dataframe tbody tr th {\n",
       "        vertical-align: top;\n",
       "    }\n",
       "\n",
       "    .dataframe thead th {\n",
       "        text-align: right;\n",
       "    }\n",
       "</style>\n",
       "<table border=\"1\" class=\"dataframe\">\n",
       "  <thead>\n",
       "    <tr style=\"text-align: right;\">\n",
       "      <th></th>\n",
       "      <th>trades</th>\n",
       "      <th>pret</th>\n",
       "      <th>target</th>\n",
       "    </tr>\n",
       "    <tr>\n",
       "      <th>timestamp</th>\n",
       "      <th></th>\n",
       "      <th></th>\n",
       "      <th></th>\n",
       "    </tr>\n",
       "  </thead>\n",
       "  <tbody>\n",
       "    <tr>\n",
       "      <th>2022-02-05 20:00:00</th>\n",
       "      <td>poly</td>\n",
       "      <td>0.083114</td>\n",
       "      <td>-0.003911</td>\n",
       "    </tr>\n",
       "    <tr>\n",
       "      <th>2022-02-05 22:00:00</th>\n",
       "      <td>uma</td>\n",
       "      <td>0.061165</td>\n",
       "      <td>0.010556</td>\n",
       "    </tr>\n",
       "    <tr>\n",
       "      <th>2022-02-06 00:00:00</th>\n",
       "      <td>gala</td>\n",
       "      <td>0.117593</td>\n",
       "      <td>-0.169426</td>\n",
       "    </tr>\n",
       "  </tbody>\n",
       "</table>\n",
       "</div>"
      ],
      "text/plain": [
       "                    trades      pret    target\n",
       "timestamp                                     \n",
       "2022-02-05 20:00:00   poly  0.083114 -0.003911\n",
       "2022-02-05 22:00:00    uma  0.061165  0.010556\n",
       "2022-02-06 00:00:00   gala  0.117593 -0.169426"
      ]
     },
     "execution_count": 26,
     "metadata": {},
     "output_type": "execute_result"
    }
   ],
   "source": [
    "trades.iloc[-3:]"
   ]
  },
  {
   "cell_type": "code",
   "execution_count": null,
   "id": "1ab3f4cd-e39e-49da-b500-6550fedb675f",
   "metadata": {},
   "outputs": [],
   "source": []
  }
 ],
 "metadata": {
  "kernelspec": {
   "display_name": "Python 3 (ipykernel)",
   "language": "python",
   "name": "python3"
  },
  "language_info": {
   "codemirror_mode": {
    "name": "ipython",
    "version": 3
   },
   "file_extension": ".py",
   "mimetype": "text/x-python",
   "name": "python",
   "nbconvert_exporter": "python",
   "pygments_lexer": "ipython3",
   "version": "3.9.7"
  }
 },
 "nbformat": 4,
 "nbformat_minor": 5
}
