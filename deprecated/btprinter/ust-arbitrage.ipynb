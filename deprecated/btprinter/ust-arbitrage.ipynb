{
 "cells": [
  {
   "cell_type": "markdown",
   "id": "c4ecba0d-5994-4ff5-a05b-a873d3485f21",
   "metadata": {},
   "source": [
    "# UST Arbitrage"
   ]
  },
  {
   "cell_type": "code",
   "execution_count": 1,
   "id": "c93c754a-84c6-415e-acc0-5f072215fdb3",
   "metadata": {},
   "outputs": [],
   "source": [
    "import binance_helpers as bh\n",
    "import matplotlib.pyplot as plt\n",
    "import pandas as pd\n",
    "import numpy as np\n",
    "import ui\n",
    "import time\n",
    "import importlib\n",
    "from binance.enums import *"
   ]
  },
  {
   "cell_type": "code",
   "execution_count": 2,
   "id": "23bd243d-196b-46c2-ad5b-f235f0e145e7",
   "metadata": {},
   "outputs": [],
   "source": [
    "client = bh.new_binance_client()"
   ]
  },
  {
   "cell_type": "code",
   "execution_count": 3,
   "id": "84f30850-c13d-42bb-b193-b3a149c48a8e",
   "metadata": {},
   "outputs": [],
   "source": [
    "t = client.get_all_tickers()"
   ]
  },
  {
   "cell_type": "code",
   "execution_count": 4,
   "id": "72e2e338-6e66-4808-ab1f-a509b1db97ac",
   "metadata": {},
   "outputs": [],
   "source": [
    "def get_price_of(prices, symbol):\n",
    "    return float([d[\"price\"] for d in prices if d['symbol']==symbol.upper()][0])"
   ]
  },
  {
   "cell_type": "code",
   "execution_count": 5,
   "id": "a6bb344b-b66c-460d-a0cb-4e4c463ce40d",
   "metadata": {},
   "outputs": [],
   "source": [
    "ethusdt = get_price_of(t, \"ethusdt\")"
   ]
  },
  {
   "cell_type": "code",
   "execution_count": 6,
   "id": "742fb24e-2441-4fd5-910d-91cf40298ed4",
   "metadata": {},
   "outputs": [
    {
     "data": {
      "text/plain": [
       "2013.65"
      ]
     },
     "execution_count": 6,
     "metadata": {},
     "output_type": "execute_result"
    }
   ],
   "source": [
    "ethusdt"
   ]
  },
  {
   "cell_type": "code",
   "execution_count": 41,
   "id": "ea2ad1a8-5810-499e-9b63-e5d0a5f9920f",
   "metadata": {},
   "outputs": [],
   "source": [
    "a_usdt_dp = bh.get_decimal_place(client, \"ethusdt\")\n",
    "b_usdt_dp = bh.get_decimal_place(client, \"ustusdt\")\n",
    "ab_dp = bh.get_decimal_place(client, \"ethust\")"
   ]
  },
  {
   "cell_type": "code",
   "execution_count": 7,
   "id": "65677bda-0836-40e9-96a9-be88a6069085",
   "metadata": {},
   "outputs": [],
   "source": [
    "def trade(symbol, side, amt):\n",
    "    print(f\"{symbol}: {side}, amt: {amt}\")\n",
    "    if side==SIDE_BUY:\n",
    "        order = client.create_order(\n",
    "            symbol=symbol,\n",
    "            side=SIDE_BUY,\n",
    "            type=ORDER_TYPE_MARKET,\n",
    "            quoteOrderQty=amt)\n",
    "        return order\n",
    "    elif side==SIDE_SELL:\n",
    "        order = client.create_order(\n",
    "            symbol=symbol,\n",
    "            side=SIDE_SELL,\n",
    "            type=ORDER_TYPE_MARKET,\n",
    "            quantity=amt)\n",
    "        return order\n",
    "    else:\n",
    "        print(\"ERROR\")"
   ]
  },
  {
   "cell_type": "code",
   "execution_count": 100,
   "id": "04b0d98d-0e95-48af-9a32-98ac8559cb01",
   "metadata": {
    "jupyter": {
     "source_hidden": true
    },
    "tags": []
   },
   "outputs": [],
   "source": [
    "def circular_order(a, b, usdt, a_usdt_dp, b_usdt_dp, ab_dp, a_dust=0, b_dust=0):\n",
    "    \"\"\"b is stablecoin\"\"\"\n",
    "    print(\"Trading\")\n",
    "    # t = client.get_all_tickers()\n",
    "    order = trade(f\"{b}USDT\", SIDE_BUY, usdt)\n",
    "    order = client.get_order(symbol=f\"{b}USDT\",orderId=order['orderId'])\n",
    "    \n",
    "    b_amt = float(order['executedQty'])+b_dust\n",
    "    order = trade(f\"{a}{b}\", SIDE_BUY, bh.binance_floor(b_amt, ab_dp))\n",
    "    order = client.get_order(symbol=f\"{a}{b}\",orderId=order['orderId'])\n",
    "    \n",
    "    a_amt = float(order['executedQty'])+a_dust\n",
    "    order = trade(f\"{a}USDT\", SIDE_SELL, bh.binance_floor(a_amt, a_usdt_dp))"
   ]
  },
  {
   "cell_type": "code",
   "execution_count": 8,
   "id": "86f2d19f-ed5e-459e-97e8-94bb448c4497",
   "metadata": {},
   "outputs": [],
   "source": [
    "def inverse_circular_order(a, b, usdt, a_usdt_dp, b_usdt_dp, ab_dp, a_dust=0, b_dust=0):\n",
    "    \"\"\"b is stablecoin\"\"\"\n",
    "    print(\"Trading inverse\")\n",
    "    # t = client.get_all_tickers()\n",
    "    # ap = get_price_of(t, f\"{a}usdt\")\n",
    "    # bp = get_price_of(t, f\"{b}usdt\")\n",
    "    order = trade(f\"{a}USDT\", SIDE_BUY, usdt)\n",
    "    order = client.get_order(symbol=f\"{a}USDT\",orderId=order['orderId'])\n",
    "    \n",
    "    a_amt = float(order['executedQty'])+a_dust\n",
    "    order = trade(f\"{a}{b}\", SIDE_SELL, bh.binance_floor(a_amt, ab_dp))\n",
    "    order = client.get_order(symbol=f\"{a}{b}\",orderId=order['orderId'])\n",
    "    \n",
    "    b_amt = float(order['cummulativeQuoteQty'])+b_dust\n",
    "    order = trade(f\"{b}USDT\", SIDE_SELL, bh.binance_floor(b_amt, b_usdt_dp))"
   ]
  },
  {
   "cell_type": "code",
   "execution_count": 53,
   "id": "e922b08d-647b-4c28-9320-40665a0e26f3",
   "metadata": {},
   "outputs": [
    {
     "name": "stdout",
     "output_type": "stream",
     "text": [
      "ap: 1933.66, bp: 0.378156, abp: 5124.96\n",
      "b_amt: 50.0, going to trade 0.0096\n",
      "a_amt: 0.0096\n",
      "0.8268189430236816\n"
     ]
    }
   ],
   "source": [
    "t_now = time.time()\n",
    "circular_order(\"ETH\", \"UST\", 19, a_usdt_dp, b_usdt_dp, ab_dp)\n",
    "print(time.time()-t_now)"
   ]
  },
  {
   "cell_type": "code",
   "execution_count": 9,
   "id": "b8903888-8516-4a16-b753-9a960f836ad8",
   "metadata": {},
   "outputs": [],
   "source": [
    "from IPython.display import clear_output"
   ]
  },
  {
   "cell_type": "code",
   "execution_count": 10,
   "id": "a9698410-aeb2-4f1e-bd77-45056bdc4cb0",
   "metadata": {},
   "outputs": [],
   "source": [
    "def get_amt(asset):\n",
    "    return float(client.get_asset_balance(asset=asset)[\"free\"])"
   ]
  },
  {
   "cell_type": "code",
   "execution_count": 16,
   "id": "f7d027d2-da9f-4ec7-b9f0-f457365f4c3b",
   "metadata": {},
   "outputs": [
    {
     "name": "stdout",
     "output_type": "stream",
     "text": [
      "market is off by: 0.2%\n"
     ]
    },
    {
     "ename": "KeyboardInterrupt",
     "evalue": "",
     "output_type": "error",
     "traceback": [
      "\u001b[0;31m---------------------------------------------------------------------------\u001b[0m",
      "\u001b[0;31mKeyboardInterrupt\u001b[0m                         Traceback (most recent call last)",
      "\u001b[0;32m/var/folders/4n/h7p57sb17sn7vtrtjz3m1xhr0000gn/T/ipykernel_22722/352066677.py\u001b[0m in \u001b[0;36m<module>\u001b[0;34m\u001b[0m\n\u001b[1;32m     24\u001b[0m         \u001b[0mjust_traded\u001b[0m \u001b[0;34m=\u001b[0m \u001b[0;32mTrue\u001b[0m\u001b[0;34m\u001b[0m\u001b[0;34m\u001b[0m\u001b[0m\n\u001b[1;32m     25\u001b[0m     \u001b[0;32melse\u001b[0m\u001b[0;34m:\u001b[0m\u001b[0;34m\u001b[0m\u001b[0;34m\u001b[0m\u001b[0m\n\u001b[0;32m---> 26\u001b[0;31m         \u001b[0mtime\u001b[0m\u001b[0;34m.\u001b[0m\u001b[0msleep\u001b[0m\u001b[0;34m(\u001b[0m\u001b[0;36m1\u001b[0m\u001b[0;34m)\u001b[0m\u001b[0;34m\u001b[0m\u001b[0;34m\u001b[0m\u001b[0m\n\u001b[0m\u001b[1;32m     27\u001b[0m         \u001b[0mclear_output\u001b[0m\u001b[0;34m(\u001b[0m\u001b[0;34m)\u001b[0m\u001b[0;34m\u001b[0m\u001b[0;34m\u001b[0m\u001b[0m\n",
      "\u001b[0;31mKeyboardInterrupt\u001b[0m: "
     ]
    }
   ],
   "source": [
    "a = \"ETH\"\n",
    "b = \"BTC\"\n",
    "a_usdt_dp = bh.get_decimal_place(client, f\"{a}usdt\")\n",
    "b_usdt_dp = bh.get_decimal_place(client, f\"{b}usdt\")\n",
    "ab_dp = bh.get_decimal_place(client, f\"{a}{b}\")\n",
    "usdt = 15\n",
    "just_traded = False\n",
    "for _ in range(10000):\n",
    "    t = client.get_all_tickers()\n",
    "    if just_traded:\n",
    "        a_dust = get_amt(a)\n",
    "        b_dust = get_amt(b)\n",
    "        just_traded = False\n",
    "    ethusdt = get_price_of(t, f\"{a}usdt\")\n",
    "    ustusdt = get_price_of(t, f\"ustusdt\")\n",
    "    ethust = get_price_of(t, f\"{a}ust\")\n",
    "    off = (ethust*ustusdt-ethusdt)*100/ethusdt\n",
    "    print(f\"market is off by: {round(off, 2)}%\")\n",
    "    if off < -2:\n",
    "        # circular_order(a, b, usdt, a_usdt_dp, b_usdt_dp, ab_dp, a_dust, b_dust)\n",
    "        just_traded = True\n",
    "    elif off > 2:\n",
    "        # inverse_circular_order(a, b, usdt, a_usdt_dp, b_usdt_dp, ab_dp, a_dust, b_dust)\n",
    "        just_traded = True\n",
    "    else:\n",
    "        time.sleep(1)\n",
    "        clear_output()"
   ]
  },
  {
   "cell_type": "code",
   "execution_count": null,
   "id": "5632e219-fc38-4031-a291-52d18a0cd155",
   "metadata": {},
   "outputs": [],
   "source": []
  }
 ],
 "metadata": {
  "kernelspec": {
   "display_name": "Python 3 (ipykernel)",
   "language": "python",
   "name": "python3"
  },
  "language_info": {
   "codemirror_mode": {
    "name": "ipython",
    "version": 3
   },
   "file_extension": ".py",
   "mimetype": "text/x-python",
   "name": "python",
   "nbconvert_exporter": "python",
   "pygments_lexer": "ipython3",
   "version": "3.9.7"
  }
 },
 "nbformat": 4,
 "nbformat_minor": 5
}
