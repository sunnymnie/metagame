{
 "cells": [
  {
   "cell_type": "markdown",
   "id": "12429774-23f4-4352-9f92-a48131b37607",
   "metadata": {},
   "source": [
    "# 5%min"
   ]
  },
  {
   "cell_type": "code",
   "execution_count": 10,
   "id": "b2ffc751-8f2e-4b9a-9cf3-1c6f899bd4f2",
   "metadata": {},
   "outputs": [],
   "source": [
    "import binance_helpers as bh\n",
    "import matplotlib.pyplot as plt\n",
    "import pandas as pd\n",
    "import numpy as np\n",
    "import model as m\n",
    "import ui\n",
    "import importlib\n",
    "from downloader import Downloader\n",
    "from datetime import datetime, timedelta\n",
    "importlib.reload(m)\n",
    "dl = Downloader()"
   ]
  },
  {
   "cell_type": "code",
   "execution_count": 612,
   "id": "39a3f725-c896-47b3-9382-c1f67621bee3",
   "metadata": {},
   "outputs": [],
   "source": [
    "df = dl.get_timeseries_data(\"NKNUSDT\", span=\"m5\", past=False, full=False, timeindex=True)"
   ]
  },
  {
   "cell_type": "code",
   "execution_count": 613,
   "id": "5f9fc278-40c3-40df-8a15-bcc2d72084f1",
   "metadata": {},
   "outputs": [],
   "source": [
    "df = df.iloc[-80000:]"
   ]
  },
  {
   "cell_type": "code",
   "execution_count": 614,
   "id": "31d95510-f743-491b-ac9b-66e0a73b5264",
   "metadata": {},
   "outputs": [],
   "source": [
    "index = df[df.high>df.low*1.05].index"
   ]
  },
  {
   "cell_type": "code",
   "execution_count": 615,
   "id": "5d21cace-94b0-4bde-85b5-8740b8c86045",
   "metadata": {},
   "outputs": [],
   "source": [
    "df_ = df.loc[index[-1]-timedelta(minutes=10):index[-1]]"
   ]
  },
  {
   "cell_type": "code",
   "execution_count": 616,
   "id": "adcdcd71-7bd5-411b-98e6-cb1b7ba0d06b",
   "metadata": {},
   "outputs": [
    {
     "data": {
      "text/html": [
       "<div>\n",
       "<style scoped>\n",
       "    .dataframe tbody tr th:only-of-type {\n",
       "        vertical-align: middle;\n",
       "    }\n",
       "\n",
       "    .dataframe tbody tr th {\n",
       "        vertical-align: top;\n",
       "    }\n",
       "\n",
       "    .dataframe thead th {\n",
       "        text-align: right;\n",
       "    }\n",
       "</style>\n",
       "<table border=\"1\" class=\"dataframe\">\n",
       "  <thead>\n",
       "    <tr style=\"text-align: right;\">\n",
       "      <th></th>\n",
       "      <th>open</th>\n",
       "      <th>high</th>\n",
       "      <th>low</th>\n",
       "      <th>close</th>\n",
       "      <th>volume</th>\n",
       "    </tr>\n",
       "    <tr>\n",
       "      <th>timestamp</th>\n",
       "      <th></th>\n",
       "      <th></th>\n",
       "      <th></th>\n",
       "      <th></th>\n",
       "      <th></th>\n",
       "    </tr>\n",
       "  </thead>\n",
       "  <tbody>\n",
       "    <tr>\n",
       "      <th>2022-01-30 23:25:00</th>\n",
       "      <td>0.2081</td>\n",
       "      <td>0.2081</td>\n",
       "      <td>0.2068</td>\n",
       "      <td>0.2072</td>\n",
       "      <td>2989.0</td>\n",
       "    </tr>\n",
       "    <tr>\n",
       "      <th>2022-01-30 23:30:00</th>\n",
       "      <td>0.2071</td>\n",
       "      <td>0.2086</td>\n",
       "      <td>0.2068</td>\n",
       "      <td>0.2085</td>\n",
       "      <td>62214.0</td>\n",
       "    </tr>\n",
       "    <tr>\n",
       "      <th>2022-01-30 23:35:00</th>\n",
       "      <td>0.2083</td>\n",
       "      <td>0.2196</td>\n",
       "      <td>0.2080</td>\n",
       "      <td>0.2103</td>\n",
       "      <td>706639.0</td>\n",
       "    </tr>\n",
       "  </tbody>\n",
       "</table>\n",
       "</div>"
      ],
      "text/plain": [
       "                       open    high     low   close    volume\n",
       "timestamp                                                    \n",
       "2022-01-30 23:25:00  0.2081  0.2081  0.2068  0.2072    2989.0\n",
       "2022-01-30 23:30:00  0.2071  0.2086  0.2068  0.2085   62214.0\n",
       "2022-01-30 23:35:00  0.2083  0.2196  0.2080  0.2103  706639.0"
      ]
     },
     "execution_count": 616,
     "metadata": {},
     "output_type": "execute_result"
    }
   ],
   "source": [
    "df_"
   ]
  },
  {
   "cell_type": "code",
   "execution_count": 617,
   "id": "0f3c98e1-8bf5-4199-8434-d63935fecd56",
   "metadata": {},
   "outputs": [
    {
     "data": {
      "text/plain": [
       "True"
      ]
     },
     "execution_count": 617,
     "metadata": {},
     "output_type": "execute_result"
    }
   ],
   "source": [
    "((df_/df_.shift()).dropna().volume > 1.3).all()"
   ]
  },
  {
   "cell_type": "code",
   "execution_count": 618,
   "id": "f5d69869-5470-4e33-8b9c-051a09a93965",
   "metadata": {},
   "outputs": [],
   "source": [
    "new = []\n",
    "for i in index:\n",
    "    try:\n",
    "        df__ = df.loc[i-timedelta(minutes=10):i+timedelta(minutes=5)]\n",
    "        df_ = df__.iloc[:-1]\n",
    "    except:\n",
    "        continue\n",
    "    w = (df_.high-df_.low).is_monotonic_increasing\n",
    "    v = df_.volume.is_monotonic_increasing\n",
    "    v1 = ((df_/df_.shift()).dropna().volume > 1.1).all()\n",
    "    g = df_.close.is_monotonic_increasing\n",
    "    v2 = df__.volume[-1]<df_.volume.mean()\n",
    "    g1 = df__.close[-1]<df_.close[-1]\n",
    "    if w and v and g and v1 and v2 and g1: new.append(i+timedelta(minutes=5))\n",
    "    "
   ]
  },
  {
   "cell_type": "code",
   "execution_count": 619,
   "id": "4cde22a8-75a4-400c-a608-f379a57d32a6",
   "metadata": {},
   "outputs": [
    {
     "data": {
      "text/plain": [
       "216985.0"
      ]
     },
     "execution_count": 619,
     "metadata": {},
     "output_type": "execute_result"
    }
   ],
   "source": [
    "df__.volume.mean()"
   ]
  },
  {
   "cell_type": "code",
   "execution_count": 620,
   "id": "bc6bc761-b47f-4b93-b1a6-c0da9e29bc8d",
   "metadata": {},
   "outputs": [
    {
     "data": {
      "text/plain": [
       "8"
      ]
     },
     "execution_count": 620,
     "metadata": {},
     "output_type": "execute_result"
    }
   ],
   "source": [
    "len(new)"
   ]
  },
  {
   "cell_type": "code",
   "execution_count": 621,
   "id": "a883e1a9-9332-4d51-b7a8-fe6f7afb6b51",
   "metadata": {},
   "outputs": [],
   "source": [
    "def analyze(df, index, tp, sl, long=True):\n",
    "    gains = []\n",
    "    prev = index[0]-timedelta(days=30)\n",
    "    for i in index:\n",
    "        if i<prev: continue\n",
    "        try:\n",
    "            prev = i+timedelta(minutes=120)\n",
    "            df_ = df.loc[i:prev]\n",
    "            start = df_.close[0]\n",
    "            df_ = df_.iloc[1:]\n",
    "            try: hi = df_[df_['high'].gt(start*tp)].index[0]\n",
    "            except: hi = None\n",
    "                    \n",
    "            try: lo = df_[df_['low'].lt(start*sl)].index[0]\n",
    "            except: lo = None\n",
    "            \n",
    "            if hi is None and lo is None:\n",
    "                close = (df_.close[-1]-start)/start\n",
    "                gains.append(close)\n",
    "            elif hi is None:\n",
    "                gains.append(sl-1)\n",
    "            elif lo is None:\n",
    "                gains.append(tp-1)\n",
    "            else:\n",
    "                if long: gains.append(sl-1) if lo<=hi else gains.append(tp-1)\n",
    "                else: gains.append(sl-1) if lo<hi else gains.append(tp-1)\n",
    "        except:\n",
    "            gains.append(0)\n",
    "    gains = list(map(lambda x: round(x, 4), gains))\n",
    "    return gains if long else list(map(lambda x: -x, gains))"
   ]
  },
  {
   "cell_type": "code",
   "execution_count": 622,
   "id": "1ab9ddbd-702e-4e17-9cb4-783f52da3270",
   "metadata": {},
   "outputs": [],
   "source": [
    "gains = analyze(df, new, 12, 0.0, long=False)"
   ]
  },
  {
   "cell_type": "code",
   "execution_count": 623,
   "id": "d8e91fe4-6ecf-4e4e-a051-c3fa91c7e5a6",
   "metadata": {},
   "outputs": [
    {
     "data": {
      "text/plain": [
       "<AxesSubplot:>"
      ]
     },
     "execution_count": 623,
     "metadata": {},
     "output_type": "execute_result"
    },
    {
     "data": {
      "image/png": "[encoded data removed]",
      "text/plain": [
       "<Figure size 432x288 with 1 Axes>"
      ]
     },
     "metadata": {
      "needs_background": "light"
     },
     "output_type": "display_data"
    }
   ],
   "source": [
    "pd.Series(gains).cumsum().plot()"
   ]
  },
  {
   "cell_type": "code",
   "execution_count": 611,
   "id": "49a07688-44ff-4544-a768-5983a5745c50",
   "metadata": {},
   "outputs": [
    {
     "data": {
      "text/plain": [
       "[Timestamp('2021-07-13 18:45:00'),\n",
       " Timestamp('2021-07-13 19:55:00'),\n",
       " Timestamp('2021-07-13 20:15:00'),\n",
       " Timestamp('2021-08-01 20:10:00'),\n",
       " Timestamp('2021-09-20 17:05:00'),\n",
       " Timestamp('2021-12-09 13:20:00'),\n",
       " Timestamp('2021-12-25 02:50:00'),\n",
       " Timestamp('2021-12-25 12:50:00'),\n",
       " Timestamp('2022-01-21 21:55:00')]"
      ]
     },
     "execution_count": 611,
     "metadata": {},
     "output_type": "execute_result"
    }
   ],
   "source": [
    "new"
   ]
  },
  {
   "cell_type": "code",
   "execution_count": 186,
   "id": "e84d0756-f82a-42eb-a676-e49211fc685a",
   "metadata": {},
   "outputs": [],
   "source": [
    "i = -4"
   ]
  },
  {
   "cell_type": "code",
   "execution_count": 187,
   "id": "58538531-8c72-4b0e-ab24-68e1a05c11b7",
   "metadata": {},
   "outputs": [
    {
     "data": {
      "text/plain": [
       "<AxesSubplot:xlabel='timestamp'>"
      ]
     },
     "execution_count": 187,
     "metadata": {},
     "output_type": "execute_result"
    },
    {
     "data": {
      "image/png": "[encoded data removed]",
      "text/plain": [
       "<Figure size 432x288 with 1 Axes>"
      ]
     },
     "metadata": {
      "needs_background": "light"
     },
     "output_type": "display_data"
    }
   ],
   "source": [
    "i += 1\n",
    "df.loc[index[i]:index[i]+timedelta(minutes=30)].drop(['volume', 'open', 'close'], axis=1).plot()"
   ]
  },
  {
   "cell_type": "code",
   "execution_count": 114,
   "id": "a6009a5e-839e-45bd-807d-69ee99359d78",
   "metadata": {},
   "outputs": [
    {
     "data": {
      "text/plain": [
       "7"
      ]
     },
     "execution_count": 114,
     "metadata": {},
     "output_type": "execute_result"
    }
   ],
   "source": [
    "i"
   ]
  },
  {
   "cell_type": "code",
   "execution_count": 53,
   "id": "cd4090b5-a9b8-436f-bc42-366988f0b3fb",
   "metadata": {},
   "outputs": [
    {
     "ename": "IndexError",
     "evalue": "index 0 is out of bounds for axis 0 with size 0",
     "output_type": "error",
     "traceback": [
      "\u001b[0;31m---------------------------------------------------------------------------\u001b[0m",
      "\u001b[0;31mIndexError\u001b[0m                                Traceback (most recent call last)",
      "\u001b[0;32m/var/folders/4n/h7p57sb17sn7vtrtjz3m1xhr0000gn/T/ipykernel_18545/1741402530.py\u001b[0m in \u001b[0;36m<module>\u001b[0;34m\u001b[0m\n\u001b[0;32m----> 1\u001b[0;31m \u001b[0mdf_\u001b[0m\u001b[0;34m[\u001b[0m\u001b[0mdf_\u001b[0m\u001b[0;34m[\u001b[0m\u001b[0;34m'close'\u001b[0m\u001b[0;34m]\u001b[0m\u001b[0;34m.\u001b[0m\u001b[0mgt\u001b[0m\u001b[0;34m(\u001b[0m\u001b[0;36m0.195\u001b[0m\u001b[0;34m)\u001b[0m\u001b[0;34m]\u001b[0m\u001b[0;34m.\u001b[0m\u001b[0mindex\u001b[0m\u001b[0;34m[\u001b[0m\u001b[0;36m0\u001b[0m\u001b[0;34m]\u001b[0m\u001b[0;34m\u001b[0m\u001b[0;34m\u001b[0m\u001b[0m\n\u001b[0m",
      "\u001b[0;32m~/Documents/Investing/metagame/env/lib/python3.9/site-packages/pandas/core/indexes/extension.py\u001b[0m in \u001b[0;36m__getitem__\u001b[0;34m(self, key)\u001b[0m\n\u001b[1;32m    277\u001b[0m \u001b[0;34m\u001b[0m\u001b[0m\n\u001b[1;32m    278\u001b[0m     \u001b[0;32mdef\u001b[0m \u001b[0m__getitem__\u001b[0m\u001b[0;34m(\u001b[0m\u001b[0mself\u001b[0m\u001b[0;34m,\u001b[0m \u001b[0mkey\u001b[0m\u001b[0;34m)\u001b[0m\u001b[0;34m:\u001b[0m\u001b[0;34m\u001b[0m\u001b[0;34m\u001b[0m\u001b[0m\n\u001b[0;32m--> 279\u001b[0;31m         \u001b[0mresult\u001b[0m \u001b[0;34m=\u001b[0m \u001b[0mself\u001b[0m\u001b[0;34m.\u001b[0m\u001b[0m_data\u001b[0m\u001b[0;34m[\u001b[0m\u001b[0mkey\u001b[0m\u001b[0;34m]\u001b[0m\u001b[0;34m\u001b[0m\u001b[0;34m\u001b[0m\u001b[0m\n\u001b[0m\u001b[1;32m    280\u001b[0m         \u001b[0;32mif\u001b[0m \u001b[0misinstance\u001b[0m\u001b[0;34m(\u001b[0m\u001b[0mresult\u001b[0m\u001b[0;34m,\u001b[0m \u001b[0mtype\u001b[0m\u001b[0;34m(\u001b[0m\u001b[0mself\u001b[0m\u001b[0;34m.\u001b[0m\u001b[0m_data\u001b[0m\u001b[0;34m)\u001b[0m\u001b[0;34m)\u001b[0m\u001b[0;34m:\u001b[0m\u001b[0;34m\u001b[0m\u001b[0;34m\u001b[0m\u001b[0m\n\u001b[1;32m    281\u001b[0m             \u001b[0;32mif\u001b[0m \u001b[0mresult\u001b[0m\u001b[0;34m.\u001b[0m\u001b[0mndim\u001b[0m \u001b[0;34m==\u001b[0m \u001b[0;36m1\u001b[0m\u001b[0;34m:\u001b[0m\u001b[0;34m\u001b[0m\u001b[0;34m\u001b[0m\u001b[0m\n",
      "\u001b[0;32m~/Documents/Investing/metagame/env/lib/python3.9/site-packages/pandas/core/arrays/datetimelike.py\u001b[0m in \u001b[0;36m__getitem__\u001b[0;34m(self, key)\u001b[0m\n\u001b[1;32m    320\u001b[0m         \u001b[0monly\u001b[0m \u001b[0mhandle\u001b[0m \u001b[0mlist\u001b[0m\u001b[0;34m-\u001b[0m\u001b[0mlikes\u001b[0m\u001b[0;34m,\u001b[0m \u001b[0mslices\u001b[0m\u001b[0;34m,\u001b[0m \u001b[0;32mand\u001b[0m \u001b[0minteger\u001b[0m \u001b[0mscalars\u001b[0m\u001b[0;34m\u001b[0m\u001b[0;34m\u001b[0m\u001b[0m\n\u001b[1;32m    321\u001b[0m         \"\"\"\n\u001b[0;32m--> 322\u001b[0;31m         \u001b[0mresult\u001b[0m \u001b[0;34m=\u001b[0m \u001b[0msuper\u001b[0m\u001b[0;34m(\u001b[0m\u001b[0;34m)\u001b[0m\u001b[0;34m.\u001b[0m\u001b[0m__getitem__\u001b[0m\u001b[0;34m(\u001b[0m\u001b[0mkey\u001b[0m\u001b[0;34m)\u001b[0m\u001b[0;34m\u001b[0m\u001b[0;34m\u001b[0m\u001b[0m\n\u001b[0m\u001b[1;32m    323\u001b[0m         \u001b[0;32mif\u001b[0m \u001b[0mlib\u001b[0m\u001b[0;34m.\u001b[0m\u001b[0mis_scalar\u001b[0m\u001b[0;34m(\u001b[0m\u001b[0mresult\u001b[0m\u001b[0;34m)\u001b[0m\u001b[0;34m:\u001b[0m\u001b[0;34m\u001b[0m\u001b[0;34m\u001b[0m\u001b[0m\n\u001b[1;32m    324\u001b[0m             \u001b[0;32mreturn\u001b[0m \u001b[0mresult\u001b[0m\u001b[0;34m\u001b[0m\u001b[0;34m\u001b[0m\u001b[0m\n",
      "\u001b[0;32m~/Documents/Investing/metagame/env/lib/python3.9/site-packages/pandas/core/arrays/_mixins.py\u001b[0m in \u001b[0;36m__getitem__\u001b[0;34m(self, key)\u001b[0m\n\u001b[1;32m    192\u001b[0m         \u001b[0;32mif\u001b[0m \u001b[0mlib\u001b[0m\u001b[0;34m.\u001b[0m\u001b[0mis_integer\u001b[0m\u001b[0;34m(\u001b[0m\u001b[0mkey\u001b[0m\u001b[0;34m)\u001b[0m\u001b[0;34m:\u001b[0m\u001b[0;34m\u001b[0m\u001b[0;34m\u001b[0m\u001b[0m\n\u001b[1;32m    193\u001b[0m             \u001b[0;31m# fast-path\u001b[0m\u001b[0;34m\u001b[0m\u001b[0;34m\u001b[0m\u001b[0m\n\u001b[0;32m--> 194\u001b[0;31m             \u001b[0mresult\u001b[0m \u001b[0;34m=\u001b[0m \u001b[0mself\u001b[0m\u001b[0;34m.\u001b[0m\u001b[0m_ndarray\u001b[0m\u001b[0;34m[\u001b[0m\u001b[0mkey\u001b[0m\u001b[0;34m]\u001b[0m\u001b[0;34m\u001b[0m\u001b[0;34m\u001b[0m\u001b[0m\n\u001b[0m\u001b[1;32m    195\u001b[0m             \u001b[0;32mif\u001b[0m \u001b[0mself\u001b[0m\u001b[0;34m.\u001b[0m\u001b[0mndim\u001b[0m \u001b[0;34m==\u001b[0m \u001b[0;36m1\u001b[0m\u001b[0;34m:\u001b[0m\u001b[0;34m\u001b[0m\u001b[0;34m\u001b[0m\u001b[0m\n\u001b[1;32m    196\u001b[0m                 \u001b[0;32mreturn\u001b[0m \u001b[0mself\u001b[0m\u001b[0;34m.\u001b[0m\u001b[0m_box_func\u001b[0m\u001b[0;34m(\u001b[0m\u001b[0mresult\u001b[0m\u001b[0;34m)\u001b[0m\u001b[0;34m\u001b[0m\u001b[0;34m\u001b[0m\u001b[0m\n",
      "\u001b[0;31mIndexError\u001b[0m: index 0 is out of bounds for axis 0 with size 0"
     ]
    }
   ],
   "source": [
    "df_[df_['close'].gt(0.195)].index[0]"
   ]
  },
  {
   "cell_type": "code",
   "execution_count": null,
   "id": "5977b830-ec3e-487e-8377-be905e2b5fd4",
   "metadata": {},
   "outputs": [],
   "source": []
  }
 ],
 "metadata": {
  "kernelspec": {
   "display_name": "Python 3 (ipykernel)",
   "language": "python",
   "name": "python3"
  },
  "language_info": {
   "codemirror_mode": {
    "name": "ipython",
    "version": 3
   },
   "file_extension": ".py",
   "mimetype": "text/x-python",
   "name": "python",
   "nbconvert_exporter": "python",
   "pygments_lexer": "ipython3",
   "version": "3.9.7"
  }
 },
 "nbformat": 4,
 "nbformat_minor": 5
}
