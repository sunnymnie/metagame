{
 "cells": [
  {
   "cell_type": "markdown",
   "id": "aa2d8881-7b2a-4fa1-902c-4f19edc2cc6b",
   "metadata": {},
   "source": [
    "# Short Time Span Strat"
   ]
  },
  {
   "cell_type": "code",
   "execution_count": 31,
   "id": "61ce17c4-acaa-4415-a172-e8512ff8ded8",
   "metadata": {},
   "outputs": [],
   "source": [
    "import binance_helpers as bh\n",
    "from datetime import datetime, timedelta\n",
    "import pandas as pd\n",
    "import numpy as np\n",
    "import binance_downloader as bdl\n",
    "import json\n",
    "import requests\n",
    "import ui\n",
    "import time\n",
    "import model as m\n",
    "import matplotlib.pyplot as plt\n",
    "client = bh.new_binance_client()\n",
    "\n"
   ]
  },
  {
   "cell_type": "code",
   "execution_count": 6,
   "id": "d8405398-7e42-4555-8993-69ac863621a5",
   "metadata": {},
   "outputs": [],
   "source": [
    "def get_backtesting_df(assets=None, length=None, quote=\"USDT\", progress=False, sleep=0.5):\n",
    "    \"\"\"\n",
    "    gets backtesting df with closing prices of all assets in profile.\n",
    "    - assets: list of assets without quote\n",
    "    - length: limit the length of the df\n",
    "    - progress: to show progress bar or not\n",
    "    - sleep: >=0. Time to sleep before binance call\n",
    "    - save: whether to save the df\n",
    "    \"\"\"\n",
    "    if assets is None: assets = m.get_all_assets()\n",
    "    if \"BTC\" in assets: assets.remove(\"BTC\")\n",
    "    df = get_timeseries_data(\"BTCUSDT\").close.rename(\"btc\").to_frame()\n",
    "    \n",
    "    iteration = 0\n",
    "    total = len(assets)\n",
    "    \n",
    "    for asset in assets:\n",
    "        if progress: ui.printProgressBar(iteration, total)\n",
    "        iteration += 1\n",
    "        time.sleep(sleep)\n",
    "        \n",
    "        try:\n",
    "            # new = (bdl.get_timeseries_data(asset+quote)['close']/df.btc).rename(asset.lower())\n",
    "            new = get_timeseries_data(asset+quote)['close'].rename(asset.lower())\n",
    "            df = pd.concat([df, new], axis=1)\n",
    "        except:\n",
    "            print(f\"Warning: No symbol exists: {asset+quote}\")\n",
    "                    \n",
    "    ui.printProgressBar(iteration, total)\n",
    "        \n",
    "    return df"
   ]
  },
  {
   "cell_type": "code",
   "execution_count": 7,
   "id": "0ce172a5-062d-426a-8617-7efab288f9fa",
   "metadata": {},
   "outputs": [],
   "source": [
    "def get_timeseries_data(pair:str):\n",
    "    \"\"\"gets the binance past timeseries\"\"\"    \n",
    "    klines = client.get_historical_klines(pair, client.KLINE_INTERVAL_5MINUTE, \"30 01 2022 00:00:00\", limit=1000)\n",
    "    df = pd.DataFrame(klines, columns = ['timestamp', 'open', 'high', 'low', 'close', 'volume', 'close_time', 'quote_av', 'trades', 'tb_base_av', 'tb_quote_av', 'ignore'])\n",
    "    df = df[['timestamp', 'open', 'high', 'low', 'close', 'volume']]\n",
    "    df = df.astype(np.float64)\n",
    "    df[\"timestamp\"] = df.timestamp.astype(np.int64)\n",
    "    df['timestamp'] = list(map(lambda x: datetime.utcfromtimestamp(x/1e3), df.timestamp))\n",
    "    df = df.set_index('timestamp')\n",
    "    return df"
   ]
  },
  {
   "cell_type": "code",
   "execution_count": 8,
   "id": "d72bdb98-43a5-4bf0-8bd8-a1bf679c5f04",
   "metadata": {},
   "outputs": [
    {
     "name": "stdout",
     "output_type": "stream",
     "text": [
      " |██████████████████████████████████████████████████| 100.0% \n"
     ]
    }
   ],
   "source": [
    "df = get_backtesting_df()"
   ]
  },
  {
   "cell_type": "code",
   "execution_count": 12,
   "id": "0c6f7e93-7248-4687-957f-9a1505910aec",
   "metadata": {},
   "outputs": [],
   "source": [
    "df.to_csv(\"data/test.csv\")"
   ]
  },
  {
   "cell_type": "code",
   "execution_count": 21,
   "id": "b0fbd525-6c14-45e1-ad4e-1ea699e17e23",
   "metadata": {},
   "outputs": [
    {
     "data": {
      "text/html": [
       "<div>\n",
       "<style scoped>\n",
       "    .dataframe tbody tr th:only-of-type {\n",
       "        vertical-align: middle;\n",
       "    }\n",
       "\n",
       "    .dataframe tbody tr th {\n",
       "        vertical-align: top;\n",
       "    }\n",
       "\n",
       "    .dataframe thead th {\n",
       "        text-align: right;\n",
       "    }\n",
       "</style>\n",
       "<table border=\"1\" class=\"dataframe\">\n",
       "  <thead>\n",
       "    <tr style=\"text-align: right;\">\n",
       "      <th></th>\n",
       "      <th>btc</th>\n",
       "      <th>1inch</th>\n",
       "      <th>aave</th>\n",
       "      <th>aca</th>\n",
       "      <th>ada</th>\n",
       "      <th>agld</th>\n",
       "      <th>aion</th>\n",
       "      <th>akro</th>\n",
       "      <th>alcx</th>\n",
       "      <th>algo</th>\n",
       "      <th>...</th>\n",
       "      <th>xtz</th>\n",
       "      <th>xvs</th>\n",
       "      <th>xzc</th>\n",
       "      <th>yfii</th>\n",
       "      <th>yfi</th>\n",
       "      <th>ygg</th>\n",
       "      <th>zec</th>\n",
       "      <th>zen</th>\n",
       "      <th>zil</th>\n",
       "      <th>zrx</th>\n",
       "    </tr>\n",
       "    <tr>\n",
       "      <th>timestamp</th>\n",
       "      <th></th>\n",
       "      <th></th>\n",
       "      <th></th>\n",
       "      <th></th>\n",
       "      <th></th>\n",
       "      <th></th>\n",
       "      <th></th>\n",
       "      <th></th>\n",
       "      <th></th>\n",
       "      <th></th>\n",
       "      <th></th>\n",
       "      <th></th>\n",
       "      <th></th>\n",
       "      <th></th>\n",
       "      <th></th>\n",
       "      <th></th>\n",
       "      <th></th>\n",
       "      <th></th>\n",
       "      <th></th>\n",
       "      <th></th>\n",
       "      <th></th>\n",
       "    </tr>\n",
       "  </thead>\n",
       "  <tbody>\n",
       "    <tr>\n",
       "      <th>2022-02-26 03:10:00</th>\n",
       "      <td>-0.004295</td>\n",
       "      <td>-0.004093</td>\n",
       "      <td>-0.003554</td>\n",
       "      <td>0.005912</td>\n",
       "      <td>-0.006536</td>\n",
       "      <td>-0.007563</td>\n",
       "      <td>-0.002478</td>\n",
       "      <td>-0.001505</td>\n",
       "      <td>-0.001502</td>\n",
       "      <td>-0.002719</td>\n",
       "      <td>...</td>\n",
       "      <td>-0.007681</td>\n",
       "      <td>-0.006417</td>\n",
       "      <td>NaN</td>\n",
       "      <td>-0.002001</td>\n",
       "      <td>-0.003664</td>\n",
       "      <td>-0.007094</td>\n",
       "      <td>-0.001837</td>\n",
       "      <td>0.000852</td>\n",
       "      <td>-0.004543</td>\n",
       "      <td>-0.003247</td>\n",
       "    </tr>\n",
       "    <tr>\n",
       "      <th>2022-02-26 03:15:00</th>\n",
       "      <td>0.001703</td>\n",
       "      <td>0.000685</td>\n",
       "      <td>0.002853</td>\n",
       "      <td>0.007557</td>\n",
       "      <td>0.003289</td>\n",
       "      <td>0.003387</td>\n",
       "      <td>0.001242</td>\n",
       "      <td>0.003014</td>\n",
       "      <td>0.000000</td>\n",
       "      <td>0.000593</td>\n",
       "      <td>...</td>\n",
       "      <td>0.000298</td>\n",
       "      <td>0.001076</td>\n",
       "      <td>NaN</td>\n",
       "      <td>0.000501</td>\n",
       "      <td>0.001355</td>\n",
       "      <td>0.001299</td>\n",
       "      <td>0.000920</td>\n",
       "      <td>0.000284</td>\n",
       "      <td>0.001201</td>\n",
       "      <td>0.000724</td>\n",
       "    </tr>\n",
       "    <tr>\n",
       "      <th>2022-02-26 03:20:00</th>\n",
       "      <td>-0.000724</td>\n",
       "      <td>-0.002738</td>\n",
       "      <td>-0.002134</td>\n",
       "      <td>0.003333</td>\n",
       "      <td>-0.002186</td>\n",
       "      <td>-0.005063</td>\n",
       "      <td>-0.002481</td>\n",
       "      <td>-0.000751</td>\n",
       "      <td>-0.006767</td>\n",
       "      <td>-0.003198</td>\n",
       "      <td>...</td>\n",
       "      <td>-0.005952</td>\n",
       "      <td>-0.002151</td>\n",
       "      <td>NaN</td>\n",
       "      <td>-0.005010</td>\n",
       "      <td>-0.002811</td>\n",
       "      <td>-0.002271</td>\n",
       "      <td>-0.004596</td>\n",
       "      <td>-0.003688</td>\n",
       "      <td>-0.004559</td>\n",
       "      <td>-0.004702</td>\n",
       "    </tr>\n",
       "  </tbody>\n",
       "</table>\n",
       "<p>3 rows × 297 columns</p>\n",
       "</div>"
      ],
      "text/plain": [
       "                          btc     1inch      aave       aca       ada  \\\n",
       "timestamp                                                               \n",
       "2022-02-26 03:10:00 -0.004295 -0.004093 -0.003554  0.005912 -0.006536   \n",
       "2022-02-26 03:15:00  0.001703  0.000685  0.002853  0.007557  0.003289   \n",
       "2022-02-26 03:20:00 -0.000724 -0.002738 -0.002134  0.003333 -0.002186   \n",
       "\n",
       "                         agld      aion      akro      alcx      algo  ...  \\\n",
       "timestamp                                                              ...   \n",
       "2022-02-26 03:10:00 -0.007563 -0.002478 -0.001505 -0.001502 -0.002719  ...   \n",
       "2022-02-26 03:15:00  0.003387  0.001242  0.003014  0.000000  0.000593  ...   \n",
       "2022-02-26 03:20:00 -0.005063 -0.002481 -0.000751 -0.006767 -0.003198  ...   \n",
       "\n",
       "                          xtz       xvs  xzc      yfii       yfi       ygg  \\\n",
       "timestamp                                                                    \n",
       "2022-02-26 03:10:00 -0.007681 -0.006417  NaN -0.002001 -0.003664 -0.007094   \n",
       "2022-02-26 03:15:00  0.000298  0.001076  NaN  0.000501  0.001355  0.001299   \n",
       "2022-02-26 03:20:00 -0.005952 -0.002151  NaN -0.005010 -0.002811 -0.002271   \n",
       "\n",
       "                          zec       zen       zil       zrx  \n",
       "timestamp                                                    \n",
       "2022-02-26 03:10:00 -0.001837  0.000852 -0.004543 -0.003247  \n",
       "2022-02-26 03:15:00  0.000920  0.000284  0.001201  0.000724  \n",
       "2022-02-26 03:20:00 -0.004596 -0.003688 -0.004559 -0.004702  \n",
       "\n",
       "[3 rows x 297 columns]"
      ]
     },
     "execution_count": 21,
     "metadata": {},
     "output_type": "execute_result"
    }
   ],
   "source": [
    "pct = (df - df.shift(1))/df.shift(1)\n",
    "pct = pct.loc[:df.iloc[-5].name]\n",
    "# pct.drop(\"btc\", inplace=True, axis=1)\n",
    "pct.drop(\"busd\", inplace=True, axis=1)\n",
    "pct.dropna(how=\"all\", inplace=True)\n",
    "pct.tail(3)"
   ]
  },
  {
   "cell_type": "code",
   "execution_count": 22,
   "id": "6e6441c8-abaa-472d-b066-976a4c117c40",
   "metadata": {},
   "outputs": [],
   "source": [
    "pct = pct.iloc[1:-1]"
   ]
  },
  {
   "cell_type": "code",
   "execution_count": 23,
   "id": "c29044bf-74b8-4b00-adef-8c7135d19283",
   "metadata": {},
   "outputs": [],
   "source": [
    "pct_ = pct"
   ]
  },
  {
   "cell_type": "code",
   "execution_count": 24,
   "id": "948e7a13-1345-4e31-8c6a-b8beaa190752",
   "metadata": {},
   "outputs": [],
   "source": [
    "btc = pct_['btc']\n",
    "pct_.drop(\"btc\", inplace=True, axis=1)"
   ]
  },
  {
   "cell_type": "code",
   "execution_count": 25,
   "id": "0ab3b27b-09b4-49ee-ba1a-3666e0534680",
   "metadata": {},
   "outputs": [],
   "source": [
    "pct_r = list(map(lambda x: pct_.iloc[x].sort_values(ascending=False).index, range(len(pct_))))"
   ]
  },
  {
   "cell_type": "code",
   "execution_count": 26,
   "id": "f7fdc97e-eacd-4d11-9428-1614a5badd65",
   "metadata": {},
   "outputs": [],
   "source": [
    "best = pct_r.copy()\n",
    "best.insert(0, best[-1])\n",
    "del best[-1]"
   ]
  },
  {
   "cell_type": "code",
   "execution_count": 27,
   "id": "45e66b32-83eb-483d-b803-d8ca6555550d",
   "metadata": {},
   "outputs": [],
   "source": [
    "def get_returns(pct, best, num=3, ith=0):\n",
    "    returns = [0, 0]\n",
    "    pret = [0, 0]\n",
    "    trades = [\"\", \"\"]\n",
    "    total = len(pct)\n",
    "    for i in range(2, total):\n",
    "        prev_ret = pct.iloc[i-1][best[i][ith]]\n",
    "        # if best[i][0] not in mbi:\n",
    "        #     returns.append(0)\n",
    "        #     trades.append(\"\")\n",
    "        # elif prev_ret < -1.0:\n",
    "        #     returns.append(0)\n",
    "        #     trades.append(\"\")\n",
    "        # else:\n",
    "        row = pct.iloc[i]\n",
    "        # gain = sum(list(map(lambda x: row[best[i][x]], range(num))))/num\n",
    "        gain = row[best[i][ith]]\n",
    "        if np.isnan(gain):\n",
    "            gain = 0\n",
    "            trades.append(\"\")\n",
    "        else: \n",
    "            trades.append(best[i][ith])\n",
    "        returns.append(-gain)\n",
    "        pret.append(prev_ret)\n",
    "        ui.printProgressBar(i, total)\n",
    "    return returns, pret, trades\n"
   ]
  },
  {
   "cell_type": "code",
   "execution_count": 28,
   "id": "60599308-223a-4491-aea7-0737f395a805",
   "metadata": {},
   "outputs": [
    {
     "name": "stdout",
     "output_type": "stream",
     "text": [
      " |█████████████████████████████████████████████████-| 100.0% \r"
     ]
    }
   ],
   "source": [
    "returns, pret, trades = get_returns(pct_, best, num=1, ith=0)"
   ]
  },
  {
   "cell_type": "code",
   "execution_count": 50,
   "id": "e114cc6d-c61d-4bba-994b-bc032b9a4b5d",
   "metadata": {},
   "outputs": [],
   "source": [
    "d_ = pd.DataFrame({\"trades\":trades, 'pret':pret, 'target':returns}, index=pct_.index)"
   ]
  },
  {
   "cell_type": "code",
   "execution_count": 83,
   "id": "96d790df-63a9-4dfe-b9f0-f30c8447ca14",
   "metadata": {},
   "outputs": [],
   "source": [
    "d = d_[d_.pret>0.04]"
   ]
  },
  {
   "cell_type": "code",
   "execution_count": 84,
   "id": "c74a2d59-6fd4-4ad2-8a71-28722b3dac33",
   "metadata": {},
   "outputs": [],
   "source": [
    "r = list(map(lambda x: x-0.004 if x != 0 else x, d['target']))\n",
    "i = -1\n",
    "b = [None,None]"
   ]
  },
  {
   "cell_type": "code",
   "execution_count": null,
   "id": "1ed3be1c-b2bb-4d80-aab2-b1638696e84f",
   "metadata": {},
   "outputs": [],
   "source": []
  },
  {
   "cell_type": "code",
   "execution_count": 85,
   "id": "dfcd799f-ba26-4507-a978-0f051a23ef85",
   "metadata": {},
   "outputs": [
    {
     "data": {
      "text/plain": [
       "[<matplotlib.lines.Line2D at 0x7fcc607c45e0>]"
      ]
     },
     "execution_count": 85,
     "metadata": {},
     "output_type": "execute_result"
    },
    {
     "data": {
      "image/png": "[encoded data removed]",
      "text/plain": [
       "<Figure size 864x432 with 2 Axes>"
      ]
     },
     "metadata": {
      "needs_background": "light"
     },
     "output_type": "display_data"
    }
   ],
   "source": [
    "cumsum = pd.Series(r).cumsum()[b[0]:b[1]]\n",
    "fig, ax = plt.subplots(2, figsize=(12, 6))\n",
    "ax[0].plot(cumsum)\n",
    "ax[1].plot(df.iloc[b[0]:b[1]].btc)\n",
    "\n",
    "# cumsum.plot()"
   ]
  },
  {
   "cell_type": "code",
   "execution_count": null,
   "id": "68b6116c-5e73-4aa8-b76f-7774882fddd2",
   "metadata": {},
   "outputs": [],
   "source": []
  }
 ],
 "metadata": {
  "kernelspec": {
   "display_name": "Python 3 (ipykernel)",
   "language": "python",
   "name": "python3"
  },
  "language_info": {
   "codemirror_mode": {
    "name": "ipython",
    "version": 3
   },
   "file_extension": ".py",
   "mimetype": "text/x-python",
   "name": "python",
   "nbconvert_exporter": "python",
   "pygments_lexer": "ipython3",
   "version": "3.9.7"
  }
 },
 "nbformat": 4,
 "nbformat_minor": 5
}
