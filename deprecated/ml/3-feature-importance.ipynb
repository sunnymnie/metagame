{
 "cells": [
  {
   "cell_type": "markdown",
   "id": "d91acb06-f11a-446a-994a-e8dc3457c8f1",
   "metadata": {},
   "source": [
    "# Feature importance"
   ]
  },
  {
   "cell_type": "code",
   "execution_count": 16,
   "id": "0eb30b8b-9ee3-4210-abed-d02aff3cacd6",
   "metadata": {},
   "outputs": [],
   "source": [
    "import numpy as np\n",
    "import pandas as pd\n",
    "import matplotlib.pyplot as plt\n",
    "from sklearn.tree import DecisionTreeClassifier\n",
    "from sklearn.ensemble import BaggingClassifier\n",
    "from sklearn.ensemble import RandomForestClassifier\n",
    "\n",
    "from sklearn.model_selection import KFold\n",
    "from sklearn.metrics import log_loss,accuracy_score \n",
    "from scipy.stats import weightedtau\n",
    "import seaborn as sns\n",
    "import sys"
   ]
  },
  {
   "cell_type": "code",
   "execution_count": 17,
   "id": "7d0b0986-cb79-4bdc-aded-a7710d15b46c",
   "metadata": {},
   "outputs": [],
   "source": [
    "cont = pd.read_csv(\"weighted_cont.csv\", index_col=0, parse_dates=True)\n",
    "test = pd.read_csv(\"test.csv\", index_col=0, parse_dates=True)"
   ]
  },
  {
   "cell_type": "code",
   "execution_count": 18,
   "id": "dde02f92-6a04-48db-bf76-2c8cbdb65ad9",
   "metadata": {},
   "outputs": [],
   "source": [
    "cont.sort_index(inplace=True)"
   ]
  },
  {
   "cell_type": "code",
   "execution_count": 19,
   "id": "94face27-6dba-4721-b1fe-fc735485d1f5",
   "metadata": {},
   "outputs": [],
   "source": [
    "cont['random'] = np.random.uniform(size=len(cont))\n",
    "cont['target'] = list(map(lambda x: 1 if x>0.01 else 0, cont['target']))"
   ]
  },
  {
   "cell_type": "code",
   "execution_count": 33,
   "id": "baabe55c-58cf-4fa0-a28d-ed41a09e194f",
   "metadata": {},
   "outputs": [],
   "source": [
    "clf=RandomForestClassifier(n_estimators=1000, \n",
    "                           max_features=1, \n",
    "                           criterion='entropy', \n",
    "                           oob_score=True, \n",
    "                           class_weight='balanced', \n",
    "                           max_samples=1)\n"
   ]
  },
  {
   "cell_type": "code",
   "execution_count": 21,
   "id": "7896a233-f0b9-4f55-93a7-462557ea1ea9",
   "metadata": {},
   "outputs": [],
   "source": [
    "clf = RandomForestClassifier(n_estimators=100,\n",
    "                             max_features=2,\n",
    "                             oob_score=True)\n"
   ]
  },
  {
   "cell_type": "code",
   "execution_count": 22,
   "id": "1dfafe2f-43b0-48f4-84a3-2b58c9c435c7",
   "metadata": {},
   "outputs": [
    {
     "data": {
      "text/html": [
       "<div>\n",
       "<style scoped>\n",
       "    .dataframe tbody tr th:only-of-type {\n",
       "        vertical-align: middle;\n",
       "    }\n",
       "\n",
       "    .dataframe tbody tr th {\n",
       "        vertical-align: top;\n",
       "    }\n",
       "\n",
       "    .dataframe thead th {\n",
       "        text-align: right;\n",
       "    }\n",
       "</style>\n",
       "<table border=\"1\" class=\"dataframe\">\n",
       "  <thead>\n",
       "    <tr style=\"text-align: right;\">\n",
       "      <th></th>\n",
       "      <th>trades</th>\n",
       "      <th>pret</th>\n",
       "      <th>target</th>\n",
       "      <th>gain</th>\n",
       "      <th>pct</th>\n",
       "      <th>cont</th>\n",
       "      <th>w</th>\n",
       "      <th>td</th>\n",
       "      <th>wd</th>\n",
       "      <th>random</th>\n",
       "    </tr>\n",
       "    <tr>\n",
       "      <th>timestamp</th>\n",
       "      <th></th>\n",
       "      <th></th>\n",
       "      <th></th>\n",
       "      <th></th>\n",
       "      <th></th>\n",
       "      <th></th>\n",
       "      <th></th>\n",
       "      <th></th>\n",
       "      <th></th>\n",
       "      <th></th>\n",
       "    </tr>\n",
       "  </thead>\n",
       "  <tbody>\n",
       "    <tr>\n",
       "      <th>2018-09-01 20:00:00</th>\n",
       "      <td>neo</td>\n",
       "      <td>0.020812</td>\n",
       "      <td>0</td>\n",
       "      <td>0.038342</td>\n",
       "      <td>0.668358</td>\n",
       "      <td>0</td>\n",
       "      <td>0.155376</td>\n",
       "      <td>0.500006</td>\n",
       "      <td>0.077689</td>\n",
       "      <td>0.742185</td>\n",
       "    </tr>\n",
       "    <tr>\n",
       "      <th>2018-09-01 22:00:00</th>\n",
       "      <td>etc</td>\n",
       "      <td>-0.004364</td>\n",
       "      <td>0</td>\n",
       "      <td>0.012289</td>\n",
       "      <td>0.575085</td>\n",
       "      <td>0</td>\n",
       "      <td>0.102026</td>\n",
       "      <td>0.500009</td>\n",
       "      <td>0.051014</td>\n",
       "      <td>0.551439</td>\n",
       "    </tr>\n",
       "    <tr>\n",
       "      <th>2018-09-02 00:00:00</th>\n",
       "      <td>bnb</td>\n",
       "      <td>0.005295</td>\n",
       "      <td>1</td>\n",
       "      <td>0.014187</td>\n",
       "      <td>0.772294</td>\n",
       "      <td>0</td>\n",
       "      <td>0.353535</td>\n",
       "      <td>0.500022</td>\n",
       "      <td>0.176775</td>\n",
       "      <td>0.236788</td>\n",
       "    </tr>\n",
       "    <tr>\n",
       "      <th>2018-09-02 02:00:00</th>\n",
       "      <td>eth</td>\n",
       "      <td>-0.005151</td>\n",
       "      <td>0</td>\n",
       "      <td>0.010059</td>\n",
       "      <td>0.419270</td>\n",
       "      <td>0</td>\n",
       "      <td>0.280347</td>\n",
       "      <td>0.500032</td>\n",
       "      <td>0.140182</td>\n",
       "      <td>0.423230</td>\n",
       "    </tr>\n",
       "    <tr>\n",
       "      <th>2018-09-02 04:00:00</th>\n",
       "      <td>icx</td>\n",
       "      <td>0.038464</td>\n",
       "      <td>1</td>\n",
       "      <td>0.045982</td>\n",
       "      <td>0.880761</td>\n",
       "      <td>0</td>\n",
       "      <td>0.382965</td>\n",
       "      <td>0.500046</td>\n",
       "      <td>0.191500</td>\n",
       "      <td>0.704055</td>\n",
       "    </tr>\n",
       "    <tr>\n",
       "      <th>...</th>\n",
       "      <td>...</td>\n",
       "      <td>...</td>\n",
       "      <td>...</td>\n",
       "      <td>...</td>\n",
       "      <td>...</td>\n",
       "      <td>...</td>\n",
       "      <td>...</td>\n",
       "      <td>...</td>\n",
       "      <td>...</td>\n",
       "      <td>...</td>\n",
       "    </tr>\n",
       "    <tr>\n",
       "      <th>2021-11-11 02:00:00</th>\n",
       "      <td>chr</td>\n",
       "      <td>0.193714</td>\n",
       "      <td>0</td>\n",
       "      <td>0.263951</td>\n",
       "      <td>0.739029</td>\n",
       "      <td>0</td>\n",
       "      <td>1.997676</td>\n",
       "      <td>0.999582</td>\n",
       "      <td>1.996841</td>\n",
       "      <td>0.573154</td>\n",
       "    </tr>\n",
       "    <tr>\n",
       "      <th>2021-11-11 04:00:00</th>\n",
       "      <td>mask</td>\n",
       "      <td>0.080998</td>\n",
       "      <td>1</td>\n",
       "      <td>0.164069</td>\n",
       "      <td>0.680263</td>\n",
       "      <td>0</td>\n",
       "      <td>0.898208</td>\n",
       "      <td>0.999614</td>\n",
       "      <td>0.897862</td>\n",
       "      <td>0.110635</td>\n",
       "    </tr>\n",
       "    <tr>\n",
       "      <th>2021-11-11 06:00:00</th>\n",
       "      <td>lrc</td>\n",
       "      <td>0.086893</td>\n",
       "      <td>1</td>\n",
       "      <td>0.099734</td>\n",
       "      <td>0.926804</td>\n",
       "      <td>0</td>\n",
       "      <td>1.313552</td>\n",
       "      <td>0.999661</td>\n",
       "      <td>1.313107</td>\n",
       "      <td>0.198929</td>\n",
       "    </tr>\n",
       "    <tr>\n",
       "      <th>2021-11-11 08:00:00</th>\n",
       "      <td>ctsi</td>\n",
       "      <td>0.162574</td>\n",
       "      <td>0</td>\n",
       "      <td>0.183605</td>\n",
       "      <td>0.892809</td>\n",
       "      <td>0</td>\n",
       "      <td>8.268737</td>\n",
       "      <td>0.999956</td>\n",
       "      <td>8.268375</td>\n",
       "      <td>0.469126</td>\n",
       "    </tr>\n",
       "    <tr>\n",
       "      <th>2021-11-11 10:00:00</th>\n",
       "      <td>ctsi</td>\n",
       "      <td>0.269200</td>\n",
       "      <td>1</td>\n",
       "      <td>0.314679</td>\n",
       "      <td>0.935927</td>\n",
       "      <td>1</td>\n",
       "      <td>1.224151</td>\n",
       "      <td>1.000000</td>\n",
       "      <td>1.224151</td>\n",
       "      <td>0.723172</td>\n",
       "    </tr>\n",
       "  </tbody>\n",
       "</table>\n",
       "<p>13959 rows × 10 columns</p>\n",
       "</div>"
      ],
      "text/plain": [
       "                    trades      pret  target      gain       pct  cont  \\\n",
       "timestamp                                                                \n",
       "2018-09-01 20:00:00    neo  0.020812       0  0.038342  0.668358     0   \n",
       "2018-09-01 22:00:00    etc -0.004364       0  0.012289  0.575085     0   \n",
       "2018-09-02 00:00:00    bnb  0.005295       1  0.014187  0.772294     0   \n",
       "2018-09-02 02:00:00    eth -0.005151       0  0.010059  0.419270     0   \n",
       "2018-09-02 04:00:00    icx  0.038464       1  0.045982  0.880761     0   \n",
       "...                    ...       ...     ...       ...       ...   ...   \n",
       "2021-11-11 02:00:00    chr  0.193714       0  0.263951  0.739029     0   \n",
       "2021-11-11 04:00:00   mask  0.080998       1  0.164069  0.680263     0   \n",
       "2021-11-11 06:00:00    lrc  0.086893       1  0.099734  0.926804     0   \n",
       "2021-11-11 08:00:00   ctsi  0.162574       0  0.183605  0.892809     0   \n",
       "2021-11-11 10:00:00   ctsi  0.269200       1  0.314679  0.935927     1   \n",
       "\n",
       "                            w        td        wd    random  \n",
       "timestamp                                                    \n",
       "2018-09-01 20:00:00  0.155376  0.500006  0.077689  0.742185  \n",
       "2018-09-01 22:00:00  0.102026  0.500009  0.051014  0.551439  \n",
       "2018-09-02 00:00:00  0.353535  0.500022  0.176775  0.236788  \n",
       "2018-09-02 02:00:00  0.280347  0.500032  0.140182  0.423230  \n",
       "2018-09-02 04:00:00  0.382965  0.500046  0.191500  0.704055  \n",
       "...                       ...       ...       ...       ...  \n",
       "2021-11-11 02:00:00  1.997676  0.999582  1.996841  0.573154  \n",
       "2021-11-11 04:00:00  0.898208  0.999614  0.897862  0.110635  \n",
       "2021-11-11 06:00:00  1.313552  0.999661  1.313107  0.198929  \n",
       "2021-11-11 08:00:00  8.268737  0.999956  8.268375  0.469126  \n",
       "2021-11-11 10:00:00  1.224151  1.000000  1.224151  0.723172  \n",
       "\n",
       "[13959 rows x 10 columns]"
      ]
     },
     "execution_count": 22,
     "metadata": {},
     "output_type": "execute_result"
    }
   ],
   "source": [
    "cont = cont.astype('float32', copy=True, errors='ignore')\n",
    "cont = cont.astype('int32', copy=True, errors='ignore')\n",
    "cont['random'] = np.random.uniform(size=len(cont)).astype('float32')\n",
    "cont.dropna(inplace=True)\n",
    "cont"
   ]
  },
  {
   "cell_type": "code",
   "execution_count": 34,
   "id": "945db2a6-a3ed-4c64-9bf5-17942d744d38",
   "metadata": {},
   "outputs": [],
   "source": [
    "fit=clf.fit(X=cont.drop(['target', 'w', 'wd', 'td', 'trades'], axis=1),\n",
    "            y=cont['target'],sample_weight=cont['wd'].values) \n"
   ]
  },
  {
   "cell_type": "code",
   "execution_count": 35,
   "id": "8258ab24-03d4-475e-8402-44594d1c4007",
   "metadata": {},
   "outputs": [
    {
     "data": {
      "text/plain": [
       "0.5299806576402321"
      ]
     },
     "execution_count": 35,
     "metadata": {},
     "output_type": "execute_result"
    }
   ],
   "source": [
    "oob=fit.oob_score_\n",
    "oob"
   ]
  },
  {
   "cell_type": "code",
   "execution_count": 36,
   "id": "ec1182fd-a3e4-4da1-b5b5-822466a13b49",
   "metadata": {},
   "outputs": [],
   "source": [
    "t_ = test.drop(['target', 'trades'], axis=1)\n",
    "t_['random'] = np.random.uniform(size=len(t_)).astype('float32')"
   ]
  },
  {
   "cell_type": "code",
   "execution_count": 11,
   "id": "b90a6965-c6f3-4e13-8201-bb837584649d",
   "metadata": {
    "collapsed": true,
    "jupyter": {
     "outputs_hidden": true
    },
    "tags": []
   },
   "outputs": [
    {
     "ename": "KeyError",
     "evalue": "'target'",
     "output_type": "error",
     "traceback": [
      "\u001b[0;31m---------------------------------------------------------------------------\u001b[0m",
      "\u001b[0;31mKeyError\u001b[0m                                  Traceback (most recent call last)",
      "\u001b[0;32m~/Documents/Investing/metagame/env/lib/python3.9/site-packages/pandas/core/indexes/base.py\u001b[0m in \u001b[0;36mget_loc\u001b[0;34m(self, key, method, tolerance)\u001b[0m\n\u001b[1;32m   3360\u001b[0m             \u001b[0;32mtry\u001b[0m\u001b[0;34m:\u001b[0m\u001b[0;34m\u001b[0m\u001b[0;34m\u001b[0m\u001b[0m\n\u001b[0;32m-> 3361\u001b[0;31m                 \u001b[0;32mreturn\u001b[0m \u001b[0mself\u001b[0m\u001b[0;34m.\u001b[0m\u001b[0m_engine\u001b[0m\u001b[0;34m.\u001b[0m\u001b[0mget_loc\u001b[0m\u001b[0;34m(\u001b[0m\u001b[0mcasted_key\u001b[0m\u001b[0;34m)\u001b[0m\u001b[0;34m\u001b[0m\u001b[0;34m\u001b[0m\u001b[0m\n\u001b[0m\u001b[1;32m   3362\u001b[0m             \u001b[0;32mexcept\u001b[0m \u001b[0mKeyError\u001b[0m \u001b[0;32mas\u001b[0m \u001b[0merr\u001b[0m\u001b[0;34m:\u001b[0m\u001b[0;34m\u001b[0m\u001b[0;34m\u001b[0m\u001b[0m\n",
      "\u001b[0;32m~/Documents/Investing/metagame/env/lib/python3.9/site-packages/pandas/_libs/index.pyx\u001b[0m in \u001b[0;36mpandas._libs.index.IndexEngine.get_loc\u001b[0;34m()\u001b[0m\n",
      "\u001b[0;32m~/Documents/Investing/metagame/env/lib/python3.9/site-packages/pandas/_libs/index.pyx\u001b[0m in \u001b[0;36mpandas._libs.index.IndexEngine.get_loc\u001b[0;34m()\u001b[0m\n",
      "\u001b[0;32mpandas/_libs/hashtable_class_helper.pxi\u001b[0m in \u001b[0;36mpandas._libs.hashtable.PyObjectHashTable.get_item\u001b[0;34m()\u001b[0m\n",
      "\u001b[0;32mpandas/_libs/hashtable_class_helper.pxi\u001b[0m in \u001b[0;36mpandas._libs.hashtable.PyObjectHashTable.get_item\u001b[0;34m()\u001b[0m\n",
      "\u001b[0;31mKeyError\u001b[0m: 'target'",
      "\nThe above exception was the direct cause of the following exception:\n",
      "\u001b[0;31mKeyError\u001b[0m                                  Traceback (most recent call last)",
      "\u001b[0;32m/var/folders/4n/h7p57sb17sn7vtrtjz3m1xhr0000gn/T/ipykernel_9045/1702851419.py\u001b[0m in \u001b[0;36m<module>\u001b[0;34m\u001b[0m\n\u001b[0;32m----> 1\u001b[0;31m \u001b[0mt_\u001b[0m\u001b[0;34m[\u001b[0m\u001b[0;34m'target'\u001b[0m\u001b[0;34m]\u001b[0m \u001b[0;34m=\u001b[0m \u001b[0mlist\u001b[0m\u001b[0;34m(\u001b[0m\u001b[0mmap\u001b[0m\u001b[0;34m(\u001b[0m\u001b[0;32mlambda\u001b[0m \u001b[0mx\u001b[0m\u001b[0;34m:\u001b[0m \u001b[0;36m1\u001b[0m \u001b[0;32mif\u001b[0m \u001b[0mx\u001b[0m\u001b[0;34m>\u001b[0m\u001b[0;36m0.01\u001b[0m \u001b[0;32melse\u001b[0m \u001b[0;36m0\u001b[0m\u001b[0;34m,\u001b[0m \u001b[0mt_\u001b[0m\u001b[0;34m[\u001b[0m\u001b[0;34m'target'\u001b[0m\u001b[0;34m]\u001b[0m\u001b[0;34m)\u001b[0m\u001b[0;34m)\u001b[0m\u001b[0;34m\u001b[0m\u001b[0;34m\u001b[0m\u001b[0m\n\u001b[0m",
      "\u001b[0;32m~/Documents/Investing/metagame/env/lib/python3.9/site-packages/pandas/core/frame.py\u001b[0m in \u001b[0;36m__getitem__\u001b[0;34m(self, key)\u001b[0m\n\u001b[1;32m   3456\u001b[0m             \u001b[0;32mif\u001b[0m \u001b[0mself\u001b[0m\u001b[0;34m.\u001b[0m\u001b[0mcolumns\u001b[0m\u001b[0;34m.\u001b[0m\u001b[0mnlevels\u001b[0m \u001b[0;34m>\u001b[0m \u001b[0;36m1\u001b[0m\u001b[0;34m:\u001b[0m\u001b[0;34m\u001b[0m\u001b[0;34m\u001b[0m\u001b[0m\n\u001b[1;32m   3457\u001b[0m                 \u001b[0;32mreturn\u001b[0m \u001b[0mself\u001b[0m\u001b[0;34m.\u001b[0m\u001b[0m_getitem_multilevel\u001b[0m\u001b[0;34m(\u001b[0m\u001b[0mkey\u001b[0m\u001b[0;34m)\u001b[0m\u001b[0;34m\u001b[0m\u001b[0;34m\u001b[0m\u001b[0m\n\u001b[0;32m-> 3458\u001b[0;31m             \u001b[0mindexer\u001b[0m \u001b[0;34m=\u001b[0m \u001b[0mself\u001b[0m\u001b[0;34m.\u001b[0m\u001b[0mcolumns\u001b[0m\u001b[0;34m.\u001b[0m\u001b[0mget_loc\u001b[0m\u001b[0;34m(\u001b[0m\u001b[0mkey\u001b[0m\u001b[0;34m)\u001b[0m\u001b[0;34m\u001b[0m\u001b[0;34m\u001b[0m\u001b[0m\n\u001b[0m\u001b[1;32m   3459\u001b[0m             \u001b[0;32mif\u001b[0m \u001b[0mis_integer\u001b[0m\u001b[0;34m(\u001b[0m\u001b[0mindexer\u001b[0m\u001b[0;34m)\u001b[0m\u001b[0;34m:\u001b[0m\u001b[0;34m\u001b[0m\u001b[0;34m\u001b[0m\u001b[0m\n\u001b[1;32m   3460\u001b[0m                 \u001b[0mindexer\u001b[0m \u001b[0;34m=\u001b[0m \u001b[0;34m[\u001b[0m\u001b[0mindexer\u001b[0m\u001b[0;34m]\u001b[0m\u001b[0;34m\u001b[0m\u001b[0;34m\u001b[0m\u001b[0m\n",
      "\u001b[0;32m~/Documents/Investing/metagame/env/lib/python3.9/site-packages/pandas/core/indexes/base.py\u001b[0m in \u001b[0;36mget_loc\u001b[0;34m(self, key, method, tolerance)\u001b[0m\n\u001b[1;32m   3361\u001b[0m                 \u001b[0;32mreturn\u001b[0m \u001b[0mself\u001b[0m\u001b[0;34m.\u001b[0m\u001b[0m_engine\u001b[0m\u001b[0;34m.\u001b[0m\u001b[0mget_loc\u001b[0m\u001b[0;34m(\u001b[0m\u001b[0mcasted_key\u001b[0m\u001b[0;34m)\u001b[0m\u001b[0;34m\u001b[0m\u001b[0;34m\u001b[0m\u001b[0m\n\u001b[1;32m   3362\u001b[0m             \u001b[0;32mexcept\u001b[0m \u001b[0mKeyError\u001b[0m \u001b[0;32mas\u001b[0m \u001b[0merr\u001b[0m\u001b[0;34m:\u001b[0m\u001b[0;34m\u001b[0m\u001b[0;34m\u001b[0m\u001b[0m\n\u001b[0;32m-> 3363\u001b[0;31m                 \u001b[0;32mraise\u001b[0m \u001b[0mKeyError\u001b[0m\u001b[0;34m(\u001b[0m\u001b[0mkey\u001b[0m\u001b[0;34m)\u001b[0m \u001b[0;32mfrom\u001b[0m \u001b[0merr\u001b[0m\u001b[0;34m\u001b[0m\u001b[0;34m\u001b[0m\u001b[0m\n\u001b[0m\u001b[1;32m   3364\u001b[0m \u001b[0;34m\u001b[0m\u001b[0m\n\u001b[1;32m   3365\u001b[0m         \u001b[0;32mif\u001b[0m \u001b[0mis_scalar\u001b[0m\u001b[0;34m(\u001b[0m\u001b[0mkey\u001b[0m\u001b[0;34m)\u001b[0m \u001b[0;32mand\u001b[0m \u001b[0misna\u001b[0m\u001b[0;34m(\u001b[0m\u001b[0mkey\u001b[0m\u001b[0;34m)\u001b[0m \u001b[0;32mand\u001b[0m \u001b[0;32mnot\u001b[0m \u001b[0mself\u001b[0m\u001b[0;34m.\u001b[0m\u001b[0mhasnans\u001b[0m\u001b[0;34m:\u001b[0m\u001b[0;34m\u001b[0m\u001b[0;34m\u001b[0m\u001b[0m\n",
      "\u001b[0;31mKeyError\u001b[0m: 'target'"
     ]
    }
   ],
   "source": [
    "t_['target'] = list(map(lambda x: 1 if x>0.01 else 0, t_['target']))"
   ]
  },
  {
   "cell_type": "code",
   "execution_count": 37,
   "id": "6680cb80-9705-4778-816e-5b5ede933f82",
   "metadata": {},
   "outputs": [],
   "source": [
    "pred = fit.predict(t_)"
   ]
  },
  {
   "cell_type": "code",
   "execution_count": 38,
   "id": "b45b646e-23dc-44a2-9ecb-1ed94efe9d3a",
   "metadata": {},
   "outputs": [
    {
     "data": {
      "text/plain": [
       "0"
      ]
     },
     "execution_count": 38,
     "metadata": {},
     "output_type": "execute_result"
    }
   ],
   "source": [
    "sum(pred)"
   ]
  },
  {
   "cell_type": "code",
   "execution_count": 28,
   "id": "9fbc4773-47c2-453e-8753-434883516cc0",
   "metadata": {},
   "outputs": [
    {
     "data": {
      "text/plain": [
       "array([0.25924728, 0.25222287, 0.2340233 , 0.01401228, 0.24049428])"
      ]
     },
     "execution_count": 28,
     "metadata": {},
     "output_type": "execute_result"
    }
   ],
   "source": [
    "clf.feature_importances_"
   ]
  },
  {
   "cell_type": "code",
   "execution_count": 32,
   "id": "05fd6235-05c4-4d76-a969-a0325de7658d",
   "metadata": {},
   "outputs": [
    {
     "data": {
      "image/png": "[encoded data removed]",
      "text/plain": [
       "<Figure size 504x360 with 2 Axes>"
      ]
     },
     "metadata": {
      "needs_background": "light"
     },
     "output_type": "display_data"
    }
   ],
   "source": [
    "\n",
    "d = pd.DataFrame({\"pred\":pred, \"target\":test['target']})\n",
    "corr_matrix = d.corr()\n",
    "fig, ax = plt.subplots(figsize=(7, 5))\n",
    "ax = sns.heatmap(corr_matrix,\n",
    "                 annot=True,\n",
    "                 linewidths=0.5,\n",
    "                 fmt=\".2f\",\n",
    "                 cmap=\"YlGnBu\")"
   ]
  },
  {
   "cell_type": "code",
   "execution_count": null,
   "id": "e17e879f-3fce-4bbe-832a-92d3353e9008",
   "metadata": {},
   "outputs": [],
   "source": [
    "\n",
    "imp=featImpMDI(fit,featNames=trnsX.columns) \n",
    "oos=cvScore(clf,X=trnsX,y=cont['target'],cv=cv,sample_weight=cont['wd'],\n",
    "            t1=cont['t1'],pctEmbargo=pctEmbargo,scoring=scoring).mean() "
   ]
  }
 ],
 "metadata": {
  "kernelspec": {
   "display_name": "Python 3 (ipykernel)",
   "language": "python",
   "name": "python3"
  },
  "language_info": {
   "codemirror_mode": {
    "name": "ipython",
    "version": 3
   },
   "file_extension": ".py",
   "mimetype": "text/x-python",
   "name": "python",
   "nbconvert_exporter": "python",
   "pygments_lexer": "ipython3",
   "version": "3.9.7"
  }
 },
 "nbformat": 4,
 "nbformat_minor": 5
}
