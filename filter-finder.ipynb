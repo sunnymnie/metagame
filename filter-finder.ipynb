{
 "cells": [
  {
   "cell_type": "code",
   "execution_count": 1,
   "id": "32238109-5e0f-48c4-8cfe-e5a6d31903e7",
   "metadata": {},
   "outputs": [
    {
     "data": {
      "text/plain": [
       "<module 'model' from '/Users/SunnyNie/Documents/Investing/metagame/model.py'>"
      ]
     },
     "execution_count": 1,
     "metadata": {},
     "output_type": "execute_result"
    }
   ],
   "source": [
    "import binance_helpers as bh\n",
    "import matplotlib.pyplot as plt\n",
    "import pandas as pd\n",
    "import numpy as np\n",
    "import model as m\n",
    "import ui\n",
    "import importlib\n",
    "import time\n",
    "from datetime import datetime, timedelta\n",
    "client = bh.new_binance_client()\n",
    "importlib.reload(m)"
   ]
  },
  {
   "cell_type": "code",
   "execution_count": 2,
   "id": "4d1df2b8-1baa-4fcd-9686-7931db5096e4",
   "metadata": {},
   "outputs": [],
   "source": [
    "trades = pd.read_csv(\"data/trades.csv\", index_col=0, parse_dates=True)\n",
    "trades = trades.iloc[15000:]"
   ]
  },
  {
   "cell_type": "code",
   "execution_count": 3,
   "id": "3bd12a6f-4ba8-434f-937f-ea8c7aa020a5",
   "metadata": {},
   "outputs": [
    {
     "data": {
      "text/html": [
       "<div>\n",
       "<style scoped>\n",
       "    .dataframe tbody tr th:only-of-type {\n",
       "        vertical-align: middle;\n",
       "    }\n",
       "\n",
       "    .dataframe tbody tr th {\n",
       "        vertical-align: top;\n",
       "    }\n",
       "\n",
       "    .dataframe thead th {\n",
       "        text-align: right;\n",
       "    }\n",
       "</style>\n",
       "<table border=\"1\" class=\"dataframe\">\n",
       "  <thead>\n",
       "    <tr style=\"text-align: right;\">\n",
       "      <th></th>\n",
       "      <th>trades</th>\n",
       "      <th>pret</th>\n",
       "      <th>target</th>\n",
       "    </tr>\n",
       "    <tr>\n",
       "      <th>timestamp</th>\n",
       "      <th></th>\n",
       "      <th></th>\n",
       "      <th></th>\n",
       "    </tr>\n",
       "  </thead>\n",
       "  <tbody>\n",
       "    <tr>\n",
       "      <th>2021-01-18 04:00:00</th>\n",
       "      <td>omg</td>\n",
       "      <td>0.078883</td>\n",
       "      <td>-0.066712</td>\n",
       "    </tr>\n",
       "    <tr>\n",
       "      <th>2021-01-18 06:00:00</th>\n",
       "      <td>ksm</td>\n",
       "      <td>0.101856</td>\n",
       "      <td>-0.010958</td>\n",
       "    </tr>\n",
       "    <tr>\n",
       "      <th>2021-01-18 08:00:00</th>\n",
       "      <td>gto</td>\n",
       "      <td>0.153777</td>\n",
       "      <td>-0.076823</td>\n",
       "    </tr>\n",
       "    <tr>\n",
       "      <th>2021-01-18 10:00:00</th>\n",
       "      <td>xzc</td>\n",
       "      <td>0.119454</td>\n",
       "      <td>0.029850</td>\n",
       "    </tr>\n",
       "    <tr>\n",
       "      <th>2021-01-18 12:00:00</th>\n",
       "      <td>vtho</td>\n",
       "      <td>0.301679</td>\n",
       "      <td>0.076443</td>\n",
       "    </tr>\n",
       "    <tr>\n",
       "      <th>...</th>\n",
       "      <td>...</td>\n",
       "      <td>...</td>\n",
       "      <td>...</td>\n",
       "    </tr>\n",
       "    <tr>\n",
       "      <th>2022-02-03 14:00:00</th>\n",
       "      <td>stpt</td>\n",
       "      <td>0.149191</td>\n",
       "      <td>0.097609</td>\n",
       "    </tr>\n",
       "    <tr>\n",
       "      <th>2022-02-03 16:00:00</th>\n",
       "      <td>qi</td>\n",
       "      <td>0.182409</td>\n",
       "      <td>0.030491</td>\n",
       "    </tr>\n",
       "    <tr>\n",
       "      <th>2022-02-03 18:00:00</th>\n",
       "      <td>chess</td>\n",
       "      <td>0.178435</td>\n",
       "      <td>0.053161</td>\n",
       "    </tr>\n",
       "    <tr>\n",
       "      <th>2022-02-03 20:00:00</th>\n",
       "      <td>nbs</td>\n",
       "      <td>0.431071</td>\n",
       "      <td>0.184641</td>\n",
       "    </tr>\n",
       "    <tr>\n",
       "      <th>2022-02-03 22:00:00</th>\n",
       "      <td>qnt</td>\n",
       "      <td>0.088446</td>\n",
       "      <td>0.012319</td>\n",
       "    </tr>\n",
       "  </tbody>\n",
       "</table>\n",
       "<p>4582 rows × 3 columns</p>\n",
       "</div>"
      ],
      "text/plain": [
       "                    trades      pret    target\n",
       "timestamp                                     \n",
       "2021-01-18 04:00:00    omg  0.078883 -0.066712\n",
       "2021-01-18 06:00:00    ksm  0.101856 -0.010958\n",
       "2021-01-18 08:00:00    gto  0.153777 -0.076823\n",
       "2021-01-18 10:00:00    xzc  0.119454  0.029850\n",
       "2021-01-18 12:00:00   vtho  0.301679  0.076443\n",
       "...                    ...       ...       ...\n",
       "2022-02-03 14:00:00   stpt  0.149191  0.097609\n",
       "2022-02-03 16:00:00     qi  0.182409  0.030491\n",
       "2022-02-03 18:00:00  chess  0.178435  0.053161\n",
       "2022-02-03 20:00:00    nbs  0.431071  0.184641\n",
       "2022-02-03 22:00:00    qnt  0.088446  0.012319\n",
       "\n",
       "[4582 rows x 3 columns]"
      ]
     },
     "execution_count": 3,
     "metadata": {},
     "output_type": "execute_result"
    }
   ],
   "source": [
    "trades"
   ]
  },
  {
   "cell_type": "code",
   "execution_count": null,
   "id": "88a5bd42-fba3-4dac-9ec2-4f8ba716a516",
   "metadata": {},
   "outputs": [],
   "source": []
  }
 ],
 "metadata": {
  "kernelspec": {
   "display_name": "Python 3 (ipykernel)",
   "language": "python",
   "name": "python3"
  },
  "language_info": {
   "codemirror_mode": {
    "name": "ipython",
    "version": 3
   },
   "file_extension": ".py",
   "mimetype": "text/x-python",
   "name": "python",
   "nbconvert_exporter": "python",
   "pygments_lexer": "ipython3",
   "version": "3.9.7"
  }
 },
 "nbformat": 4,
 "nbformat_minor": 5
}
