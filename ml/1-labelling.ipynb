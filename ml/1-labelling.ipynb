{
 "cells": [
  {
   "cell_type": "markdown",
   "id": "fcb54a4e-7781-48a6-9c0f-6c494a40af18",
   "metadata": {},
   "source": [
    "# labelling\n",
    "Purpose: Create all the labels needed\n",
    "- number of appearances in past 24h\n",
    "- number of appearences in past 3 days\n",
    "- btc sma price movement for past 7 days\n",
    "- current price compared to high/low of past 2 hours\n",
    "- price gain over past 2 hours, 12 hours\n",
    "- pct gain compared to top 5 peers: special one? Or all rallying?\n",
    "- Is continuation? To which degree? ie 1 if previous was also that"
   ]
  },
  {
   "cell_type": "code",
   "execution_count": 21,
   "id": "9bcd7ccf-9550-40ea-83e2-bc3d7f18c280",
   "metadata": {},
   "outputs": [
    {
     "data": {
      "text/plain": [
       "<module 'model' from '/Users/SunnyNie/Documents/Investing/metagame/model.py'>"
      ]
     },
     "execution_count": 21,
     "metadata": {},
     "output_type": "execute_result"
    }
   ],
   "source": [
    "import binance_helpers as bh\n",
    "import matplotlib.pyplot as plt\n",
    "import seaborn as sns\n",
    "import pandas as pd\n",
    "import numpy as np\n",
    "import model as m\n",
    "import ui\n",
    "import importlib\n",
    "import time\n",
    "from datetime import datetime, timedelta\n",
    "client = bh.new_binance_client()\n",
    "importlib.reload(m)"
   ]
  },
  {
   "cell_type": "code",
   "execution_count": 28,
   "id": "53da1f1e-c88e-4f85-ae75-8a1b17b238ee",
   "metadata": {},
   "outputs": [],
   "source": [
    "trades = pd.read_csv(\"data/trades.csv\", index_col=0, parse_dates=True).iloc[-15000:]"
   ]
  },
  {
   "cell_type": "code",
   "execution_count": 29,
   "id": "8f46aaf2-d008-43c1-831a-e47e8a21345d",
   "metadata": {},
   "outputs": [
    {
     "data": {
      "text/html": [
       "<div>\n",
       "<style scoped>\n",
       "    .dataframe tbody tr th:only-of-type {\n",
       "        vertical-align: middle;\n",
       "    }\n",
       "\n",
       "    .dataframe tbody tr th {\n",
       "        vertical-align: top;\n",
       "    }\n",
       "\n",
       "    .dataframe thead th {\n",
       "        text-align: right;\n",
       "    }\n",
       "</style>\n",
       "<table border=\"1\" class=\"dataframe\">\n",
       "  <thead>\n",
       "    <tr style=\"text-align: right;\">\n",
       "      <th></th>\n",
       "      <th>trades</th>\n",
       "      <th>pret</th>\n",
       "      <th>target</th>\n",
       "    </tr>\n",
       "    <tr>\n",
       "      <th>timestamp</th>\n",
       "      <th></th>\n",
       "      <th></th>\n",
       "      <th></th>\n",
       "    </tr>\n",
       "  </thead>\n",
       "  <tbody>\n",
       "    <tr>\n",
       "      <th>2018-09-01 20:00:00</th>\n",
       "      <td>neo</td>\n",
       "      <td>0.020812</td>\n",
       "      <td>0.005058</td>\n",
       "    </tr>\n",
       "    <tr>\n",
       "      <th>2018-09-01 22:00:00</th>\n",
       "      <td>etc</td>\n",
       "      <td>-0.004364</td>\n",
       "      <td>0.003322</td>\n",
       "    </tr>\n",
       "    <tr>\n",
       "      <th>2018-09-02 00:00:00</th>\n",
       "      <td>bnb</td>\n",
       "      <td>0.005295</td>\n",
       "      <td>0.011510</td>\n",
       "    </tr>\n",
       "    <tr>\n",
       "      <th>2018-09-02 02:00:00</th>\n",
       "      <td>eth</td>\n",
       "      <td>-0.005151</td>\n",
       "      <td>-0.009127</td>\n",
       "    </tr>\n",
       "    <tr>\n",
       "      <th>2018-09-02 04:00:00</th>\n",
       "      <td>icx</td>\n",
       "      <td>0.038464</td>\n",
       "      <td>0.012468</td>\n",
       "    </tr>\n",
       "    <tr>\n",
       "      <th>...</th>\n",
       "      <td>...</td>\n",
       "      <td>...</td>\n",
       "      <td>...</td>\n",
       "    </tr>\n",
       "    <tr>\n",
       "      <th>2022-02-02 10:00:00</th>\n",
       "      <td>people</td>\n",
       "      <td>0.056599</td>\n",
       "      <td>0.015369</td>\n",
       "    </tr>\n",
       "    <tr>\n",
       "      <th>2022-02-02 12:00:00</th>\n",
       "      <td>agld</td>\n",
       "      <td>0.272371</td>\n",
       "      <td>0.097045</td>\n",
       "    </tr>\n",
       "    <tr>\n",
       "      <th>2022-02-02 14:00:00</th>\n",
       "      <td>idex</td>\n",
       "      <td>0.171811</td>\n",
       "      <td>-0.179169</td>\n",
       "    </tr>\n",
       "    <tr>\n",
       "      <th>2022-02-02 16:00:00</th>\n",
       "      <td>idex</td>\n",
       "      <td>0.179169</td>\n",
       "      <td>-0.263573</td>\n",
       "    </tr>\n",
       "    <tr>\n",
       "      <th>2022-02-02 18:00:00</th>\n",
       "      <td>ooki</td>\n",
       "      <td>0.401356</td>\n",
       "      <td>0.064271</td>\n",
       "    </tr>\n",
       "  </tbody>\n",
       "</table>\n",
       "<p>15000 rows × 3 columns</p>\n",
       "</div>"
      ],
      "text/plain": [
       "                     trades      pret    target\n",
       "timestamp                                      \n",
       "2018-09-01 20:00:00     neo  0.020812  0.005058\n",
       "2018-09-01 22:00:00     etc -0.004364  0.003322\n",
       "2018-09-02 00:00:00     bnb  0.005295  0.011510\n",
       "2018-09-02 02:00:00     eth -0.005151 -0.009127\n",
       "2018-09-02 04:00:00     icx  0.038464  0.012468\n",
       "...                     ...       ...       ...\n",
       "2022-02-02 10:00:00  people  0.056599  0.015369\n",
       "2022-02-02 12:00:00    agld  0.272371  0.097045\n",
       "2022-02-02 14:00:00    idex  0.171811 -0.179169\n",
       "2022-02-02 16:00:00    idex  0.179169 -0.263573\n",
       "2022-02-02 18:00:00    ooki  0.401356  0.064271\n",
       "\n",
       "[15000 rows x 3 columns]"
      ]
     },
     "execution_count": 29,
     "metadata": {},
     "output_type": "execute_result"
    }
   ],
   "source": [
    "trades"
   ]
  },
  {
   "cell_type": "code",
   "execution_count": 30,
   "id": "541bd140-cf04-4730-a7fd-7b46dd552af0",
   "metadata": {},
   "outputs": [],
   "source": [
    "t = list(map(lambda x: x>0.01, trades.target))"
   ]
  },
  {
   "cell_type": "code",
   "execution_count": 31,
   "id": "eba7d4a6-0eec-4c73-9606-f902a7464dc3",
   "metadata": {},
   "outputs": [
    {
     "data": {
      "text/plain": [
       "7143"
      ]
     },
     "execution_count": 31,
     "metadata": {},
     "output_type": "execute_result"
    }
   ],
   "source": [
    "t.count(True)"
   ]
  },
  {
   "cell_type": "code",
   "execution_count": 32,
   "id": "a142fd74-790f-4bcf-95c6-320c2b89179c",
   "metadata": {},
   "outputs": [
    {
     "data": {
      "image/png": "[encoded data removed]",
      "text/plain": [
       "<Figure size 1440x1080 with 2 Axes>"
      ]
     },
     "metadata": {
      "needs_background": "light"
     },
     "output_type": "display_data"
    }
   ],
   "source": [
    "indicators = list(trades.columns)\n",
    "# indicators.append(\"target\")\n",
    "\n",
    "d = trades[list(indicators)].copy()\n",
    "corr_matrix = d.corr()\n",
    "fig, ax = plt.subplots(figsize=(20, 15))\n",
    "ax = sns.heatmap(corr_matrix,\n",
    "                 annot=True,\n",
    "                 linewidths=0.5,\n",
    "                 fmt=\".2f\",\n",
    "                 cmap=\"YlGnBu\")"
   ]
  },
  {
   "cell_type": "code",
   "execution_count": 33,
   "id": "80a28f16-3a37-428e-84f0-0d37c1167e85",
   "metadata": {},
   "outputs": [],
   "source": [
    "trades.iloc[:-1000].to_csv(\"cont.csv\")\n",
    "trades.iloc[-1000:].to_csv(\"test.csv\")"
   ]
  },
  {
   "cell_type": "code",
   "execution_count": null,
   "id": "6f394ec5-9e41-4c02-a03e-d45b01134944",
   "metadata": {},
   "outputs": [],
   "source": []
  }
 ],
 "metadata": {
  "kernelspec": {
   "display_name": "Python 3 (ipykernel)",
   "language": "python",
   "name": "python3"
  },
  "language_info": {
   "codemirror_mode": {
    "name": "ipython",
    "version": 3
   },
   "file_extension": ".py",
   "mimetype": "text/x-python",
   "name": "python",
   "nbconvert_exporter": "python",
   "pygments_lexer": "ipython3",
   "version": "3.9.7"
  }
 },
 "nbformat": 4,
 "nbformat_minor": 5
}
