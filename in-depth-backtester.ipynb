{
 "cells": [
  {
   "cell_type": "markdown",
   "id": "db03d8b9-1aac-438e-8449-8dede7cd1f02",
   "metadata": {},
   "source": [
    "# In-depth backtester"
   ]
  },
  {
   "cell_type": "code",
   "execution_count": 1,
   "id": "929b2add-69b8-48ba-abcb-d34ac8ee0425",
   "metadata": {},
   "outputs": [
    {
     "data": {
      "text/plain": [
       "<module 'model' from '/Users/SunnyNie/Documents/Investing/metagame/model.py'>"
      ]
     },
     "execution_count": 1,
     "metadata": {},
     "output_type": "execute_result"
    }
   ],
   "source": [
    "import binance_helpers as bh\n",
    "import matplotlib.pyplot as plt\n",
    "import pandas as pd\n",
    "import numpy as np\n",
    "import model as m\n",
    "import ui\n",
    "import importlib\n",
    "import time\n",
    "from datetime import datetime, timedelta\n",
    "client = bh.new_binance_client()\n",
    "importlib.reload(m)"
   ]
  },
  {
   "cell_type": "code",
   "execution_count": 2,
   "id": "85751d5a-0873-4732-a330-cd03c017d690",
   "metadata": {},
   "outputs": [],
   "source": [
    "trades = pd.read_csv(\"data/trades.csv\", index_col=0, parse_dates=True)"
   ]
  },
  {
   "cell_type": "code",
   "execution_count": 3,
   "id": "5382253b-5f26-4f38-95be-b4b958ccdabe",
   "metadata": {},
   "outputs": [],
   "source": [
    "trades = trades.iloc[15000:]"
   ]
  },
  {
   "cell_type": "code",
   "execution_count": 24,
   "id": "c5205411-577d-4df7-8369-0c48f2432e60",
   "metadata": {},
   "outputs": [],
   "source": [
    "t = [trades.iloc[i] for i in range(len(trades)) if (i==0) or trades.iloc[i].trades != trades.iloc[i-1].trades]"
   ]
  },
  {
   "cell_type": "code",
   "execution_count": 25,
   "id": "63d4c202-987e-4cdf-953f-65861e043e1b",
   "metadata": {},
   "outputs": [],
   "source": [
    "trades = pd.Series([t[i].trades for i in range(len(t))], index=[t[i].name for i in range(len(t))]).to_frame(\"trades\")"
   ]
  },
  {
   "cell_type": "code",
   "execution_count": 4,
   "id": "7550ad97-7cf8-45eb-8c8d-eeaab3c849ff",
   "metadata": {},
   "outputs": [],
   "source": [
    "def analyze(trades, func):\n",
    "    result = []\n",
    "    for _ in range(len(func)):\n",
    "        result.append([])\n",
    "    i = 0\n",
    "    length = len(trades)\n",
    "    for i in range(length):\n",
    "        s = trades.iloc[i].name\n",
    "        e = s+timedelta(hours=0)\n",
    "        ss = (s-timedelta(hours=2)).strftime(\"%d %b %Y %H:%M:%S\")\n",
    "        es = (e+timedelta(hours=0)).strftime(\"%d %b %Y %H:%M:%S\")\n",
    "        try:\n",
    "            name = trades.iloc[i].trades.upper()+\"USDT\"\n",
    "            klines = client.get_historical_klines(symbol=name, interval = \"1m\", start_str=ss, end_str=es)\n",
    "            btc = client.get_historical_klines(symbol=\"BTCUSDT\", interval = \"1m\", start_str=ss, end_str=es)\n",
    "            for j in range(len(func)):\n",
    "                try:\n",
    "                    result[j].append(func[j](klines, btc))\n",
    "                except:\n",
    "                    print(f\"Warning: failed for function #{j} for trades.iloc[{i}]\")\n",
    "                    result[j].append(0)\n",
    "        except:\n",
    "            print(f\"Warning: failed for trades.iloc[{i}]\")\n",
    "            for j in range(len(func)):\n",
    "                result[j].append(0)\n",
    "        i += 1\n",
    "        ui.printProgressBar(i, length)\n",
    "    return result"
   ]
  },
  {
   "cell_type": "code",
   "execution_count": 5,
   "id": "b07a05bf-d9ca-41e8-aa42-71bc0d5c9d67",
   "metadata": {},
   "outputs": [],
   "source": [
    "def pct(klines, btc):\n",
    "    series = get_closes(klines)\n",
    "    return (series[-1]-min(series))/(max(series)-min(series))\n",
    "    \n",
    "def get_closes(klines):\n",
    "    return list(map(lambda x: float(x[4]), klines))\n"
   ]
  },
  {
   "cell_type": "code",
   "execution_count": 6,
   "id": "31cdfda4-fd65-48dc-96f2-883f25053cad",
   "metadata": {},
   "outputs": [
    {
     "name": "stdout",
     "output_type": "stream",
     "text": [
      "Warning: failed for trades.iloc[287]----------------| 6.3% \n",
      "Warning: failed for trades.iloc[1103]---------------| 24.1% \n",
      "Warning: failed for function #0 for trades.iloc[1104] 24.1% \n",
      "Warning: failed for trades.iloc[1165]---------------| 25.4% \n",
      "Warning: failed for function #0 for trades.iloc[1166] 25.4% \n",
      "Warning: failed for trades.iloc[2483]---------------| 54.2% \n",
      "Warning: failed for trades.iloc[2484]---------------| 54.2% \n",
      "Warning: failed for function #0 for trades.iloc[2485] 54.2% \n",
      " |██████████████████████████████████████████████████| 100.0% \n"
     ]
    }
   ],
   "source": [
    "result = analyze(trades, [pct])"
   ]
  },
  {
   "cell_type": "code",
   "execution_count": 7,
   "id": "501175df-a0f0-4100-88b7-54f7b09a745d",
   "metadata": {},
   "outputs": [],
   "source": [
    "df = pd.DataFrame({\"pct\":result[0]}, index=trades.index)\n"
   ]
  },
  {
   "cell_type": "code",
   "execution_count": 10,
   "id": "e31033f8-dfac-4ba3-95e1-9a016e78817e",
   "metadata": {},
   "outputs": [],
   "source": [
    "trades['pct'] = df.pct"
   ]
  },
  {
   "cell_type": "code",
   "execution_count": 38,
   "id": "3b3c691a-eb48-4dbf-9ae1-f51d67fa6927",
   "metadata": {},
   "outputs": [
    {
     "data": {
      "text/plain": [
       "(2328, 2254)"
      ]
     },
     "execution_count": 38,
     "metadata": {},
     "output_type": "execute_result"
    }
   ],
   "source": [
    "i = 0.8\n",
    "len(trades.loc[trades.pct>i]), len(trades.loc[trades.pct<i])"
   ]
  },
  {
   "cell_type": "code",
   "execution_count": 75,
   "id": "e19cba59-c243-4983-a37b-1a9174911936",
   "metadata": {},
   "outputs": [
    {
     "data": {
      "text/plain": [
       "<matplotlib.lines.Line2D at 0x7ff9a78ba6d0>"
      ]
     },
     "execution_count": 75,
     "metadata": {},
     "output_type": "execute_result"
    },
    {
     "data": {
      "image/png": "[encoded data removed]",
      "text/plain": [
       "<Figure size 864x288 with 1 Axes>"
      ]
     },
     "metadata": {
      "needs_background": "light"
     },
     "output_type": "display_data"
    }
   ],
   "source": [
    "fig, ax = plt.subplots(figsize=(12, 4))\n",
    "ax.scatter(trades.pct, trades.target, alpha=0.1)\n",
    "ax.axhline(0, c=\"white\", alpha=0.5)"
   ]
  },
  {
   "cell_type": "code",
   "execution_count": 65,
   "id": "8fe7b654-e348-4596-9383-a75bb0bf7154",
   "metadata": {},
   "outputs": [
    {
     "data": {
      "text/plain": [
       "595"
      ]
     },
     "execution_count": 65,
     "metadata": {},
     "output_type": "execute_result"
    }
   ],
   "source": [
    "len(trades.loc[trades.pct>0.99])"
   ]
  },
  {
   "cell_type": "code",
   "execution_count": 74,
   "id": "661b49df-b025-4837-942c-f862c59fed06",
   "metadata": {},
   "outputs": [
    {
     "data": {
      "text/plain": [
       "<AxesSubplot:xlabel='timestamp'>"
      ]
     },
     "execution_count": 74,
     "metadata": {},
     "output_type": "execute_result"
    },
    {
     "data": {
      "image/png": "[encoded data removed]",
      "text/plain": [
       "<Figure size 432x288 with 1 Axes>"
      ]
     },
     "metadata": {
      "needs_background": "light"
     },
     "output_type": "display_data"
    }
   ],
   "source": [
    "trades.loc[trades.pct<0.99].target.cumsum().plot()"
   ]
  },
  {
   "cell_type": "code",
   "execution_count": 35,
   "id": "719e8ab2-68e2-45b6-96a7-b1949a4366ba",
   "metadata": {},
   "outputs": [],
   "source": [
    "def analyze(trades, func):\n",
    "    result = []\n",
    "    for _ in range(len(func)):\n",
    "        result.append([])\n",
    "    i = 0\n",
    "    length = len(trades)\n",
    "    for i in range(length):\n",
    "        s = trades.iloc[i].name\n",
    "        e = s+timedelta(hours=2)\n",
    "        ss = (s-timedelta(hours=0)).strftime(\"%d %b %Y %H:%M:%S\")\n",
    "        es = (e+timedelta(hours=0)).strftime(\"%d %b %Y %H:%M:%S\")\n",
    "        try:\n",
    "            name = trades.iloc[i].trades.upper()+\"USDT\"\n",
    "            klines = client.get_historical_klines(symbol=name, interval = \"1m\", start_str=ss, end_str=es)\n",
    "            btc = client.get_historical_klines(symbol=\"BTCUSDT\", interval = \"1m\", start_str=ss, end_str=es)\n",
    "            for j in range(len(func)):\n",
    "                try:\n",
    "                    result[j].append(func[j](klines, btc))\n",
    "                except:\n",
    "                    print(f\"Warning: failed for function #{j} for trades.iloc[{i}]\")\n",
    "                    result[j].append(0)\n",
    "        except:\n",
    "            print(f\"Warning: failed for trades.iloc[{i}]\")\n",
    "            for j in range(len(func)):\n",
    "                result[j].append(0)\n",
    "        i += 1\n",
    "        ui.printProgressBar(i, length)\n",
    "    return result"
   ]
  },
  {
   "cell_type": "code",
   "execution_count": 36,
   "id": "bc41c2aa-9dff-4b47-89ec-be55d4d15a82",
   "metadata": {},
   "outputs": [],
   "source": [
    "def get_max(klines, btc):\n",
    "    first = float(klines[0][3])\n",
    "    high = max(list(map(lambda x: float(x[2]), klines)))\n",
    "    return (high-first)/first\n",
    "\n",
    "def get_change_in_price(klines, btc):\n",
    "    series = get_klines_over_btc(klines, btc)\n",
    "    return series[-1]/series[0]\n",
    "\n",
    "def get_most_favourable(klines, btc):\n",
    "    series = get_klines_over_btc(klines, btc)\n",
    "    low = min(series)\n",
    "    return (series[0]-low)/series[0]\n",
    "    \n",
    "    \n",
    "def get_closes(klines):\n",
    "    return list(map(lambda x: float(x[4]), klines))\n",
    "\n",
    "def get_klines_over_btc(klines, btc):\n",
    "    return list(map(lambda x, y: x/y, get_closes(klines), get_closes(btc)))"
   ]
  },
  {
   "cell_type": "code",
   "execution_count": 37,
   "id": "6eff3ae2-4427-4741-9f2f-58ed2dc9d567",
   "metadata": {},
   "outputs": [
    {
     "name": "stdout",
     "output_type": "stream",
     "text": [
      "Warning: failed for trades.iloc[1103]---------------| 24.1% \n",
      "Warning: failed for trades.iloc[1165]---------------| 25.5% \n",
      "Warning: failed for trades.iloc[2483]---------------| 54.4% \n",
      "Warning: failed for trades.iloc[2484]---------------| 54.4% \n",
      " |██████████████████████████████████████████████████| 100.0% \n"
     ]
    }
   ],
   "source": [
    "result1 = analyze(trades, [get_max, get_change_in_price, get_most_favourable])"
   ]
  },
  {
   "cell_type": "code",
   "execution_count": 39,
   "id": "f21d0b62-2c28-4680-8d23-4336f8f08d8b",
   "metadata": {},
   "outputs": [
    {
     "name": "stdout",
     "output_type": "stream",
     "text": [
      "Median: -1.85%\n",
      "Mean: -1.07%\n"
     ]
    }
   ],
   "source": [
    "df_ = pd.DataFrame({\"high\":result1[0], \"chg\":result1[1], \"best\":result1[2]}, index=trades.index)\n",
    "print(f\"Median: {round((df_.chg.median()-1)*100, 2)}%\\nMean: {round((df_.chg.mean()-1)*100, 2)}%\")"
   ]
  },
  {
   "cell_type": "code",
   "execution_count": 28,
   "id": "b4164618-658a-4e00-9c92-287520c180d5",
   "metadata": {
    "tags": []
   },
   "outputs": [
    {
     "name": "stdout",
     "output_type": "stream",
     "text": [
      "Warning: failed for trades.iloc[1031]---------------| 23.8% \n",
      "Warning: failed for trades.iloc[1092]---------------| 25.3% \n",
      "Warning: failed for trades.iloc[2345]---------------| 54.2% \n",
      "Warning: failed for trades.iloc[2346]---------------| 54.3% \n",
      " |██████████████████████████████████████████████████| 100.0% \n"
     ]
    }
   ],
   "source": [
    "result = analyze(trades, [get_max, get_change_in_price, get_most_favourable])"
   ]
  },
  {
   "cell_type": "code",
   "execution_count": 40,
   "id": "b83d625a-e9e0-4db7-8c35-76e9810e1aea",
   "metadata": {},
   "outputs": [
    {
     "data": {
      "image/png": "[encoded data removed]",
      "text/plain": [
       "<Figure size 864x288 with 1 Axes>"
      ]
     },
     "metadata": {
      "needs_background": "light"
     },
     "output_type": "display_data"
    }
   ],
   "source": [
    "fig, ax = plt.subplots(figsize=(12, 4))\n",
    "ax.scatter(df_.index, df_.chg)\n",
    "ax.axhline(1, color=\"gray\", alpha=0.3);"
   ]
  },
  {
   "cell_type": "code",
   "execution_count": 29,
   "id": "c294d261-c7a2-4c35-9c8f-eb20c8c2417d",
   "metadata": {},
   "outputs": [],
   "source": [
    "df = pd.DataFrame({\"high\":result[0], \"chg\":result[1], \"best\":result[2]}, index=trades.index)"
   ]
  },
  {
   "cell_type": "code",
   "execution_count": 30,
   "id": "b984a84d-7f51-448c-9270-7f8e650b65e6",
   "metadata": {},
   "outputs": [
    {
     "name": "stdout",
     "output_type": "stream",
     "text": [
      "Median: -1.8%\n",
      "Mean: -1.08%\n"
     ]
    }
   ],
   "source": [
    "print(f\"Median: {round((df.chg.median()-1)*100, 2)}%\\nMean: {round((df.chg.mean()-1)*100, 2)}%\")"
   ]
  },
  {
   "cell_type": "code",
   "execution_count": 31,
   "id": "c350c0a7-9fd2-445d-a8ee-604dc98bb818",
   "metadata": {},
   "outputs": [
    {
     "data": {
      "image/png": "[encoded data removed]",
      "text/plain": [
       "<Figure size 864x288 with 1 Axes>"
      ]
     },
     "metadata": {
      "needs_background": "light"
     },
     "output_type": "display_data"
    }
   ],
   "source": [
    "fig, ax = plt.subplots(figsize=(12, 4))\n",
    "ax.scatter(df.index, df.chg)\n",
    "ax.axhline(1, color=\"gray\", alpha=0.3);"
   ]
  },
  {
   "cell_type": "code",
   "execution_count": 13,
   "id": "3fe60c3a-4511-4c87-99ba-66cdb8550659",
   "metadata": {},
   "outputs": [],
   "source": [
    "def get_tp_sl(klines, btc, tp, sl):\n",
    "    series = get_klines_over_btc(klines, btc)\n",
    "    start = series[0]\n",
    "    tp_ = [i for i in range(len(series)) if series[i] > start*tp]\n",
    "    sl_ = [i for i in range(len(series)) if series[i] < start*sl]\n",
    "    if tp_ == [] and sl_ == []:\n",
    "        return get_change_in_price(klines, btc)\n",
    "    elif tp_ == []:\n",
    "        return sl\n",
    "    elif sl_ == []:\n",
    "        return tp\n",
    "    else: return sl if sl_[0]<tp_[0] else tp\n",
    "    \n",
    "def get_150tp(klines, btc):\n",
    "    return get_tp_sl(klines, btc, 1.5, 0)\n",
    "\n",
    "def get_096sl(klines, btc):\n",
    "    return get_tp_sl(klines, btc, 100, 0.96)\n",
    "\n",
    "def get_150tp_098sl(klines, btc):\n",
    "    return get_tp_sl(klines, btc, 1.5, 0.98)\n",
    "\n",
    "def get_150tp_096sl(klines, btc):\n",
    "    return get_tp_sl(klines, btc, 1.5, 0.96)\n",
    "\n",
    "def get_150tp_094sl(klines, btc):\n",
    "    return get_tp_sl(klines, btc, 1.5, 0.94)\n"
   ]
  },
  {
   "cell_type": "code",
   "execution_count": 14,
   "id": "3f529173-90ac-4a14-bc10-735f51afe9a4",
   "metadata": {},
   "outputs": [],
   "source": [
    "funcs = [get_150tp, get_096sl, get_150tp_098sl, get_150tp_096sl, get_150tp_094sl]"
   ]
  },
  {
   "cell_type": "code",
   "execution_count": 15,
   "id": "b1e508b8-6541-4799-86f3-750b807f9fbd",
   "metadata": {},
   "outputs": [
    {
     "name": "stdout",
     "output_type": "stream",
     "text": [
      " |██████████████████████████████████████████████████| 100.0% \n"
     ]
    }
   ],
   "source": [
    "result = analyze(trades, funcs)"
   ]
  },
  {
   "cell_type": "code",
   "execution_count": 16,
   "id": "1b354e90-d0e3-48e7-8f12-80e8572cbdd8",
   "metadata": {},
   "outputs": [],
   "source": [
    "backtest = pd.DataFrame({\"tp150\":result[0], \"sl096\":result[1], \"tp150sl098\":result[2], \"tp150sl096\":result[3], \"tp150sl094\":result[4]}, index=trades.index)\n"
   ]
  },
  {
   "cell_type": "code",
   "execution_count": 17,
   "id": "5964aba4-88ff-4149-99ea-2e98a2f4063e",
   "metadata": {},
   "outputs": [
    {
     "data": {
      "text/html": [
       "<div>\n",
       "<style scoped>\n",
       "    .dataframe tbody tr th:only-of-type {\n",
       "        vertical-align: middle;\n",
       "    }\n",
       "\n",
       "    .dataframe tbody tr th {\n",
       "        vertical-align: top;\n",
       "    }\n",
       "\n",
       "    .dataframe thead th {\n",
       "        text-align: right;\n",
       "    }\n",
       "</style>\n",
       "<table border=\"1\" class=\"dataframe\">\n",
       "  <thead>\n",
       "    <tr style=\"text-align: right;\">\n",
       "      <th></th>\n",
       "      <th>tp150</th>\n",
       "      <th>sl096</th>\n",
       "      <th>tp150sl098</th>\n",
       "      <th>tp150sl096</th>\n",
       "      <th>tp150sl094</th>\n",
       "    </tr>\n",
       "  </thead>\n",
       "  <tbody>\n",
       "    <tr>\n",
       "      <th>2022-01-28 06:00:00</th>\n",
       "      <td>0.975155</td>\n",
       "      <td>0.975155</td>\n",
       "      <td>0.980000</td>\n",
       "      <td>0.975155</td>\n",
       "      <td>0.975155</td>\n",
       "    </tr>\n",
       "    <tr>\n",
       "      <th>2022-01-29 16:00:00</th>\n",
       "      <td>1.060650</td>\n",
       "      <td>1.060650</td>\n",
       "      <td>0.980000</td>\n",
       "      <td>1.060650</td>\n",
       "      <td>1.060650</td>\n",
       "    </tr>\n",
       "    <tr>\n",
       "      <th>2022-01-29 18:00:00</th>\n",
       "      <td>1.030425</td>\n",
       "      <td>1.030425</td>\n",
       "      <td>0.980000</td>\n",
       "      <td>1.030425</td>\n",
       "      <td>1.030425</td>\n",
       "    </tr>\n",
       "    <tr>\n",
       "      <th>2022-01-31 08:00:00</th>\n",
       "      <td>0.986089</td>\n",
       "      <td>0.986089</td>\n",
       "      <td>0.986089</td>\n",
       "      <td>0.986089</td>\n",
       "      <td>0.986089</td>\n",
       "    </tr>\n",
       "    <tr>\n",
       "      <th>2022-02-02 16:00:00</th>\n",
       "      <td>1.168211</td>\n",
       "      <td>1.168211</td>\n",
       "      <td>1.168211</td>\n",
       "      <td>1.168211</td>\n",
       "      <td>1.168211</td>\n",
       "    </tr>\n",
       "  </tbody>\n",
       "</table>\n",
       "</div>"
      ],
      "text/plain": [
       "                        tp150     sl096  tp150sl098  tp150sl096  tp150sl094\n",
       "2022-01-28 06:00:00  0.975155  0.975155    0.980000    0.975155    0.975155\n",
       "2022-01-29 16:00:00  1.060650  1.060650    0.980000    1.060650    1.060650\n",
       "2022-01-29 18:00:00  1.030425  1.030425    0.980000    1.030425    1.030425\n",
       "2022-01-31 08:00:00  0.986089  0.986089    0.986089    0.986089    0.986089\n",
       "2022-02-02 16:00:00  1.168211  1.168211    1.168211    1.168211    1.168211"
      ]
     },
     "execution_count": 17,
     "metadata": {},
     "output_type": "execute_result"
    }
   ],
   "source": [
    "backtest.tail()"
   ]
  },
  {
   "cell_type": "code",
   "execution_count": 18,
   "id": "fc6b5e40-ba03-400f-abb2-91a194da87a2",
   "metadata": {},
   "outputs": [],
   "source": [
    "backtest = backtest.replace(0, 1)"
   ]
  },
  {
   "cell_type": "code",
   "execution_count": 19,
   "id": "f09cf222-1138-418a-8c87-bdc9a9049273",
   "metadata": {},
   "outputs": [],
   "source": [
    "def get_chg_series(series):\n",
    "    return pd.Series(list(map(lambda x: -(x-1)-0.004, series)), index=series.index).cumsum()"
   ]
  },
  {
   "cell_type": "code",
   "execution_count": 20,
   "id": "03eb81a2-3c4b-4efc-a087-bbd655e6b46d",
   "metadata": {},
   "outputs": [
    {
     "data": {
      "text/plain": [
       "<AxesSubplot:>"
      ]
     },
     "execution_count": 20,
     "metadata": {},
     "output_type": "execute_result"
    },
    {
     "data": {
      "image/png": "[encoded data removed]",
      "text/plain": [
       "<Figure size 432x288 with 1 Axes>"
      ]
     },
     "metadata": {
      "needs_background": "light"
     },
     "output_type": "display_data"
    }
   ],
   "source": [
    "get_chg_series(backtest.tp150).plot()"
   ]
  },
  {
   "cell_type": "code",
   "execution_count": 21,
   "id": "b4c3e52a-6336-42c0-8dd7-63287bdb911e",
   "metadata": {},
   "outputs": [
    {
     "data": {
      "text/plain": [
       "<AxesSubplot:>"
      ]
     },
     "execution_count": 21,
     "metadata": {},
     "output_type": "execute_result"
    },
    {
     "data": {
      "image/png": "[encoded data removed]",
      "text/plain": [
       "<Figure size 432x288 with 1 Axes>"
      ]
     },
     "metadata": {
      "needs_background": "light"
     },
     "output_type": "display_data"
    }
   ],
   "source": [
    "get_chg_series(df.chg).plot()"
   ]
  },
  {
   "cell_type": "code",
   "execution_count": 203,
   "id": "072db9fa-60c9-4bf4-893f-fe514e65e8db",
   "metadata": {},
   "outputs": [],
   "source": [
    "t = 1\n",
    "r_ = list(map(lambda x: (1-x)+1-0.005, backtest.tp150.iloc[-12*30:]))\n",
    "for num in r_:\n",
    "    t*=num"
   ]
  },
  {
   "cell_type": "code",
   "execution_count": 204,
   "id": "09100e16-8dfe-4364-aec9-485400fcfa7e",
   "metadata": {},
   "outputs": [
    {
     "data": {
      "text/plain": [
       "11.49975765131795"
      ]
     },
     "execution_count": 204,
     "metadata": {},
     "output_type": "execute_result"
    }
   ],
   "source": [
    "t"
   ]
  },
  {
   "cell_type": "code",
   "execution_count": null,
   "id": "bd88454f-8c9e-4df0-95a7-5333ec5b37b3",
   "metadata": {},
   "outputs": [],
   "source": [
    "result = "
   ]
  },
  {
   "cell_type": "code",
   "execution_count": 105,
   "id": "af8766fd-9acd-461b-a294-cb7ac041be92",
   "metadata": {},
   "outputs": [
    {
     "data": {
      "text/plain": [
       "<AxesSubplot:xlabel='timestamp'>"
      ]
     },
     "execution_count": 105,
     "metadata": {},
     "output_type": "execute_result"
    },
    {
     "data": {
      "image/png": "[encoded data removed]",
      "text/plain": [
       "<Figure size 432x288 with 1 Axes>"
      ]
     },
     "metadata": {
      "needs_background": "light"
     },
     "output_type": "display_data"
    }
   ],
   "source": [
    "df.chg.plot()"
   ]
  },
  {
   "cell_type": "code",
   "execution_count": 96,
   "id": "ed10057b-a212-44f2-8d85-190f5735e8e4",
   "metadata": {},
   "outputs": [
    {
     "data": {
      "text/html": [
       "<div>\n",
       "<style scoped>\n",
       "    .dataframe tbody tr th:only-of-type {\n",
       "        vertical-align: middle;\n",
       "    }\n",
       "\n",
       "    .dataframe tbody tr th {\n",
       "        vertical-align: top;\n",
       "    }\n",
       "\n",
       "    .dataframe thead th {\n",
       "        text-align: right;\n",
       "    }\n",
       "</style>\n",
       "<table border=\"1\" class=\"dataframe\">\n",
       "  <thead>\n",
       "    <tr style=\"text-align: right;\">\n",
       "      <th></th>\n",
       "      <th>trades</th>\n",
       "    </tr>\n",
       "    <tr>\n",
       "      <th>timestamp</th>\n",
       "      <th></th>\n",
       "    </tr>\n",
       "  </thead>\n",
       "  <tbody>\n",
       "    <tr>\n",
       "      <th>2021-04-19 20:00:00</th>\n",
       "      <td>ctsi</td>\n",
       "    </tr>\n",
       "    <tr>\n",
       "      <th>2021-04-19 22:00:00</th>\n",
       "      <td>bat</td>\n",
       "    </tr>\n",
       "    <tr>\n",
       "      <th>2021-04-20 00:00:00</th>\n",
       "      <td>nmr</td>\n",
       "    </tr>\n",
       "    <tr>\n",
       "      <th>2021-04-20 02:00:00</th>\n",
       "      <td>NaN</td>\n",
       "    </tr>\n",
       "    <tr>\n",
       "      <th>2021-04-20 04:00:00</th>\n",
       "      <td>1inch</td>\n",
       "    </tr>\n",
       "    <tr>\n",
       "      <th>2021-04-20 06:00:00</th>\n",
       "      <td>axs</td>\n",
       "    </tr>\n",
       "    <tr>\n",
       "      <th>2021-04-20 08:00:00</th>\n",
       "      <td>celo</td>\n",
       "    </tr>\n",
       "    <tr>\n",
       "      <th>2021-04-20 10:00:00</th>\n",
       "      <td>celo</td>\n",
       "    </tr>\n",
       "    <tr>\n",
       "      <th>2021-04-20 12:00:00</th>\n",
       "      <td>mtl</td>\n",
       "    </tr>\n",
       "    <tr>\n",
       "      <th>2021-04-20 14:00:00</th>\n",
       "      <td>stpt</td>\n",
       "    </tr>\n",
       "  </tbody>\n",
       "</table>\n",
       "</div>"
      ],
      "text/plain": [
       "                    trades\n",
       "timestamp                 \n",
       "2021-04-19 20:00:00   ctsi\n",
       "2021-04-19 22:00:00    bat\n",
       "2021-04-20 00:00:00    nmr\n",
       "2021-04-20 02:00:00    NaN\n",
       "2021-04-20 04:00:00  1inch\n",
       "2021-04-20 06:00:00    axs\n",
       "2021-04-20 08:00:00   celo\n",
       "2021-04-20 10:00:00   celo\n",
       "2021-04-20 12:00:00    mtl\n",
       "2021-04-20 14:00:00   stpt"
      ]
     },
     "execution_count": 96,
     "metadata": {},
     "output_type": "execute_result"
    }
   ],
   "source": [
    "trades.iloc[1100:1110]"
   ]
  },
  {
   "cell_type": "code",
   "execution_count": 89,
   "id": "a6fa490f-752b-4008-8231-dcf36683622f",
   "metadata": {},
   "outputs": [
    {
     "data": {
      "text/plain": [
       "array(['omg', 'ksm', 'gto', ..., 'alpaca', 'lrc', 'pyr'], dtype=object)"
      ]
     },
     "execution_count": 89,
     "metadata": {},
     "output_type": "execute_result"
    }
   ],
   "source": [
    "trades.trades.values"
   ]
  },
  {
   "cell_type": "code",
   "execution_count": 54,
   "id": "a8d5b187-acf0-4abd-8f0c-344dbb16092c",
   "metadata": {},
   "outputs": [
    {
     "data": {
      "text/plain": [
       "0.050540540540540524"
      ]
     },
     "execution_count": 54,
     "metadata": {},
     "output_type": "execute_result"
    }
   ],
   "source": [
    "get_max(klines, btc)"
   ]
  },
  {
   "cell_type": "code",
   "execution_count": 52,
   "id": "07889f59-5a2c-4462-b5a8-5874598c5ee0",
   "metadata": {},
   "outputs": [
    {
     "data": {
      "text/plain": [
       "[1643126400000,\n",
       " '0.37060000',\n",
       " '0.37510000',\n",
       " '0.37000000',\n",
       " '0.37230000',\n",
       " '154908.50000000',\n",
       " 1643126459999,\n",
       " '57691.20557000',\n",
       " 322,\n",
       " '102038.50000000',\n",
       " '38022.86013000',\n",
       " '0']"
      ]
     },
     "execution_count": 52,
     "metadata": {},
     "output_type": "execute_result"
    }
   ],
   "source": [
    "klines[0]"
   ]
  },
  {
   "cell_type": "code",
   "execution_count": 36,
   "id": "b1ffee70-2224-41e5-8dab-b0353b342ab3",
   "metadata": {},
   "outputs": [],
   "source": [
    "s = trades.iloc[4470].name\n",
    "e = s+timedelta(hours=2)\n",
    "ss = (s-timedelta(hours=0)).strftime(\"%d %b %Y %H:%M:%S\")\n",
    "es = (e+timedelta(hours=0)).strftime(\"%d %b %Y %H:%M:%S\")\n",
    "name = trades.iloc[4470].trades.upper()+\"USDT\"\n",
    "klines = client.get_historical_klines(symbol=name, interval = \"1m\", start_str=ss, end_str=es)\n",
    "btc = client.get_historical_klines(symbol=\"BTCUSDT\", interval = \"1m\", start_str=ss, end_str=es)"
   ]
  },
  {
   "cell_type": "code",
   "execution_count": 43,
   "id": "fc699ec4-7137-44e1-8ea2-cd823d2622c5",
   "metadata": {},
   "outputs": [],
   "source": [
    "ratio = list(map(lambda x, y: float(x[4])/float(y[4]), klines, btc))"
   ]
  },
  {
   "cell_type": "code",
   "execution_count": 47,
   "id": "2256ec0a-c014-47d8-92a8-6ecf2d0a89b6",
   "metadata": {},
   "outputs": [
    {
     "data": {
      "text/plain": [
       "[1.018613847949927e-05,\n",
       " 1.0087239286346988e-05,\n",
       " 1.0035773647886071e-05,\n",
       " 1.0054118024204703e-05,\n",
       " 1.0155451492175068e-05,\n",
       " 1.0567557978506273e-05,\n",
       " 1.0418685924125974e-05,\n",
       " 1.0321730837024872e-05,\n",
       " 1.035518248582349e-05,\n",
       " 1.0422645511545188e-05,\n",
       " 1.0433717283593014e-05,\n",
       " 1.0338784791783966e-05,\n",
       " 1.034985458577227e-05,\n",
       " 1.03513640095705e-05,\n",
       " 1.0298731526359999e-05,\n",
       " 1.0269086638016198e-05,\n",
       " 1.0266199165898564e-05,\n",
       " 1.0311500971262817e-05,\n",
       " 1.0299276876628794e-05,\n",
       " 1.0232586417856487e-05,\n",
       " 1.0169611096489204e-05,\n",
       " 1.0066623583397989e-05,\n",
       " 1.002417755562196e-05,\n",
       " 1.0046622948667561e-05,\n",
       " 1.0057564896274574e-05,\n",
       " 1.0038040750532405e-05,\n",
       " 1.0077238928810942e-05,\n",
       " 1.0123687058807513e-05,\n",
       " 1.0098540986508361e-05,\n",
       " 1.0058258499146856e-05,\n",
       " 1.0013136125650181e-05,\n",
       " 9.999556361544112e-06,\n",
       " 9.983732931881415e-06,\n",
       " 1.0005875258639105e-05,\n",
       " 9.97872347948215e-06,\n",
       " 9.9750759150622e-06,\n",
       " 1.0045088564197506e-05,\n",
       " 9.946519753047416e-06,\n",
       " 9.94550408719346e-06,\n",
       " 9.945501377247581e-06,\n",
       " 9.91116728105188e-06,\n",
       " 9.858937795975454e-06,\n",
       " 9.940917343284401e-06,\n",
       " 9.928442434858175e-06,\n",
       " 9.899685000160022e-06,\n",
       " 9.901641528085655e-06,\n",
       " 9.885317868158427e-06,\n",
       " 9.889546868111574e-06,\n",
       " 9.879648411088573e-06,\n",
       " 9.866074269012972e-06,\n",
       " 9.867670961862588e-06,\n",
       " 9.840548519363664e-06,\n",
       " 9.805654044420233e-06,\n",
       " 9.8136302643812e-06,\n",
       " 9.786756695828952e-06,\n",
       " 9.766239886847815e-06,\n",
       " 9.770825305977548e-06,\n",
       " 9.787923796347163e-06,\n",
       " 9.768313825188687e-06,\n",
       " 9.772597094824053e-06,\n",
       " 9.7576299131986e-06,\n",
       " 9.796938402562593e-06,\n",
       " 9.859990308231872e-06,\n",
       " 9.838834899907733e-06,\n",
       " 9.842123477989764e-06,\n",
       " 9.866776944523373e-06,\n",
       " 9.867473525288298e-06,\n",
       " 9.866979004243448e-06,\n",
       " 9.857873124134842e-06,\n",
       " 9.881324323996327e-06,\n",
       " 9.877517700706084e-06,\n",
       " 9.854166970474226e-06,\n",
       " 9.860194217746676e-06,\n",
       " 9.842739680136543e-06,\n",
       " 9.865068973497908e-06,\n",
       " 9.90719162153077e-06,\n",
       " 9.904153871106974e-06,\n",
       " 9.92351364456233e-06,\n",
       " 9.952618111666277e-06,\n",
       " 9.971562382421907e-06,\n",
       " 9.941094665712964e-06,\n",
       " 9.954430295878476e-06,\n",
       " 9.94468967732127e-06,\n",
       " 9.939355757539617e-06,\n",
       " 9.940296678388993e-06,\n",
       " 9.93919535335927e-06,\n",
       " 9.898407416949523e-06,\n",
       " 9.91871693258249e-06,\n",
       " 9.925313358237823e-06,\n",
       " 9.948870733524292e-06,\n",
       " 9.936528111031371e-06,\n",
       " 9.932794278194086e-06,\n",
       " 9.94337523634017e-06,\n",
       " 9.981304559196266e-06,\n",
       " 9.923550216632365e-06,\n",
       " 9.871477393510934e-06,\n",
       " 9.929117654804215e-06,\n",
       " 9.918294322092242e-06,\n",
       " 9.958941535961157e-06,\n",
       " 9.948166233911571e-06,\n",
       " 9.899740963936275e-06,\n",
       " 9.902348558910248e-06,\n",
       " 9.903066079579362e-06,\n",
       " 9.912557275911062e-06,\n",
       " 9.886360296377048e-06,\n",
       " 9.92300581533051e-06,\n",
       " 9.894846518836198e-06,\n",
       " 9.909863723268935e-06,\n",
       " 9.941087955894392e-06,\n",
       " 9.926807950162582e-06,\n",
       " 9.912102655841475e-06,\n",
       " 9.935437164621764e-06,\n",
       " 9.923639301911075e-06,\n",
       " 9.912076015517453e-06,\n",
       " 9.90243293877753e-06,\n",
       " 9.92627122572605e-06,\n",
       " 9.89167924121578e-06,\n",
       " 9.979781990087522e-06,\n",
       " 9.991921940263273e-06,\n",
       " 9.94276604746611e-06,\n",
       " 9.96188135170765e-06]"
      ]
     },
     "execution_count": 47,
     "metadata": {},
     "output_type": "execute_result"
    }
   ],
   "source": [
    "ratio"
   ]
  },
  {
   "cell_type": "code",
   "execution_count": 38,
   "id": "9d784775-c421-4a4a-8f32-404dcaedc046",
   "metadata": {},
   "outputs": [
    {
     "data": {
      "text/plain": [
       "[<matplotlib.lines.Line2D at 0x7fa2e408ce50>]"
      ]
     },
     "execution_count": 38,
     "metadata": {},
     "output_type": "execute_result"
    },
    {
     "data": {
      "image/png": "[encoded data removed]",
      "text/plain": [
       "<Figure size 1080x288 with 1 Axes>"
      ]
     },
     "metadata": {
      "needs_background": "light"
     },
     "output_type": "display_data"
    }
   ],
   "source": [
    "d = pd.DataFrame(list(map(lambda x: float(x[4]), klines)), \n",
    "                  index=list(map(lambda x: datetime.fromtimestamp(x[0] / 1e3), klines)), \n",
    "                  columns=['price'])\n",
    "fig, ax = plt.subplots(figsize=(15,4))\n",
    "ax.plot(d.index, d.price)\n",
    "# ax.axvline(s-timedelta(hours=8))\n",
    "# ax.axvline(e-timedelta(hours=8))"
   ]
  },
  {
   "cell_type": "code",
   "execution_count": 20,
   "id": "7a386cd0-895e-4612-be23-9dae36a2abe2",
   "metadata": {},
   "outputs": [
    {
     "data": {
      "text/plain": [
       "'cos'"
      ]
     },
     "execution_count": 20,
     "metadata": {},
     "output_type": "execute_result"
    }
   ],
   "source": [
    "for trade in trades:\n",
    "    "
   ]
  },
  {
   "cell_type": "code",
   "execution_count": 5,
   "id": "2657304b-f65b-41e0-90b6-a9e627e99a0c",
   "metadata": {},
   "outputs": [],
   "source": [
    "all_assets = client.get_all_isolated_margin_symbols()\n",
    "all_assets = list(filter(lambda x: x['quote']==\"USDT\", all_assets))\n",
    "all_assets = list(filter(lambda x: x['isMarginTrade']==True, all_assets))\n",
    "all_assets = list(map(lambda x: x['base'], all_assets))"
   ]
  },
  {
   "cell_type": "code",
   "execution_count": 6,
   "id": "148c357b-d755-4673-aa4c-dbf8c56e98d8",
   "metadata": {},
   "outputs": [
    {
     "data": {
      "text/plain": [
       "['1INCH',\n",
       " 'AAVE',\n",
       " 'ADA',\n",
       " 'AGLD',\n",
       " 'AION',\n",
       " 'AKRO',\n",
       " 'ALCX',\n",
       " 'ALGO',\n",
       " 'ALICE',\n",
       " 'ALPACA',\n",
       " 'ALPHA',\n",
       " 'AMP',\n",
       " 'ANKR',\n",
       " 'ANT',\n",
       " 'ANY',\n",
       " 'ARDR',\n",
       " 'ARPA',\n",
       " 'AR',\n",
       " 'ATA',\n",
       " 'ATOM',\n",
       " 'AUDIO',\n",
       " 'AUD',\n",
       " 'AUTO',\n",
       " 'AVAX',\n",
       " 'AXS',\n",
       " 'BADGER',\n",
       " 'BAKE',\n",
       " 'BAL',\n",
       " 'BAND',\n",
       " 'BAT',\n",
       " 'BCH',\n",
       " 'BEAM',\n",
       " 'BEL',\n",
       " 'BETA',\n",
       " 'BICO',\n",
       " 'BLZ',\n",
       " 'BNB',\n",
       " 'BNT',\n",
       " 'BNX',\n",
       " 'BOND',\n",
       " 'BTCST',\n",
       " 'BTC',\n",
       " 'BTG',\n",
       " 'BTS',\n",
       " 'BTT',\n",
       " 'BURGER',\n",
       " 'BUSD',\n",
       " 'BZRX',\n",
       " 'C98',\n",
       " 'CAKE',\n",
       " 'CELO',\n",
       " 'CELR',\n",
       " 'CFX',\n",
       " 'CHESS',\n",
       " 'CHR',\n",
       " 'CHZ',\n",
       " 'CKB',\n",
       " 'CLV',\n",
       " 'COCOS',\n",
       " 'COMP',\n",
       " 'COS',\n",
       " 'COTI',\n",
       " 'CRV',\n",
       " 'CTK',\n",
       " 'CTSI',\n",
       " 'CTXC',\n",
       " 'CVC',\n",
       " 'CVP',\n",
       " 'CVX',\n",
       " 'DAR',\n",
       " 'DASH',\n",
       " 'DATA',\n",
       " 'DCR',\n",
       " 'DEGO',\n",
       " 'DENT',\n",
       " 'DEXE',\n",
       " 'DGB',\n",
       " 'DIA',\n",
       " 'DNT',\n",
       " 'DOCK',\n",
       " 'DODO',\n",
       " 'DOGE',\n",
       " 'DOT',\n",
       " 'DREP',\n",
       " 'DUSK',\n",
       " 'DYDX',\n",
       " 'EGLD',\n",
       " 'ELF',\n",
       " 'ENJ',\n",
       " 'ENS',\n",
       " 'EOS',\n",
       " 'EPS',\n",
       " 'ERN',\n",
       " 'ETC',\n",
       " 'ETH',\n",
       " 'EUR',\n",
       " 'FARM',\n",
       " 'FET',\n",
       " 'FIL',\n",
       " 'FIO',\n",
       " 'FIRO',\n",
       " 'FIS',\n",
       " 'FLM',\n",
       " 'FLOW',\n",
       " 'FLUX',\n",
       " 'FORTH',\n",
       " 'FOR',\n",
       " 'FTM',\n",
       " 'FTT',\n",
       " 'FUN',\n",
       " 'GALA',\n",
       " 'GBP',\n",
       " 'GNO',\n",
       " 'GRT',\n",
       " 'GTC',\n",
       " 'GTO',\n",
       " 'GXS',\n",
       " 'HARD',\n",
       " 'HBAR',\n",
       " 'HIGH',\n",
       " 'HIVE',\n",
       " 'HNT',\n",
       " 'HOT',\n",
       " 'ICP',\n",
       " 'ICX',\n",
       " 'IDEX',\n",
       " 'ILV',\n",
       " 'INJ',\n",
       " 'IOST',\n",
       " 'IOTA',\n",
       " 'IOTX',\n",
       " 'IRIS',\n",
       " 'JASMY',\n",
       " 'JST',\n",
       " 'KAVA',\n",
       " 'KEEP',\n",
       " 'KEY',\n",
       " 'KLAY',\n",
       " 'KMD',\n",
       " 'KNC',\n",
       " 'KP3R',\n",
       " 'KSM',\n",
       " 'LEND',\n",
       " 'LINA',\n",
       " 'LINK',\n",
       " 'LIT',\n",
       " 'LPT',\n",
       " 'LRC',\n",
       " 'LSK',\n",
       " 'LTC',\n",
       " 'LTO',\n",
       " 'LUNA',\n",
       " 'MANA',\n",
       " 'MASK',\n",
       " 'MATIC',\n",
       " 'MBL',\n",
       " 'MBOX',\n",
       " 'MC',\n",
       " 'MDT',\n",
       " 'MDX',\n",
       " 'MFT',\n",
       " 'MINA',\n",
       " 'MIR',\n",
       " 'MITH',\n",
       " 'MKR',\n",
       " 'MLN',\n",
       " 'MOVR',\n",
       " 'MTL',\n",
       " 'NANO',\n",
       " 'NBS',\n",
       " 'NEAR',\n",
       " 'NEO',\n",
       " 'NKN',\n",
       " 'NMR',\n",
       " 'NPXS',\n",
       " 'NULS',\n",
       " 'NU',\n",
       " 'OCEAN',\n",
       " 'OGN',\n",
       " 'OG',\n",
       " 'OMG',\n",
       " 'OM',\n",
       " 'ONE',\n",
       " 'ONG',\n",
       " 'ONT',\n",
       " 'OOKI',\n",
       " 'ORN',\n",
       " 'OXT',\n",
       " 'PAXG',\n",
       " 'PEOPLE',\n",
       " 'PERL',\n",
       " 'PERP',\n",
       " 'PHA',\n",
       " 'PLA',\n",
       " 'PNT',\n",
       " 'POLS',\n",
       " 'POLY',\n",
       " 'POND',\n",
       " 'POWR',\n",
       " 'PUNDIX',\n",
       " 'PYR',\n",
       " 'QI',\n",
       " 'QNT',\n",
       " 'QTUM',\n",
       " 'QUICK',\n",
       " 'RAD',\n",
       " 'RAMP',\n",
       " 'RARE',\n",
       " 'RAY',\n",
       " 'REEF',\n",
       " 'REN',\n",
       " 'REP',\n",
       " 'REQ',\n",
       " 'RGT',\n",
       " 'RLC',\n",
       " 'RNDR',\n",
       " 'ROSE',\n",
       " 'RSR',\n",
       " 'RUNE',\n",
       " 'RVN',\n",
       " 'SAND',\n",
       " 'SC',\n",
       " 'SFP',\n",
       " 'SHIB',\n",
       " 'SKL',\n",
       " 'SLP',\n",
       " 'SNX',\n",
       " 'SOL',\n",
       " 'SPELL',\n",
       " 'SRM',\n",
       " 'STMX',\n",
       " 'STORJ',\n",
       " 'STPT',\n",
       " 'STRAX',\n",
       " 'STX',\n",
       " 'SUN',\n",
       " 'SUPER',\n",
       " 'SUSHI',\n",
       " 'SXP',\n",
       " 'SYS',\n",
       " 'TCT',\n",
       " 'TFUEL',\n",
       " 'THETA',\n",
       " 'TKO',\n",
       " 'TLM',\n",
       " 'TOMO',\n",
       " 'TORN',\n",
       " 'TRB',\n",
       " 'TRIBE',\n",
       " 'TROY',\n",
       " 'TRU',\n",
       " 'TRX',\n",
       " 'TWT',\n",
       " 'UMA',\n",
       " 'UNFI',\n",
       " 'UNI',\n",
       " 'UTK',\n",
       " 'VET',\n",
       " 'VGX',\n",
       " 'VIDT',\n",
       " 'VITE',\n",
       " 'VOXEL',\n",
       " 'VTHO',\n",
       " 'WAN',\n",
       " 'WAVES',\n",
       " 'WAXP',\n",
       " 'WING',\n",
       " 'WIN',\n",
       " 'WNXM',\n",
       " 'WRX',\n",
       " 'WTC',\n",
       " 'XEC',\n",
       " 'XEM',\n",
       " 'XLM',\n",
       " 'XMR',\n",
       " 'XRP',\n",
       " 'XTZ',\n",
       " 'XVS',\n",
       " 'XZC',\n",
       " 'YFII',\n",
       " 'YFI',\n",
       " 'YGG',\n",
       " 'ZEC',\n",
       " 'ZEN',\n",
       " 'ZIL',\n",
       " 'ZRX']"
      ]
     },
     "execution_count": 6,
     "metadata": {},
     "output_type": "execute_result"
    }
   ],
   "source": [
    "if \"BTC\" in all_assets: all_assets.remove(\"BTC\")\n",
    "df = bdl.get_timeseries_data(\"BTCUSDT\").close.rename(\"btc\").to_frame()\n",
    "\n",
    "iteration = 0\n",
    "total = len(assets)\n",
    "\n",
    "for asset in assets:\n",
    "    if progress: ui.printProgressBar(iteration, total)\n",
    "    iteration += 1\n",
    "    time.sleep(sleep)\n",
    "\n",
    "    try:\n",
    "        new = (bdl.get_timeseries_data(asset+quote)['close']/df.btc).rename(asset.lower())\n",
    "        df = pd.concat([df, new], axis=1)\n",
    "    except:\n",
    "        print(f\"Warning: No symbol exists: {asset+quote}\")\n",
    "\n",
    "ui.printProgressBar(iteration, total)\n",
    "\n",
    "df.to_csv(PATH+BACKTESTING)\n",
    "\n",
    "return df"
   ]
  },
  {
   "cell_type": "code",
   "execution_count": null,
   "id": "eaaea0a4-f821-4861-a05f-326d5939fbd9",
   "metadata": {},
   "outputs": [],
   "source": []
  }
 ],
 "metadata": {
  "kernelspec": {
   "display_name": "Python 3 (ipykernel)",
   "language": "python",
   "name": "python3"
  },
  "language_info": {
   "codemirror_mode": {
    "name": "ipython",
    "version": 3
   },
   "file_extension": ".py",
   "mimetype": "text/x-python",
   "name": "python",
   "nbconvert_exporter": "python",
   "pygments_lexer": "ipython3",
   "version": "3.9.7"
  }
 },
 "nbformat": 4,
 "nbformat_minor": 5
}
