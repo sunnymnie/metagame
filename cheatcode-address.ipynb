{
 "cells": [
  {
   "cell_type": "markdown",
   "id": "cd8b1d60-ae8e-4fe2-a3bf-ee9cd61c47fd",
   "metadata": {},
   "source": [
    "# Cheatcode?\n",
    "https://twitter.com/cobie/status/1513874972552355846\n",
    "\n"
   ]
  },
  {
   "cell_type": "code",
   "execution_count": 1,
   "id": "af4e6cf7-7f67-4b7c-8e92-d70bdc16c504",
   "metadata": {},
   "outputs": [],
   "source": [
    "import pandas as pd\n",
    "import numpy as np\n",
    "import matplotlib.pyplot as plt"
   ]
  },
  {
   "cell_type": "code",
   "execution_count": 2,
   "id": "018df17f-dd00-4f40-a639-54dee92a3462",
   "metadata": {},
   "outputs": [],
   "source": [
    "df = pd.read_csv(\"data/dappradar.csv\")"
   ]
  },
  {
   "cell_type": "code",
   "execution_count": 11,
   "id": "9c6d7c89-3757-4987-a155-ac408e0b32b3",
   "metadata": {},
   "outputs": [],
   "source": [
    "def parse_float(s):\n",
    "    s = s.replace(\",\", \"\")\n",
    "    return float(s)"
   ]
  },
  {
   "cell_type": "code",
   "execution_count": 12,
   "id": "7d72334f-5542-418f-a5f0-13f3560e184e",
   "metadata": {},
   "outputs": [],
   "source": [
    "df[\"Quantity\"] = list(map(lambda x: parse_float(x), df[\"Quantity\"]))"
   ]
  },
  {
   "cell_type": "code",
   "execution_count": 17,
   "id": "16358984-9976-49ad-823e-4f87336c52b2",
   "metadata": {},
   "outputs": [
    {
     "data": {
      "text/html": [
       "<div>\n",
       "<style scoped>\n",
       "    .dataframe tbody tr th:only-of-type {\n",
       "        vertical-align: middle;\n",
       "    }\n",
       "\n",
       "    .dataframe tbody tr th {\n",
       "        vertical-align: top;\n",
       "    }\n",
       "\n",
       "    .dataframe thead th {\n",
       "        text-align: right;\n",
       "    }\n",
       "</style>\n",
       "<table border=\"1\" class=\"dataframe\">\n",
       "  <thead>\n",
       "    <tr style=\"text-align: right;\">\n",
       "      <th></th>\n",
       "      <th>Txhash</th>\n",
       "      <th>Blockno</th>\n",
       "      <th>UnixTimestamp</th>\n",
       "      <th>DateTime</th>\n",
       "      <th>From</th>\n",
       "      <th>To</th>\n",
       "      <th>Quantity</th>\n",
       "      <th>Method</th>\n",
       "    </tr>\n",
       "  </thead>\n",
       "  <tbody>\n",
       "    <tr>\n",
       "      <th>630</th>\n",
       "      <td>0xcfab6781178f5e6b27e715caa68d4da9b18b5496f795...</td>\n",
       "      <td>14565211</td>\n",
       "      <td>1649691013</td>\n",
       "      <td>2022-04-11 15:30:13</td>\n",
       "      <td>0x0000006daea1723962647b7e189d311d757fb793</td>\n",
       "      <td>0x0000f079e68bbcc79ab9600ace786b0a4db1c83c</td>\n",
       "      <td>3.331821e+06</td>\n",
       "      <td>-</td>\n",
       "    </tr>\n",
       "    <tr>\n",
       "      <th>631</th>\n",
       "      <td>0x29151656d5afc8b1e75607951d304f94a077e27eca19...</td>\n",
       "      <td>14565215</td>\n",
       "      <td>1649691090</td>\n",
       "      <td>2022-04-11 15:31:30</td>\n",
       "      <td>0x0000f079e68bbcc79ab9600ace786b0a4db1c83c</td>\n",
       "      <td>0x32d4703e5834f1b474b17dfdb0ac32cc22575145</td>\n",
       "      <td>3.331821e+06</td>\n",
       "      <td>Transfer</td>\n",
       "    </tr>\n",
       "    <tr>\n",
       "      <th>635</th>\n",
       "      <td>0x8402be1ce86faa6054e70e0e0273a14b5ea947e305a5...</td>\n",
       "      <td>14565394</td>\n",
       "      <td>1649693665</td>\n",
       "      <td>2022-04-11 16:14:25</td>\n",
       "      <td>0x32d4703e5834f1b474b17dfdb0ac32cc22575145</td>\n",
       "      <td>0xcffad3200574698b78f32232aa9d63eabd290703</td>\n",
       "      <td>3.331821e+06</td>\n",
       "      <td>Transfer</td>\n",
       "    </tr>\n",
       "    <tr>\n",
       "      <th>654</th>\n",
       "      <td>0x197643c25e7c74ddc1abf2cfe7510717fb88cc7002b3...</td>\n",
       "      <td>14566659</td>\n",
       "      <td>1649710964</td>\n",
       "      <td>2022-04-11 21:02:44</td>\n",
       "      <td>0x559ebe4e206e6b4d50e9bd3008cda7ce640c52cb</td>\n",
       "      <td>0x1c84a6d53f8950cd06a4016e5f547a089dd7b6fb</td>\n",
       "      <td>3.174238e+06</td>\n",
       "      <td>Swap Exact Tokens For Tokens</td>\n",
       "    </tr>\n",
       "    <tr>\n",
       "      <th>656</th>\n",
       "      <td>0x9effa5a3a843453839e0cd12d7de039cb37304afbdea...</td>\n",
       "      <td>14566660</td>\n",
       "      <td>1649711026</td>\n",
       "      <td>2022-04-11 21:03:46</td>\n",
       "      <td>0x0000006daea1723962647b7e189d311d757fb793</td>\n",
       "      <td>0x559ebe4e206e6b4d50e9bd3008cda7ce640c52cb</td>\n",
       "      <td>3.234649e+06</td>\n",
       "      <td>-</td>\n",
       "    </tr>\n",
       "    <tr>\n",
       "      <th>930</th>\n",
       "      <td>0x12ebc51ccf4de96984ce25ef77f6fe6a177e3cd3076d...</td>\n",
       "      <td>14570841</td>\n",
       "      <td>1649768607</td>\n",
       "      <td>2022-04-12 13:03:27</td>\n",
       "      <td>0x559ebe4e206e6b4d50e9bd3008cda7ce640c52cb</td>\n",
       "      <td>0xd9e1ce17f2641f24ae83637ab66a2cca9c378b9f</td>\n",
       "      <td>3.740478e+06</td>\n",
       "      <td>Remove Liquidity ETH</td>\n",
       "    </tr>\n",
       "    <tr>\n",
       "      <th>931</th>\n",
       "      <td>0x12ebc51ccf4de96984ce25ef77f6fe6a177e3cd3076d...</td>\n",
       "      <td>14570841</td>\n",
       "      <td>1649768607</td>\n",
       "      <td>2022-04-12 13:03:27</td>\n",
       "      <td>0xd9e1ce17f2641f24ae83637ab66a2cca9c378b9f</td>\n",
       "      <td>0xb413305c6211ffbc0926c6990de9f91c956b7fc2</td>\n",
       "      <td>3.740478e+06</td>\n",
       "      <td>Remove Liquidity ETH</td>\n",
       "    </tr>\n",
       "  </tbody>\n",
       "</table>\n",
       "</div>"
      ],
      "text/plain": [
       "                                                Txhash   Blockno  \\\n",
       "630  0xcfab6781178f5e6b27e715caa68d4da9b18b5496f795...  14565211   \n",
       "631  0x29151656d5afc8b1e75607951d304f94a077e27eca19...  14565215   \n",
       "635  0x8402be1ce86faa6054e70e0e0273a14b5ea947e305a5...  14565394   \n",
       "654  0x197643c25e7c74ddc1abf2cfe7510717fb88cc7002b3...  14566659   \n",
       "656  0x9effa5a3a843453839e0cd12d7de039cb37304afbdea...  14566660   \n",
       "930  0x12ebc51ccf4de96984ce25ef77f6fe6a177e3cd3076d...  14570841   \n",
       "931  0x12ebc51ccf4de96984ce25ef77f6fe6a177e3cd3076d...  14570841   \n",
       "\n",
       "     UnixTimestamp             DateTime  \\\n",
       "630     1649691013  2022-04-11 15:30:13   \n",
       "631     1649691090  2022-04-11 15:31:30   \n",
       "635     1649693665  2022-04-11 16:14:25   \n",
       "654     1649710964  2022-04-11 21:02:44   \n",
       "656     1649711026  2022-04-11 21:03:46   \n",
       "930     1649768607  2022-04-12 13:03:27   \n",
       "931     1649768607  2022-04-12 13:03:27   \n",
       "\n",
       "                                           From  \\\n",
       "630  0x0000006daea1723962647b7e189d311d757fb793   \n",
       "631  0x0000f079e68bbcc79ab9600ace786b0a4db1c83c   \n",
       "635  0x32d4703e5834f1b474b17dfdb0ac32cc22575145   \n",
       "654  0x559ebe4e206e6b4d50e9bd3008cda7ce640c52cb   \n",
       "656  0x0000006daea1723962647b7e189d311d757fb793   \n",
       "930  0x559ebe4e206e6b4d50e9bd3008cda7ce640c52cb   \n",
       "931  0xd9e1ce17f2641f24ae83637ab66a2cca9c378b9f   \n",
       "\n",
       "                                             To      Quantity  \\\n",
       "630  0x0000f079e68bbcc79ab9600ace786b0a4db1c83c  3.331821e+06   \n",
       "631  0x32d4703e5834f1b474b17dfdb0ac32cc22575145  3.331821e+06   \n",
       "635  0xcffad3200574698b78f32232aa9d63eabd290703  3.331821e+06   \n",
       "654  0x1c84a6d53f8950cd06a4016e5f547a089dd7b6fb  3.174238e+06   \n",
       "656  0x559ebe4e206e6b4d50e9bd3008cda7ce640c52cb  3.234649e+06   \n",
       "930  0xd9e1ce17f2641f24ae83637ab66a2cca9c378b9f  3.740478e+06   \n",
       "931  0xb413305c6211ffbc0926c6990de9f91c956b7fc2  3.740478e+06   \n",
       "\n",
       "                           Method  \n",
       "630                             -  \n",
       "631                      Transfer  \n",
       "635                      Transfer  \n",
       "654  Swap Exact Tokens For Tokens  \n",
       "656                             -  \n",
       "930          Remove Liquidity ETH  \n",
       "931          Remove Liquidity ETH  "
      ]
     },
     "execution_count": 17,
     "metadata": {},
     "output_type": "execute_result"
    }
   ],
   "source": [
    "df.loc[df.Quantity>3174000]"
   ]
  },
  {
   "cell_type": "code",
   "execution_count": 18,
   "id": "b6a4ad86-1125-473f-8dc1-083b9680328d",
   "metadata": {},
   "outputs": [
    {
     "data": {
      "text/plain": [
       "Txhash           0x197643c25e7c74ddc1abf2cfe7510717fb88cc7002b3...\n",
       "Blockno                                                   14566659\n",
       "UnixTimestamp                                           1649710964\n",
       "DateTime                                       2022-04-11 21:02:44\n",
       "From                    0x559ebe4e206e6b4d50e9bd3008cda7ce640c52cb\n",
       "To                      0x1c84a6d53f8950cd06a4016e5f547a089dd7b6fb\n",
       "Quantity                                            3174237.601376\n",
       "Method                                Swap Exact Tokens For Tokens\n",
       "Name: 654, dtype: object"
      ]
     },
     "execution_count": 18,
     "metadata": {},
     "output_type": "execute_result"
    }
   ],
   "source": [
    "df.loc[654]"
   ]
  },
  {
   "cell_type": "markdown",
   "id": "5f860427-c07d-40d0-84b4-4f0b10c730b1",
   "metadata": {},
   "source": [
    "## Address\n",
    "0x1C84a6d53F8950cd06a4016E5f547a089Dd7B6Fb"
   ]
  },
  {
   "cell_type": "code",
   "execution_count": null,
   "id": "5f38aa6d-a111-49cb-bb27-ebefe0922c6e",
   "metadata": {},
   "outputs": [],
   "source": []
  }
 ],
 "metadata": {
  "kernelspec": {
   "display_name": "Python 3 (ipykernel)",
   "language": "python",
   "name": "python3"
  },
  "language_info": {
   "codemirror_mode": {
    "name": "ipython",
    "version": 3
   },
   "file_extension": ".py",
   "mimetype": "text/x-python",
   "name": "python",
   "nbconvert_exporter": "python",
   "pygments_lexer": "ipython3",
   "version": "3.9.7"
  }
 },
 "nbformat": 4,
 "nbformat_minor": 5
}
